{
 "cells": [
  {
   "cell_type": "code",
   "execution_count": 36,
   "metadata": {},
   "outputs": [],
   "source": [
    "import pandas as pd\n",
    "import plotly.express as px\n",
    "import plotly.graph_objects as go\n",
    "import numpy as np"
   ]
  },
  {
   "cell_type": "code",
   "execution_count": 37,
   "metadata": {},
   "outputs": [
    {
     "data": {
      "text/html": [
       "<div>\n",
       "<style scoped>\n",
       "    .dataframe tbody tr th:only-of-type {\n",
       "        vertical-align: middle;\n",
       "    }\n",
       "\n",
       "    .dataframe tbody tr th {\n",
       "        vertical-align: top;\n",
       "    }\n",
       "\n",
       "    .dataframe thead th {\n",
       "        text-align: right;\n",
       "    }\n",
       "</style>\n",
       "<table border=\"1\" class=\"dataframe\">\n",
       "  <thead>\n",
       "    <tr style=\"text-align: right;\">\n",
       "      <th></th>\n",
       "      <th>round_num</th>\n",
       "      <th>voter</th>\n",
       "      <th>donated_usd</th>\n",
       "      <th>num_projects</th>\n",
       "    </tr>\n",
       "  </thead>\n",
       "  <tbody>\n",
       "    <tr>\n",
       "      <th>0</th>\n",
       "      <td>1</td>\n",
       "      <td>0x00de4b13153673bcae2616b67bf822500d325fc3</td>\n",
       "      <td>46.000000</td>\n",
       "      <td>3</td>\n",
       "    </tr>\n",
       "    <tr>\n",
       "      <th>1</th>\n",
       "      <td>1</td>\n",
       "      <td>0x09cabec1ead1c0ba254b09efb3ee13841712be14</td>\n",
       "      <td>4507.000000</td>\n",
       "      <td>15</td>\n",
       "    </tr>\n",
       "    <tr>\n",
       "      <th>2</th>\n",
       "      <td>1</td>\n",
       "      <td>0x11111254369792b2ca5d084ab5eea397ca8fa48b</td>\n",
       "      <td>110.000000</td>\n",
       "      <td>3</td>\n",
       "    </tr>\n",
       "    <tr>\n",
       "      <th>3</th>\n",
       "      <td>1</td>\n",
       "      <td>0x12dd91e8d046b225fb70d5c4cdb7831c886521ef</td>\n",
       "      <td>50.000000</td>\n",
       "      <td>1</td>\n",
       "    </tr>\n",
       "    <tr>\n",
       "      <th>4</th>\n",
       "      <td>1</td>\n",
       "      <td>0x14094949152eddbfcd073717200da82fed8dc960</td>\n",
       "      <td>3.050000</td>\n",
       "      <td>9</td>\n",
       "    </tr>\n",
       "    <tr>\n",
       "      <th>...</th>\n",
       "      <td>...</td>\n",
       "      <td>...</td>\n",
       "      <td>...</td>\n",
       "      <td>...</td>\n",
       "    </tr>\n",
       "    <tr>\n",
       "      <th>395828</th>\n",
       "      <td>19</td>\n",
       "      <td>0xfffcfe7a5d540e51ec8086af6d7c8a053beee592</td>\n",
       "      <td>11.255382</td>\n",
       "      <td>11</td>\n",
       "    </tr>\n",
       "    <tr>\n",
       "      <th>395829</th>\n",
       "      <td>19</td>\n",
       "      <td>0xfffd27e68da8ae553bc5c4b80c1e969fde023693</td>\n",
       "      <td>3.089099</td>\n",
       "      <td>3</td>\n",
       "    </tr>\n",
       "    <tr>\n",
       "      <th>395830</th>\n",
       "      <td>19</td>\n",
       "      <td>0xfffd95bc5a23de688b7f58c8a5e26c2696ff64eb</td>\n",
       "      <td>0.978136</td>\n",
       "      <td>1</td>\n",
       "    </tr>\n",
       "    <tr>\n",
       "      <th>395831</th>\n",
       "      <td>19</td>\n",
       "      <td>0xfffebd07cfe14b224598e21a6eb4ffa147f54e56</td>\n",
       "      <td>10.435431</td>\n",
       "      <td>10</td>\n",
       "    </tr>\n",
       "    <tr>\n",
       "      <th>395832</th>\n",
       "      <td>19</td>\n",
       "      <td>0xffff947266e5cb7307c7c4b2a93d9698c1d85d47</td>\n",
       "      <td>1.019358</td>\n",
       "      <td>1</td>\n",
       "    </tr>\n",
       "  </tbody>\n",
       "</table>\n",
       "<p>395833 rows × 4 columns</p>\n",
       "</div>"
      ],
      "text/plain": [
       "        round_num                                       voter  donated_usd  \\\n",
       "0               1  0x00de4b13153673bcae2616b67bf822500d325fc3    46.000000   \n",
       "1               1  0x09cabec1ead1c0ba254b09efb3ee13841712be14  4507.000000   \n",
       "2               1  0x11111254369792b2ca5d084ab5eea397ca8fa48b   110.000000   \n",
       "3               1  0x12dd91e8d046b225fb70d5c4cdb7831c886521ef    50.000000   \n",
       "4               1  0x14094949152eddbfcd073717200da82fed8dc960     3.050000   \n",
       "...           ...                                         ...          ...   \n",
       "395828         19  0xfffcfe7a5d540e51ec8086af6d7c8a053beee592    11.255382   \n",
       "395829         19  0xfffd27e68da8ae553bc5c4b80c1e969fde023693     3.089099   \n",
       "395830         19  0xfffd95bc5a23de688b7f58c8a5e26c2696ff64eb     0.978136   \n",
       "395831         19  0xfffebd07cfe14b224598e21a6eb4ffa147f54e56    10.435431   \n",
       "395832         19  0xffff947266e5cb7307c7c4b2a93d9698c1d85d47     1.019358   \n",
       "\n",
       "        num_projects  \n",
       "0                  3  \n",
       "1                 15  \n",
       "2                  3  \n",
       "3                  1  \n",
       "4                  9  \n",
       "...              ...  \n",
       "395828            11  \n",
       "395829             3  \n",
       "395830             1  \n",
       "395831            10  \n",
       "395832             1  \n",
       "\n",
       "[395833 rows x 4 columns]"
      ]
     },
     "execution_count": 37,
     "metadata": {},
     "output_type": "execute_result"
    }
   ],
   "source": [
    "gg_voters = pd.read_csv('data/gg_voters_summary_may23_2024.csv')\n",
    "gg_voters\n"
   ]
  },
  {
   "cell_type": "code",
   "execution_count": 38,
   "metadata": {},
   "outputs": [
    {
     "data": {
      "text/html": [
       "<div>\n",
       "<style scoped>\n",
       "    .dataframe tbody tr th:only-of-type {\n",
       "        vertical-align: middle;\n",
       "    }\n",
       "\n",
       "    .dataframe tbody tr th {\n",
       "        vertical-align: top;\n",
       "    }\n",
       "\n",
       "    .dataframe thead th {\n",
       "        text-align: right;\n",
       "    }\n",
       "</style>\n",
       "<table border=\"1\" class=\"dataframe\">\n",
       "  <thead>\n",
       "    <tr style=\"text-align: right;\">\n",
       "      <th></th>\n",
       "      <th>round_num</th>\n",
       "      <th>voter</th>\n",
       "      <th>donated_usd</th>\n",
       "      <th>num_projects</th>\n",
       "    </tr>\n",
       "  </thead>\n",
       "  <tbody>\n",
       "    <tr>\n",
       "      <th>0</th>\n",
       "      <td>20</td>\n",
       "      <td>0x000000000a38444e0a6e37d3b630d7e855a7cb13</td>\n",
       "      <td>21.904093</td>\n",
       "      <td>20</td>\n",
       "    </tr>\n",
       "    <tr>\n",
       "      <th>1</th>\n",
       "      <td>20</td>\n",
       "      <td>0x00000002d88f9b3f4eb303564817fff4adcde46f</td>\n",
       "      <td>38.985012</td>\n",
       "      <td>3</td>\n",
       "    </tr>\n",
       "    <tr>\n",
       "      <th>2</th>\n",
       "      <td>20</td>\n",
       "      <td>0x0000006d14ce3cf81449c3ba1f26108df0a4de8b</td>\n",
       "      <td>0.119688</td>\n",
       "      <td>1</td>\n",
       "    </tr>\n",
       "    <tr>\n",
       "      <th>3</th>\n",
       "      <td>20</td>\n",
       "      <td>0x000000df34e2422bb7744bc93ab7594d371e2d4e</td>\n",
       "      <td>1.614920</td>\n",
       "      <td>1</td>\n",
       "    </tr>\n",
       "    <tr>\n",
       "      <th>4</th>\n",
       "      <td>20</td>\n",
       "      <td>0x0000040f1111c5c3d2037940658ee770bb37e0a2</td>\n",
       "      <td>1.245631</td>\n",
       "      <td>1</td>\n",
       "    </tr>\n",
       "    <tr>\n",
       "      <th>...</th>\n",
       "      <td>...</td>\n",
       "      <td>...</td>\n",
       "      <td>...</td>\n",
       "      <td>...</td>\n",
       "    </tr>\n",
       "    <tr>\n",
       "      <th>34882</th>\n",
       "      <td>20</td>\n",
       "      <td>0xffe92bf689d7d2b7286e3c9ee34c89e24a4a3115</td>\n",
       "      <td>1.762367</td>\n",
       "      <td>1</td>\n",
       "    </tr>\n",
       "    <tr>\n",
       "      <th>34883</th>\n",
       "      <td>20</td>\n",
       "      <td>0xfff09621f09caa2c939386b688e62e5be19d2d56</td>\n",
       "      <td>14.969156</td>\n",
       "      <td>1</td>\n",
       "    </tr>\n",
       "    <tr>\n",
       "      <th>34884</th>\n",
       "      <td>20</td>\n",
       "      <td>0xfff401de598bd133cff26be5e79bbee4eed2a0e4</td>\n",
       "      <td>0.107024</td>\n",
       "      <td>1</td>\n",
       "    </tr>\n",
       "    <tr>\n",
       "      <th>34885</th>\n",
       "      <td>20</td>\n",
       "      <td>0xfff4a769b3ea7824f5f0100ccdfa585e1e34f4fd</td>\n",
       "      <td>0.451768</td>\n",
       "      <td>3</td>\n",
       "    </tr>\n",
       "    <tr>\n",
       "      <th>34886</th>\n",
       "      <td>20</td>\n",
       "      <td>0xfff9e8387f6ea2073d1c38b9571fe4aa55fd3ad8</td>\n",
       "      <td>10.596704</td>\n",
       "      <td>10</td>\n",
       "    </tr>\n",
       "  </tbody>\n",
       "</table>\n",
       "<p>34887 rows × 4 columns</p>\n",
       "</div>"
      ],
      "text/plain": [
       "       round_num                                       voter  donated_usd  \\\n",
       "0             20  0x000000000a38444e0a6e37d3b630d7e855a7cb13    21.904093   \n",
       "1             20  0x00000002d88f9b3f4eb303564817fff4adcde46f    38.985012   \n",
       "2             20  0x0000006d14ce3cf81449c3ba1f26108df0a4de8b     0.119688   \n",
       "3             20  0x000000df34e2422bb7744bc93ab7594d371e2d4e     1.614920   \n",
       "4             20  0x0000040f1111c5c3d2037940658ee770bb37e0a2     1.245631   \n",
       "...          ...                                         ...          ...   \n",
       "34882         20  0xffe92bf689d7d2b7286e3c9ee34c89e24a4a3115     1.762367   \n",
       "34883         20  0xfff09621f09caa2c939386b688e62e5be19d2d56    14.969156   \n",
       "34884         20  0xfff401de598bd133cff26be5e79bbee4eed2a0e4     0.107024   \n",
       "34885         20  0xfff4a769b3ea7824f5f0100ccdfa585e1e34f4fd     0.451768   \n",
       "34886         20  0xfff9e8387f6ea2073d1c38b9571fe4aa55fd3ad8    10.596704   \n",
       "\n",
       "       num_projects  \n",
       "0                20  \n",
       "1                 3  \n",
       "2                 1  \n",
       "3                 1  \n",
       "4                 1  \n",
       "...             ...  \n",
       "34882             1  \n",
       "34883             1  \n",
       "34884             1  \n",
       "34885             3  \n",
       "34886            10  \n",
       "\n",
       "[34887 rows x 4 columns]"
      ]
     },
     "execution_count": 38,
     "metadata": {},
     "output_type": "execute_result"
    }
   ],
   "source": [
    "gg20_voters = pd.read_csv('data/gg20_voter_summary_may23_2024.csv')\n",
    "gg20_voters\n"
   ]
  },
  {
   "cell_type": "code",
   "execution_count": 39,
   "metadata": {},
   "outputs": [
    {
     "name": "stdout",
     "output_type": "stream",
     "text": [
      "Total Unique Voters: 282,424\n",
      "Total Donated USD: $16,318,343.56\n",
      "Average Projects per Voter: 13.10\n",
      "Median Projects per Voter: 5.00\n",
      "Average Rounds per Voter: 1.52\n",
      "Median Rounds per Voter: 1.00\n",
      "Average Voter Value: $57.78\n",
      "Median Voter Value: $10.48\n"
     ]
    }
   ],
   "source": [
    "all_voters = pd.concat([gg_voters, gg20_voters])\n",
    "all_voters = all_voters[all_voters['voter'].str.startswith('0x') & (all_voters['voter'].str.len() == 42)]\n",
    "\n",
    "# Calculate the average and median lifetime voter value\n",
    "# Group by 'voter' and calculate the sum of 'donated_usd' and 'num_projects' for each voter\n",
    "voter_stats = all_voters.groupby('voter').agg({\n",
    "    'donated_usd': 'sum',\n",
    "    'num_projects': 'sum',\n",
    "    'round_num': 'nunique'\n",
    "}).reset_index()\n",
    "\n",
    "# Calculate the average and median lifetime voter value\n",
    "average_voter_value = voter_stats['donated_usd'].mean()\n",
    "median_voter_value = voter_stats['donated_usd'].median()\n",
    "\n",
    "\n",
    "# Calculate additional statistics for the voters\n",
    "# Calculate the total number of unique voters\n",
    "total_unique_voters = voter_stats['voter'].nunique()\n",
    "\n",
    "# Calculate the total donated amount\n",
    "total_donated_usd = voter_stats['donated_usd'].sum()\n",
    "\n",
    "# Calculate the average number of projects per voter\n",
    "average_projects_per_voter = voter_stats['num_projects'].mean()\n",
    "\n",
    "# Calculate the median number of projects per voter\n",
    "median_projects_per_voter = voter_stats['num_projects'].median()\n",
    "\n",
    "# Calculate the average number of unique rounds participated in per voter\n",
    "average_rounds_per_voter = voter_stats['round_num'].mean()\n",
    "\n",
    "# Calculate the median number of unique rounds participated in per voter\n",
    "median_rounds_per_voter = voter_stats['round_num'].median()\n",
    "\n",
    "# Display the additional statistics\n",
    "print(f\"Total Unique Voters: {total_unique_voters:,}\")\n",
    "print(f\"Total Donated USD: ${total_donated_usd:,.2f}\")\n",
    "print(f\"Average Projects per Voter: {average_projects_per_voter:.2f}\")\n",
    "print(f\"Median Projects per Voter: {median_projects_per_voter:.2f}\")\n",
    "print(f\"Average Rounds per Voter: {average_rounds_per_voter:.2f}\")\n",
    "print(f\"Median Rounds per Voter: {median_rounds_per_voter:.2f}\")\n",
    "print(f\"Average Voter Value: ${average_voter_value:,.2f}\")\n",
    "print(f\"Median Voter Value: ${median_voter_value:,.2f}\")\n",
    "\n"
   ]
  },
  {
   "cell_type": "code",
   "execution_count": 6,
   "metadata": {},
   "outputs": [
    {
     "data": {
      "application/vnd.plotly.v1+json": {
       "config": {
        "plotlyServerURL": "https://plot.ly"
       },
       "data": [
        {
         "line": {
          "color": "royalblue",
          "width": 2
         },
         "marker": {
          "size": 8
         },
         "mode": "lines+markers",
         "name": "Unique Voters",
         "type": "scatter",
         "x": [
          1,
          2,
          3,
          4,
          5,
          6,
          7,
          8,
          9,
          10,
          11,
          12,
          13,
          14,
          15,
          16,
          17,
          18,
          19,
          20
         ],
         "y": [
          41,
          103,
          324,
          660,
          883,
          850,
          1401,
          5350,
          17610,
          21870,
          23224,
          38670,
          25271,
          61838,
          58426,
          29369,
          17869,
          47454,
          44534,
          34887
         ],
         "yaxis": "y"
        },
        {
         "line": {
          "color": "firebrick",
          "width": 2
         },
         "marker": {
          "size": 8
         },
         "mode": "lines+markers",
         "name": "Average Donated USD",
         "type": "scatter",
         "x": [
          1,
          2,
          3,
          4,
          5,
          6,
          7,
          8,
          9,
          10,
          11,
          12,
          13,
          14,
          15,
          16,
          17,
          18,
          19,
          20
         ],
         "y": [
          457.5871452585366,
          807.8812082053349,
          291.9815124794178,
          157.26356755052163,
          101.33599093290923,
          244.95744597612784,
          218.95463139822388,
          105.1092566566203,
          73.4409664718553,
          52.13630217113803,
          70.00161758371976,
          82.7976875498881,
          57.17392373010349,
          27.75326485418254,
          22.149603179130185,
          22.63351072358737,
          33.43142147635234,
          14.089988629352215,
          13.536233028140073,
          17.23997161276896
         ],
         "yaxis": "y2"
        },
        {
         "line": {
          "color": "green",
          "width": 2
         },
         "marker": {
          "size": 8
         },
         "mode": "lines+markers",
         "name": "Median Donated USD",
         "type": "scatter",
         "x": [
          1,
          2,
          3,
          4,
          5,
          6,
          7,
          8,
          9,
          10,
          11,
          12,
          13,
          14,
          15,
          16,
          17,
          18,
          19,
          20
         ],
         "y": [
          40,
          30,
          17,
          18,
          10.12,
          19,
          21.93753025499036,
          5,
          9.024423383676812,
          10.009337923408825,
          21.64599760091422,
          15.446653784533908,
          13.230000000000002,
          9.733500000000005,
          6.377112000000002,
          12.277725,
          12.442125,
          7.483291279999999,
          6.8007348,
          4.926629
         ],
         "yaxis": "y2"
        }
       ],
       "layout": {
        "height": 600,
        "template": {
         "data": {
          "bar": [
           {
            "error_x": {
             "color": "#2a3f5f"
            },
            "error_y": {
             "color": "#2a3f5f"
            },
            "marker": {
             "line": {
              "color": "#E5ECF6",
              "width": 0.5
             },
             "pattern": {
              "fillmode": "overlay",
              "size": 10,
              "solidity": 0.2
             }
            },
            "type": "bar"
           }
          ],
          "barpolar": [
           {
            "marker": {
             "line": {
              "color": "#E5ECF6",
              "width": 0.5
             },
             "pattern": {
              "fillmode": "overlay",
              "size": 10,
              "solidity": 0.2
             }
            },
            "type": "barpolar"
           }
          ],
          "carpet": [
           {
            "aaxis": {
             "endlinecolor": "#2a3f5f",
             "gridcolor": "white",
             "linecolor": "white",
             "minorgridcolor": "white",
             "startlinecolor": "#2a3f5f"
            },
            "baxis": {
             "endlinecolor": "#2a3f5f",
             "gridcolor": "white",
             "linecolor": "white",
             "minorgridcolor": "white",
             "startlinecolor": "#2a3f5f"
            },
            "type": "carpet"
           }
          ],
          "choropleth": [
           {
            "colorbar": {
             "outlinewidth": 0,
             "ticks": ""
            },
            "type": "choropleth"
           }
          ],
          "contour": [
           {
            "colorbar": {
             "outlinewidth": 0,
             "ticks": ""
            },
            "colorscale": [
             [
              0,
              "#0d0887"
             ],
             [
              0.1111111111111111,
              "#46039f"
             ],
             [
              0.2222222222222222,
              "#7201a8"
             ],
             [
              0.3333333333333333,
              "#9c179e"
             ],
             [
              0.4444444444444444,
              "#bd3786"
             ],
             [
              0.5555555555555556,
              "#d8576b"
             ],
             [
              0.6666666666666666,
              "#ed7953"
             ],
             [
              0.7777777777777778,
              "#fb9f3a"
             ],
             [
              0.8888888888888888,
              "#fdca26"
             ],
             [
              1,
              "#f0f921"
             ]
            ],
            "type": "contour"
           }
          ],
          "contourcarpet": [
           {
            "colorbar": {
             "outlinewidth": 0,
             "ticks": ""
            },
            "type": "contourcarpet"
           }
          ],
          "heatmap": [
           {
            "colorbar": {
             "outlinewidth": 0,
             "ticks": ""
            },
            "colorscale": [
             [
              0,
              "#0d0887"
             ],
             [
              0.1111111111111111,
              "#46039f"
             ],
             [
              0.2222222222222222,
              "#7201a8"
             ],
             [
              0.3333333333333333,
              "#9c179e"
             ],
             [
              0.4444444444444444,
              "#bd3786"
             ],
             [
              0.5555555555555556,
              "#d8576b"
             ],
             [
              0.6666666666666666,
              "#ed7953"
             ],
             [
              0.7777777777777778,
              "#fb9f3a"
             ],
             [
              0.8888888888888888,
              "#fdca26"
             ],
             [
              1,
              "#f0f921"
             ]
            ],
            "type": "heatmap"
           }
          ],
          "heatmapgl": [
           {
            "colorbar": {
             "outlinewidth": 0,
             "ticks": ""
            },
            "colorscale": [
             [
              0,
              "#0d0887"
             ],
             [
              0.1111111111111111,
              "#46039f"
             ],
             [
              0.2222222222222222,
              "#7201a8"
             ],
             [
              0.3333333333333333,
              "#9c179e"
             ],
             [
              0.4444444444444444,
              "#bd3786"
             ],
             [
              0.5555555555555556,
              "#d8576b"
             ],
             [
              0.6666666666666666,
              "#ed7953"
             ],
             [
              0.7777777777777778,
              "#fb9f3a"
             ],
             [
              0.8888888888888888,
              "#fdca26"
             ],
             [
              1,
              "#f0f921"
             ]
            ],
            "type": "heatmapgl"
           }
          ],
          "histogram": [
           {
            "marker": {
             "pattern": {
              "fillmode": "overlay",
              "size": 10,
              "solidity": 0.2
             }
            },
            "type": "histogram"
           }
          ],
          "histogram2d": [
           {
            "colorbar": {
             "outlinewidth": 0,
             "ticks": ""
            },
            "colorscale": [
             [
              0,
              "#0d0887"
             ],
             [
              0.1111111111111111,
              "#46039f"
             ],
             [
              0.2222222222222222,
              "#7201a8"
             ],
             [
              0.3333333333333333,
              "#9c179e"
             ],
             [
              0.4444444444444444,
              "#bd3786"
             ],
             [
              0.5555555555555556,
              "#d8576b"
             ],
             [
              0.6666666666666666,
              "#ed7953"
             ],
             [
              0.7777777777777778,
              "#fb9f3a"
             ],
             [
              0.8888888888888888,
              "#fdca26"
             ],
             [
              1,
              "#f0f921"
             ]
            ],
            "type": "histogram2d"
           }
          ],
          "histogram2dcontour": [
           {
            "colorbar": {
             "outlinewidth": 0,
             "ticks": ""
            },
            "colorscale": [
             [
              0,
              "#0d0887"
             ],
             [
              0.1111111111111111,
              "#46039f"
             ],
             [
              0.2222222222222222,
              "#7201a8"
             ],
             [
              0.3333333333333333,
              "#9c179e"
             ],
             [
              0.4444444444444444,
              "#bd3786"
             ],
             [
              0.5555555555555556,
              "#d8576b"
             ],
             [
              0.6666666666666666,
              "#ed7953"
             ],
             [
              0.7777777777777778,
              "#fb9f3a"
             ],
             [
              0.8888888888888888,
              "#fdca26"
             ],
             [
              1,
              "#f0f921"
             ]
            ],
            "type": "histogram2dcontour"
           }
          ],
          "mesh3d": [
           {
            "colorbar": {
             "outlinewidth": 0,
             "ticks": ""
            },
            "type": "mesh3d"
           }
          ],
          "parcoords": [
           {
            "line": {
             "colorbar": {
              "outlinewidth": 0,
              "ticks": ""
             }
            },
            "type": "parcoords"
           }
          ],
          "pie": [
           {
            "automargin": true,
            "type": "pie"
           }
          ],
          "scatter": [
           {
            "fillpattern": {
             "fillmode": "overlay",
             "size": 10,
             "solidity": 0.2
            },
            "type": "scatter"
           }
          ],
          "scatter3d": [
           {
            "line": {
             "colorbar": {
              "outlinewidth": 0,
              "ticks": ""
             }
            },
            "marker": {
             "colorbar": {
              "outlinewidth": 0,
              "ticks": ""
             }
            },
            "type": "scatter3d"
           }
          ],
          "scattercarpet": [
           {
            "marker": {
             "colorbar": {
              "outlinewidth": 0,
              "ticks": ""
             }
            },
            "type": "scattercarpet"
           }
          ],
          "scattergeo": [
           {
            "marker": {
             "colorbar": {
              "outlinewidth": 0,
              "ticks": ""
             }
            },
            "type": "scattergeo"
           }
          ],
          "scattergl": [
           {
            "marker": {
             "colorbar": {
              "outlinewidth": 0,
              "ticks": ""
             }
            },
            "type": "scattergl"
           }
          ],
          "scattermapbox": [
           {
            "marker": {
             "colorbar": {
              "outlinewidth": 0,
              "ticks": ""
             }
            },
            "type": "scattermapbox"
           }
          ],
          "scatterpolar": [
           {
            "marker": {
             "colorbar": {
              "outlinewidth": 0,
              "ticks": ""
             }
            },
            "type": "scatterpolar"
           }
          ],
          "scatterpolargl": [
           {
            "marker": {
             "colorbar": {
              "outlinewidth": 0,
              "ticks": ""
             }
            },
            "type": "scatterpolargl"
           }
          ],
          "scatterternary": [
           {
            "marker": {
             "colorbar": {
              "outlinewidth": 0,
              "ticks": ""
             }
            },
            "type": "scatterternary"
           }
          ],
          "surface": [
           {
            "colorbar": {
             "outlinewidth": 0,
             "ticks": ""
            },
            "colorscale": [
             [
              0,
              "#0d0887"
             ],
             [
              0.1111111111111111,
              "#46039f"
             ],
             [
              0.2222222222222222,
              "#7201a8"
             ],
             [
              0.3333333333333333,
              "#9c179e"
             ],
             [
              0.4444444444444444,
              "#bd3786"
             ],
             [
              0.5555555555555556,
              "#d8576b"
             ],
             [
              0.6666666666666666,
              "#ed7953"
             ],
             [
              0.7777777777777778,
              "#fb9f3a"
             ],
             [
              0.8888888888888888,
              "#fdca26"
             ],
             [
              1,
              "#f0f921"
             ]
            ],
            "type": "surface"
           }
          ],
          "table": [
           {
            "cells": {
             "fill": {
              "color": "#EBF0F8"
             },
             "line": {
              "color": "white"
             }
            },
            "header": {
             "fill": {
              "color": "#C8D4E3"
             },
             "line": {
              "color": "white"
             }
            },
            "type": "table"
           }
          ]
         },
         "layout": {
          "annotationdefaults": {
           "arrowcolor": "#2a3f5f",
           "arrowhead": 0,
           "arrowwidth": 1
          },
          "autotypenumbers": "strict",
          "coloraxis": {
           "colorbar": {
            "outlinewidth": 0,
            "ticks": ""
           }
          },
          "colorscale": {
           "diverging": [
            [
             0,
             "#8e0152"
            ],
            [
             0.1,
             "#c51b7d"
            ],
            [
             0.2,
             "#de77ae"
            ],
            [
             0.3,
             "#f1b6da"
            ],
            [
             0.4,
             "#fde0ef"
            ],
            [
             0.5,
             "#f7f7f7"
            ],
            [
             0.6,
             "#e6f5d0"
            ],
            [
             0.7,
             "#b8e186"
            ],
            [
             0.8,
             "#7fbc41"
            ],
            [
             0.9,
             "#4d9221"
            ],
            [
             1,
             "#276419"
            ]
           ],
           "sequential": [
            [
             0,
             "#0d0887"
            ],
            [
             0.1111111111111111,
             "#46039f"
            ],
            [
             0.2222222222222222,
             "#7201a8"
            ],
            [
             0.3333333333333333,
             "#9c179e"
            ],
            [
             0.4444444444444444,
             "#bd3786"
            ],
            [
             0.5555555555555556,
             "#d8576b"
            ],
            [
             0.6666666666666666,
             "#ed7953"
            ],
            [
             0.7777777777777778,
             "#fb9f3a"
            ],
            [
             0.8888888888888888,
             "#fdca26"
            ],
            [
             1,
             "#f0f921"
            ]
           ],
           "sequentialminus": [
            [
             0,
             "#0d0887"
            ],
            [
             0.1111111111111111,
             "#46039f"
            ],
            [
             0.2222222222222222,
             "#7201a8"
            ],
            [
             0.3333333333333333,
             "#9c179e"
            ],
            [
             0.4444444444444444,
             "#bd3786"
            ],
            [
             0.5555555555555556,
             "#d8576b"
            ],
            [
             0.6666666666666666,
             "#ed7953"
            ],
            [
             0.7777777777777778,
             "#fb9f3a"
            ],
            [
             0.8888888888888888,
             "#fdca26"
            ],
            [
             1,
             "#f0f921"
            ]
           ]
          },
          "colorway": [
           "#636efa",
           "#EF553B",
           "#00cc96",
           "#ab63fa",
           "#FFA15A",
           "#19d3f3",
           "#FF6692",
           "#B6E880",
           "#FF97FF",
           "#FECB52"
          ],
          "font": {
           "color": "#2a3f5f"
          },
          "geo": {
           "bgcolor": "white",
           "lakecolor": "white",
           "landcolor": "#E5ECF6",
           "showlakes": true,
           "showland": true,
           "subunitcolor": "white"
          },
          "hoverlabel": {
           "align": "left"
          },
          "hovermode": "closest",
          "mapbox": {
           "style": "light"
          },
          "paper_bgcolor": "white",
          "plot_bgcolor": "#E5ECF6",
          "polar": {
           "angularaxis": {
            "gridcolor": "white",
            "linecolor": "white",
            "ticks": ""
           },
           "bgcolor": "#E5ECF6",
           "radialaxis": {
            "gridcolor": "white",
            "linecolor": "white",
            "ticks": ""
           }
          },
          "scene": {
           "xaxis": {
            "backgroundcolor": "#E5ECF6",
            "gridcolor": "white",
            "gridwidth": 2,
            "linecolor": "white",
            "showbackground": true,
            "ticks": "",
            "zerolinecolor": "white"
           },
           "yaxis": {
            "backgroundcolor": "#E5ECF6",
            "gridcolor": "white",
            "gridwidth": 2,
            "linecolor": "white",
            "showbackground": true,
            "ticks": "",
            "zerolinecolor": "white"
           },
           "zaxis": {
            "backgroundcolor": "#E5ECF6",
            "gridcolor": "white",
            "gridwidth": 2,
            "linecolor": "white",
            "showbackground": true,
            "ticks": "",
            "zerolinecolor": "white"
           }
          },
          "shapedefaults": {
           "line": {
            "color": "#2a3f5f"
           }
          },
          "ternary": {
           "aaxis": {
            "gridcolor": "white",
            "linecolor": "white",
            "ticks": ""
           },
           "baxis": {
            "gridcolor": "white",
            "linecolor": "white",
            "ticks": ""
           },
           "bgcolor": "#E5ECF6",
           "caxis": {
            "gridcolor": "white",
            "linecolor": "white",
            "ticks": ""
           }
          },
          "title": {
           "x": 0.05
          },
          "xaxis": {
           "automargin": true,
           "gridcolor": "white",
           "linecolor": "white",
           "ticks": "",
           "title": {
            "standoff": 15
           },
           "zerolinecolor": "white",
           "zerolinewidth": 2
          },
          "yaxis": {
           "automargin": true,
           "gridcolor": "white",
           "linecolor": "white",
           "ticks": "",
           "title": {
            "standoff": 15
           },
           "zerolinecolor": "white",
           "zerolinewidth": 2
          }
         }
        },
        "title": {
         "text": "Voter Statistics by Round Number",
         "x": 0.5
        },
        "width": 1000,
        "xaxis": {
         "showline": true,
         "tickmode": "linear",
         "title": {
          "font": {
           "color": "black",
           "size": 14
          },
          "text": "Round Number"
         }
        },
        "yaxis": {
         "showline": true,
         "side": "left",
         "title": {
          "font": {
           "color": "royalblue",
           "size": 14
          },
          "text": "Number of Unique Voters"
         }
        },
        "yaxis2": {
         "overlaying": "y",
         "side": "right",
         "title": {
          "font": {
           "color": "firebrick",
           "size": 14
          },
          "text": "Donated USD"
         }
        }
       }
      }
     },
     "metadata": {},
     "output_type": "display_data"
    }
   ],
   "source": [
    "import plotly.graph_objects as go\n",
    "\n",
    "# Group by 'round_num' and calculate the required statistics\n",
    "round_stats = all_voters.groupby('round_num').agg({\n",
    "    'voter': 'nunique',\n",
    "    'donated_usd': ['mean', 'median']\n",
    "}).reset_index()\n",
    "\n",
    "# Flatten the MultiIndex columns\n",
    "round_stats.columns = ['round_num', 'unique_voters', 'average_donated_usd', 'median_donated_usd']\n",
    "\n",
    "# Create a figure\n",
    "fig = go.Figure()\n",
    "\n",
    "# Plot number of unique voters\n",
    "fig.add_trace(go.Scatter(\n",
    "    x=round_stats['round_num'], \n",
    "    y=round_stats['unique_voters'], \n",
    "    mode='lines+markers', \n",
    "    name='Unique Voters',\n",
    "    line=dict(color='royalblue', width=2),\n",
    "    marker=dict(size=8),\n",
    "    yaxis='y1'\n",
    "))\n",
    "\n",
    "# Plot average donated USD\n",
    "fig.add_trace(go.Scatter(\n",
    "    x=round_stats['round_num'], \n",
    "    y=round_stats['average_donated_usd'], \n",
    "    mode='lines+markers', \n",
    "    name='Average Donated USD',\n",
    "    line=dict(color='firebrick', width=2),\n",
    "    marker=dict(size=8),\n",
    "    yaxis='y2'\n",
    "))\n",
    "\n",
    "# Plot median donated USD\n",
    "fig.add_trace(go.Scatter(\n",
    "    x=round_stats['round_num'], \n",
    "    y=round_stats['median_donated_usd'], \n",
    "    mode='lines+markers', \n",
    "    name='Median Donated USD',\n",
    "    line=dict(color='green', width=2),\n",
    "    marker=dict(size=8),\n",
    "    yaxis='y2'\n",
    "))\n",
    "\n",
    "# Update layout for dual y-axes\n",
    "fig.update_layout(\n",
    "    height=600, \n",
    "    width=1000, \n",
    "    title_text=\"Voter Statistics by Round Number\",\n",
    "    title_x=0.5,\n",
    "    xaxis=dict(\n",
    "        title=\"Round Number\",\n",
    "        titlefont=dict(size=14, color='black'),\n",
    "        tickmode='linear',\n",
    "        showline=True,\n",
    "    ),\n",
    "    yaxis=dict(\n",
    "        title=\"Number of Unique Voters\",\n",
    "        titlefont=dict(size=14, color='royalblue'),\n",
    "        showline=True,\n",
    "        side='left'\n",
    "    ),\n",
    "    yaxis2=dict(\n",
    "        title=\"Donated USD\",\n",
    "        titlefont=dict(size=14, color='firebrick'),\n",
    "        overlaying='y',\n",
    "        side='right'\n",
    "    )\n",
    ")\n",
    "\n",
    "# Show the figure\n",
    "fig.show()\n"
   ]
  },
  {
   "cell_type": "code",
   "execution_count": 7,
   "metadata": {},
   "outputs": [
    {
     "data": {
      "application/vnd.plotly.v1+json": {
       "config": {
        "plotlyServerURL": "https://plot.ly"
       },
       "data": [
        {
         "line": {
          "color": "royalblue",
          "width": 2
         },
         "marker": {
          "size": 8
         },
         "mode": "lines+markers",
         "name": "Average Voter Value",
         "type": "scatter",
         "x": [
          1,
          2,
          3,
          4,
          5,
          6
         ],
         "y": [
          29.99443518762576,
          77.24317720484329,
          104.68798774587978,
          244.4044160536179,
          236.06388826764436,
          419.03524902326575
         ]
        },
        {
         "line": {
          "color": "firebrick",
          "width": 2
         },
         "marker": {
          "size": 8
         },
         "mode": "lines+markers",
         "name": "Median Voter Value",
         "type": "scatter",
         "x": [
          1,
          2,
          3,
          4,
          5,
          6
         ],
         "y": [
          6.15064963157325,
          21.4162972,
          42.8887996,
          66.4538045495786,
          103.31001124262528,
          187.46929416085695
         ]
        }
       ],
       "layout": {
        "height": 600,
        "legend": {
         "bgcolor": "rgba(255, 255, 255, 0)",
         "bordercolor": "rgba(255, 255, 255, 0)",
         "x": 0.01,
         "y": 0.99
        },
        "margin": {
         "b": 50,
         "l": 50,
         "r": 50,
         "t": 50
        },
        "plot_bgcolor": "white",
        "template": {
         "data": {
          "bar": [
           {
            "error_x": {
             "color": "#2a3f5f"
            },
            "error_y": {
             "color": "#2a3f5f"
            },
            "marker": {
             "line": {
              "color": "#E5ECF6",
              "width": 0.5
             },
             "pattern": {
              "fillmode": "overlay",
              "size": 10,
              "solidity": 0.2
             }
            },
            "type": "bar"
           }
          ],
          "barpolar": [
           {
            "marker": {
             "line": {
              "color": "#E5ECF6",
              "width": 0.5
             },
             "pattern": {
              "fillmode": "overlay",
              "size": 10,
              "solidity": 0.2
             }
            },
            "type": "barpolar"
           }
          ],
          "carpet": [
           {
            "aaxis": {
             "endlinecolor": "#2a3f5f",
             "gridcolor": "white",
             "linecolor": "white",
             "minorgridcolor": "white",
             "startlinecolor": "#2a3f5f"
            },
            "baxis": {
             "endlinecolor": "#2a3f5f",
             "gridcolor": "white",
             "linecolor": "white",
             "minorgridcolor": "white",
             "startlinecolor": "#2a3f5f"
            },
            "type": "carpet"
           }
          ],
          "choropleth": [
           {
            "colorbar": {
             "outlinewidth": 0,
             "ticks": ""
            },
            "type": "choropleth"
           }
          ],
          "contour": [
           {
            "colorbar": {
             "outlinewidth": 0,
             "ticks": ""
            },
            "colorscale": [
             [
              0,
              "#0d0887"
             ],
             [
              0.1111111111111111,
              "#46039f"
             ],
             [
              0.2222222222222222,
              "#7201a8"
             ],
             [
              0.3333333333333333,
              "#9c179e"
             ],
             [
              0.4444444444444444,
              "#bd3786"
             ],
             [
              0.5555555555555556,
              "#d8576b"
             ],
             [
              0.6666666666666666,
              "#ed7953"
             ],
             [
              0.7777777777777778,
              "#fb9f3a"
             ],
             [
              0.8888888888888888,
              "#fdca26"
             ],
             [
              1,
              "#f0f921"
             ]
            ],
            "type": "contour"
           }
          ],
          "contourcarpet": [
           {
            "colorbar": {
             "outlinewidth": 0,
             "ticks": ""
            },
            "type": "contourcarpet"
           }
          ],
          "heatmap": [
           {
            "colorbar": {
             "outlinewidth": 0,
             "ticks": ""
            },
            "colorscale": [
             [
              0,
              "#0d0887"
             ],
             [
              0.1111111111111111,
              "#46039f"
             ],
             [
              0.2222222222222222,
              "#7201a8"
             ],
             [
              0.3333333333333333,
              "#9c179e"
             ],
             [
              0.4444444444444444,
              "#bd3786"
             ],
             [
              0.5555555555555556,
              "#d8576b"
             ],
             [
              0.6666666666666666,
              "#ed7953"
             ],
             [
              0.7777777777777778,
              "#fb9f3a"
             ],
             [
              0.8888888888888888,
              "#fdca26"
             ],
             [
              1,
              "#f0f921"
             ]
            ],
            "type": "heatmap"
           }
          ],
          "heatmapgl": [
           {
            "colorbar": {
             "outlinewidth": 0,
             "ticks": ""
            },
            "colorscale": [
             [
              0,
              "#0d0887"
             ],
             [
              0.1111111111111111,
              "#46039f"
             ],
             [
              0.2222222222222222,
              "#7201a8"
             ],
             [
              0.3333333333333333,
              "#9c179e"
             ],
             [
              0.4444444444444444,
              "#bd3786"
             ],
             [
              0.5555555555555556,
              "#d8576b"
             ],
             [
              0.6666666666666666,
              "#ed7953"
             ],
             [
              0.7777777777777778,
              "#fb9f3a"
             ],
             [
              0.8888888888888888,
              "#fdca26"
             ],
             [
              1,
              "#f0f921"
             ]
            ],
            "type": "heatmapgl"
           }
          ],
          "histogram": [
           {
            "marker": {
             "pattern": {
              "fillmode": "overlay",
              "size": 10,
              "solidity": 0.2
             }
            },
            "type": "histogram"
           }
          ],
          "histogram2d": [
           {
            "colorbar": {
             "outlinewidth": 0,
             "ticks": ""
            },
            "colorscale": [
             [
              0,
              "#0d0887"
             ],
             [
              0.1111111111111111,
              "#46039f"
             ],
             [
              0.2222222222222222,
              "#7201a8"
             ],
             [
              0.3333333333333333,
              "#9c179e"
             ],
             [
              0.4444444444444444,
              "#bd3786"
             ],
             [
              0.5555555555555556,
              "#d8576b"
             ],
             [
              0.6666666666666666,
              "#ed7953"
             ],
             [
              0.7777777777777778,
              "#fb9f3a"
             ],
             [
              0.8888888888888888,
              "#fdca26"
             ],
             [
              1,
              "#f0f921"
             ]
            ],
            "type": "histogram2d"
           }
          ],
          "histogram2dcontour": [
           {
            "colorbar": {
             "outlinewidth": 0,
             "ticks": ""
            },
            "colorscale": [
             [
              0,
              "#0d0887"
             ],
             [
              0.1111111111111111,
              "#46039f"
             ],
             [
              0.2222222222222222,
              "#7201a8"
             ],
             [
              0.3333333333333333,
              "#9c179e"
             ],
             [
              0.4444444444444444,
              "#bd3786"
             ],
             [
              0.5555555555555556,
              "#d8576b"
             ],
             [
              0.6666666666666666,
              "#ed7953"
             ],
             [
              0.7777777777777778,
              "#fb9f3a"
             ],
             [
              0.8888888888888888,
              "#fdca26"
             ],
             [
              1,
              "#f0f921"
             ]
            ],
            "type": "histogram2dcontour"
           }
          ],
          "mesh3d": [
           {
            "colorbar": {
             "outlinewidth": 0,
             "ticks": ""
            },
            "type": "mesh3d"
           }
          ],
          "parcoords": [
           {
            "line": {
             "colorbar": {
              "outlinewidth": 0,
              "ticks": ""
             }
            },
            "type": "parcoords"
           }
          ],
          "pie": [
           {
            "automargin": true,
            "type": "pie"
           }
          ],
          "scatter": [
           {
            "fillpattern": {
             "fillmode": "overlay",
             "size": 10,
             "solidity": 0.2
            },
            "type": "scatter"
           }
          ],
          "scatter3d": [
           {
            "line": {
             "colorbar": {
              "outlinewidth": 0,
              "ticks": ""
             }
            },
            "marker": {
             "colorbar": {
              "outlinewidth": 0,
              "ticks": ""
             }
            },
            "type": "scatter3d"
           }
          ],
          "scattercarpet": [
           {
            "marker": {
             "colorbar": {
              "outlinewidth": 0,
              "ticks": ""
             }
            },
            "type": "scattercarpet"
           }
          ],
          "scattergeo": [
           {
            "marker": {
             "colorbar": {
              "outlinewidth": 0,
              "ticks": ""
             }
            },
            "type": "scattergeo"
           }
          ],
          "scattergl": [
           {
            "marker": {
             "colorbar": {
              "outlinewidth": 0,
              "ticks": ""
             }
            },
            "type": "scattergl"
           }
          ],
          "scattermapbox": [
           {
            "marker": {
             "colorbar": {
              "outlinewidth": 0,
              "ticks": ""
             }
            },
            "type": "scattermapbox"
           }
          ],
          "scatterpolar": [
           {
            "marker": {
             "colorbar": {
              "outlinewidth": 0,
              "ticks": ""
             }
            },
            "type": "scatterpolar"
           }
          ],
          "scatterpolargl": [
           {
            "marker": {
             "colorbar": {
              "outlinewidth": 0,
              "ticks": ""
             }
            },
            "type": "scatterpolargl"
           }
          ],
          "scatterternary": [
           {
            "marker": {
             "colorbar": {
              "outlinewidth": 0,
              "ticks": ""
             }
            },
            "type": "scatterternary"
           }
          ],
          "surface": [
           {
            "colorbar": {
             "outlinewidth": 0,
             "ticks": ""
            },
            "colorscale": [
             [
              0,
              "#0d0887"
             ],
             [
              0.1111111111111111,
              "#46039f"
             ],
             [
              0.2222222222222222,
              "#7201a8"
             ],
             [
              0.3333333333333333,
              "#9c179e"
             ],
             [
              0.4444444444444444,
              "#bd3786"
             ],
             [
              0.5555555555555556,
              "#d8576b"
             ],
             [
              0.6666666666666666,
              "#ed7953"
             ],
             [
              0.7777777777777778,
              "#fb9f3a"
             ],
             [
              0.8888888888888888,
              "#fdca26"
             ],
             [
              1,
              "#f0f921"
             ]
            ],
            "type": "surface"
           }
          ],
          "table": [
           {
            "cells": {
             "fill": {
              "color": "#EBF0F8"
             },
             "line": {
              "color": "white"
             }
            },
            "header": {
             "fill": {
              "color": "#C8D4E3"
             },
             "line": {
              "color": "white"
             }
            },
            "type": "table"
           }
          ]
         },
         "layout": {
          "annotationdefaults": {
           "arrowcolor": "#2a3f5f",
           "arrowhead": 0,
           "arrowwidth": 1
          },
          "autotypenumbers": "strict",
          "coloraxis": {
           "colorbar": {
            "outlinewidth": 0,
            "ticks": ""
           }
          },
          "colorscale": {
           "diverging": [
            [
             0,
             "#8e0152"
            ],
            [
             0.1,
             "#c51b7d"
            ],
            [
             0.2,
             "#de77ae"
            ],
            [
             0.3,
             "#f1b6da"
            ],
            [
             0.4,
             "#fde0ef"
            ],
            [
             0.5,
             "#f7f7f7"
            ],
            [
             0.6,
             "#e6f5d0"
            ],
            [
             0.7,
             "#b8e186"
            ],
            [
             0.8,
             "#7fbc41"
            ],
            [
             0.9,
             "#4d9221"
            ],
            [
             1,
             "#276419"
            ]
           ],
           "sequential": [
            [
             0,
             "#0d0887"
            ],
            [
             0.1111111111111111,
             "#46039f"
            ],
            [
             0.2222222222222222,
             "#7201a8"
            ],
            [
             0.3333333333333333,
             "#9c179e"
            ],
            [
             0.4444444444444444,
             "#bd3786"
            ],
            [
             0.5555555555555556,
             "#d8576b"
            ],
            [
             0.6666666666666666,
             "#ed7953"
            ],
            [
             0.7777777777777778,
             "#fb9f3a"
            ],
            [
             0.8888888888888888,
             "#fdca26"
            ],
            [
             1,
             "#f0f921"
            ]
           ],
           "sequentialminus": [
            [
             0,
             "#0d0887"
            ],
            [
             0.1111111111111111,
             "#46039f"
            ],
            [
             0.2222222222222222,
             "#7201a8"
            ],
            [
             0.3333333333333333,
             "#9c179e"
            ],
            [
             0.4444444444444444,
             "#bd3786"
            ],
            [
             0.5555555555555556,
             "#d8576b"
            ],
            [
             0.6666666666666666,
             "#ed7953"
            ],
            [
             0.7777777777777778,
             "#fb9f3a"
            ],
            [
             0.8888888888888888,
             "#fdca26"
            ],
            [
             1,
             "#f0f921"
            ]
           ]
          },
          "colorway": [
           "#636efa",
           "#EF553B",
           "#00cc96",
           "#ab63fa",
           "#FFA15A",
           "#19d3f3",
           "#FF6692",
           "#B6E880",
           "#FF97FF",
           "#FECB52"
          ],
          "font": {
           "color": "#2a3f5f"
          },
          "geo": {
           "bgcolor": "white",
           "lakecolor": "white",
           "landcolor": "#E5ECF6",
           "showlakes": true,
           "showland": true,
           "subunitcolor": "white"
          },
          "hoverlabel": {
           "align": "left"
          },
          "hovermode": "closest",
          "mapbox": {
           "style": "light"
          },
          "paper_bgcolor": "white",
          "plot_bgcolor": "#E5ECF6",
          "polar": {
           "angularaxis": {
            "gridcolor": "white",
            "linecolor": "white",
            "ticks": ""
           },
           "bgcolor": "#E5ECF6",
           "radialaxis": {
            "gridcolor": "white",
            "linecolor": "white",
            "ticks": ""
           }
          },
          "scene": {
           "xaxis": {
            "backgroundcolor": "#E5ECF6",
            "gridcolor": "white",
            "gridwidth": 2,
            "linecolor": "white",
            "showbackground": true,
            "ticks": "",
            "zerolinecolor": "white"
           },
           "yaxis": {
            "backgroundcolor": "#E5ECF6",
            "gridcolor": "white",
            "gridwidth": 2,
            "linecolor": "white",
            "showbackground": true,
            "ticks": "",
            "zerolinecolor": "white"
           },
           "zaxis": {
            "backgroundcolor": "#E5ECF6",
            "gridcolor": "white",
            "gridwidth": 2,
            "linecolor": "white",
            "showbackground": true,
            "ticks": "",
            "zerolinecolor": "white"
           }
          },
          "shapedefaults": {
           "line": {
            "color": "#2a3f5f"
           }
          },
          "ternary": {
           "aaxis": {
            "gridcolor": "white",
            "linecolor": "white",
            "ticks": ""
           },
           "baxis": {
            "gridcolor": "white",
            "linecolor": "white",
            "ticks": ""
           },
           "bgcolor": "#E5ECF6",
           "caxis": {
            "gridcolor": "white",
            "linecolor": "white",
            "ticks": ""
           }
          },
          "title": {
           "x": 0.05
          },
          "xaxis": {
           "automargin": true,
           "gridcolor": "white",
           "linecolor": "white",
           "ticks": "",
           "title": {
            "standoff": 15
           },
           "zerolinecolor": "white",
           "zerolinewidth": 2
          },
          "yaxis": {
           "automargin": true,
           "gridcolor": "white",
           "linecolor": "white",
           "ticks": "",
           "title": {
            "standoff": 15
           },
           "zerolinecolor": "white",
           "zerolinewidth": 2
          }
         }
        },
        "title": {
         "text": "Voter Statistics by Round Group",
         "x": 0.5
        },
        "width": 1000,
        "xaxis": {
         "linecolor": "black",
         "linewidth": 2,
         "showgrid": false,
         "showline": true,
         "tickmode": "linear",
         "title": {
          "font": {
           "color": "black",
           "size": 14
          },
          "text": "Number of Rounds"
         }
        },
        "yaxis": {
         "linecolor": "black",
         "linewidth": 2,
         "showgrid": false,
         "showline": true,
         "tickfont": {
          "color": "black"
         },
         "title": {
          "font": {
           "color": "black",
           "size": 14
          },
          "text": "Value in USD"
         }
        }
       }
      }
     },
     "metadata": {},
     "output_type": "display_data"
    }
   ],
   "source": [
    "import plotly.graph_objects as go\n",
    "\n",
    "# Group round_num > 5 into a 6+ group\n",
    "voter_stats['round_group'] = voter_stats['round_num'].apply(lambda x: x if x <= 5 else 6)\n",
    "\n",
    "# Calculate average and median voter value for each round group\n",
    "average_voter_value_per_round = voter_stats.groupby('round_group')['donated_usd'].mean()\n",
    "median_voter_value_per_round = voter_stats.groupby('round_group')['donated_usd'].median()\n",
    "\n",
    "# Calculate the number of voters in each round group\n",
    "voters_per_round_group = voter_stats['round_group'].value_counts().sort_index()\n",
    "\n",
    "# Create a figure\n",
    "fig = go.Figure()\n",
    "\n",
    "# Plot average voter value\n",
    "fig.add_trace(go.Scatter(\n",
    "    x=average_voter_value_per_round.index, \n",
    "    y=average_voter_value_per_round.values, \n",
    "    mode='lines+markers', \n",
    "    name='Average Voter Value',\n",
    "    line=dict(color='royalblue', width=2),\n",
    "    marker=dict(size=8)\n",
    "))\n",
    "\n",
    "# Plot median voter value\n",
    "fig.add_trace(go.Scatter(\n",
    "    x=median_voter_value_per_round.index, \n",
    "    y=median_voter_value_per_round.values, \n",
    "    mode='lines+markers', \n",
    "    name='Median Voter Value',\n",
    "    line=dict(color='firebrick', width=2),\n",
    "    marker=dict(size=8)\n",
    "))\n",
    "\n",
    "# Update layout for storytelling\n",
    "fig.update_layout(\n",
    "    height=600, \n",
    "    width=1000, \n",
    "    title_text=\"Voter Statistics by Round Group\",\n",
    "    title_x=0.5,\n",
    "    xaxis=dict(\n",
    "        title=\"Number of Rounds\",\n",
    "        titlefont=dict(size=14, color='black'),\n",
    "        tickmode='linear',\n",
    "        showline=True,  # Add axis line\n",
    "        linecolor='black',  # Axis line color\n",
    "        linewidth=2  # Axis line width\n",
    "    ),\n",
    "    yaxis=dict(\n",
    "        title=\"Value in USD\",\n",
    "        titlefont=dict(size=14, color='black'),\n",
    "        tickfont=dict(color='black'),\n",
    "        showline=True,  # Add axis line\n",
    "        linecolor='black',  # Axis line color\n",
    "        linewidth=2  # Axis line width\n",
    "    ),\n",
    "    legend=dict(\n",
    "        x=0.01, \n",
    "        y=0.99, \n",
    "        bgcolor='rgba(255, 255, 255, 0)',\n",
    "        bordercolor='rgba(255, 255, 255, 0)'\n",
    "    ),\n",
    "    plot_bgcolor='white',\n",
    "    margin=dict(l=50, r=50, t=50, b=50)\n",
    ")\n",
    "\n",
    "# Remove gridlines for a cleaner look\n",
    "fig.update_xaxes(showgrid=False)\n",
    "fig.update_yaxes(showgrid=False)\n",
    "\n",
    "fig.show()\n"
   ]
  },
  {
   "cell_type": "code",
   "execution_count": 8,
   "metadata": {},
   "outputs": [
    {
     "data": {
      "text/html": [
       "<div>\n",
       "<style scoped>\n",
       "    .dataframe tbody tr th:only-of-type {\n",
       "        vertical-align: middle;\n",
       "    }\n",
       "\n",
       "    .dataframe tbody tr th {\n",
       "        vertical-align: top;\n",
       "    }\n",
       "\n",
       "    .dataframe thead th {\n",
       "        text-align: right;\n",
       "    }\n",
       "</style>\n",
       "<table border=\"1\" class=\"dataframe\">\n",
       "  <thead>\n",
       "    <tr style=\"text-align: right;\">\n",
       "      <th></th>\n",
       "      <th>voter</th>\n",
       "      <th>round_num</th>\n",
       "    </tr>\n",
       "  </thead>\n",
       "  <tbody>\n",
       "    <tr>\n",
       "      <th>0</th>\n",
       "      <td>0x57c8e4e19f47acf5c05e04ddbd9b1d27065349d2</td>\n",
       "      <td>20</td>\n",
       "    </tr>\n",
       "    <tr>\n",
       "      <th>1</th>\n",
       "      <td>0xf913da8d4725988cdf1ae6bfaf3c3b7836ae8faa</td>\n",
       "      <td>20</td>\n",
       "    </tr>\n",
       "    <tr>\n",
       "      <th>2</th>\n",
       "      <td>0x17824caa7c9519674ba3f3e27c64d0a8103630dd</td>\n",
       "      <td>20</td>\n",
       "    </tr>\n",
       "    <tr>\n",
       "      <th>3</th>\n",
       "      <td>0xb0455085e33f1290ea9f603c1db0e69ee443bb4d</td>\n",
       "      <td>20</td>\n",
       "    </tr>\n",
       "    <tr>\n",
       "      <th>4</th>\n",
       "      <td>0x917fb7fbe8be99694a380d319d1f56433b608fc3</td>\n",
       "      <td>20</td>\n",
       "    </tr>\n",
       "    <tr>\n",
       "      <th>...</th>\n",
       "      <td>...</td>\n",
       "      <td>...</td>\n",
       "    </tr>\n",
       "    <tr>\n",
       "      <th>180110</th>\n",
       "      <td>0x9a8da1f1196e8422d2cb948eb88fc2a483681c51</td>\n",
       "      <td>20</td>\n",
       "    </tr>\n",
       "    <tr>\n",
       "      <th>180151</th>\n",
       "      <td>0x8eddc30b12a5cc60d046fc1b1b887eb2c1353a87</td>\n",
       "      <td>20</td>\n",
       "    </tr>\n",
       "    <tr>\n",
       "      <th>180163</th>\n",
       "      <td>0x17e4285bee986ae686504131d3d5abe0009f297a</td>\n",
       "      <td>20</td>\n",
       "    </tr>\n",
       "    <tr>\n",
       "      <th>180219</th>\n",
       "      <td>0x3946214ea5af34258ecfa95c2a64e20b69065d7d</td>\n",
       "      <td>20</td>\n",
       "    </tr>\n",
       "    <tr>\n",
       "      <th>180224</th>\n",
       "      <td>0x9e0b890290a444bf5d332f305f11b2b55be233cb</td>\n",
       "      <td>20</td>\n",
       "    </tr>\n",
       "  </tbody>\n",
       "</table>\n",
       "<p>35109 rows × 2 columns</p>\n",
       "</div>"
      ],
      "text/plain": [
       "                                             voter  round_num\n",
       "0       0x57c8e4e19f47acf5c05e04ddbd9b1d27065349d2         20\n",
       "1       0xf913da8d4725988cdf1ae6bfaf3c3b7836ae8faa         20\n",
       "2       0x17824caa7c9519674ba3f3e27c64d0a8103630dd         20\n",
       "3       0xb0455085e33f1290ea9f603c1db0e69ee443bb4d         20\n",
       "4       0x917fb7fbe8be99694a380d319d1f56433b608fc3         20\n",
       "...                                            ...        ...\n",
       "180110  0x9a8da1f1196e8422d2cb948eb88fc2a483681c51         20\n",
       "180151  0x8eddc30b12a5cc60d046fc1b1b887eb2c1353a87         20\n",
       "180163  0x17e4285bee986ae686504131d3d5abe0009f297a         20\n",
       "180219  0x3946214ea5af34258ecfa95c2a64e20b69065d7d         20\n",
       "180224  0x9e0b890290a444bf5d332f305f11b2b55be233cb         20\n",
       "\n",
       "[35109 rows x 2 columns]"
      ]
     },
     "execution_count": 8,
     "metadata": {},
     "output_type": "execute_result"
    }
   ],
   "source": [
    "gg20 = pd.read_csv('data/gg20_donors.csv')\n",
    "gg20['round_num'] = 20\n",
    "gg20.drop(columns=['program'], inplace=True)\n",
    "gg20.rename(columns={'donor_address':'voter'}, inplace=True)\n",
    "gg20.drop_duplicates(inplace=True)\n",
    "gg20"
   ]
  },
  {
   "cell_type": "code",
   "execution_count": 40,
   "metadata": {},
   "outputs": [
    {
     "data": {
      "text/plain": [
       "(430856, 3)"
      ]
     },
     "execution_count": 40,
     "metadata": {},
     "output_type": "execute_result"
    }
   ],
   "source": [
    "data = pd.read_csv('data/round_voters.csv')\n",
    "data = pd.concat([data, gg20])\n",
    "# Filter out rows with invalid Ethereum addresses\n",
    "data = data[data['voter'].str.startswith('0x') & (data['voter'].str.len() == 42)]\n",
    "\n",
    "# Convert 'round_num' to numeric and handle invalid values\n",
    "data['round_num'] = pd.to_numeric(data['round_num'], errors='coerce')\n",
    "data = data.dropna(subset=['round_num'])\n",
    "data['cohort'] = data.groupby('voter')['round_num'].transform('min')\n",
    "data.shape"
   ]
  },
  {
   "cell_type": "code",
   "execution_count": 18,
   "metadata": {},
   "outputs": [
    {
     "data": {
      "text/html": [
       "<div>\n",
       "<style scoped>\n",
       "    .dataframe tbody tr th:only-of-type {\n",
       "        vertical-align: middle;\n",
       "    }\n",
       "\n",
       "    .dataframe tbody tr th {\n",
       "        vertical-align: top;\n",
       "    }\n",
       "\n",
       "    .dataframe thead th {\n",
       "        text-align: right;\n",
       "    }\n",
       "</style>\n",
       "<table border=\"1\" class=\"dataframe\">\n",
       "  <thead>\n",
       "    <tr style=\"text-align: right;\">\n",
       "      <th></th>\n",
       "      <th>round_num</th>\n",
       "      <th>voter</th>\n",
       "      <th>cohort</th>\n",
       "    </tr>\n",
       "  </thead>\n",
       "  <tbody>\n",
       "    <tr>\n",
       "      <th>0</th>\n",
       "      <td>1.0</td>\n",
       "      <td>0x00de4b13153673bcae2616b67bf822500d325fc3</td>\n",
       "      <td>1.0</td>\n",
       "    </tr>\n",
       "    <tr>\n",
       "      <th>39</th>\n",
       "      <td>1.0</td>\n",
       "      <td>0xff16d64179a02d6a56a1183a28f1d6293646e2dd</td>\n",
       "      <td>1.0</td>\n",
       "    </tr>\n",
       "    <tr>\n",
       "      <th>41</th>\n",
       "      <td>2.0</td>\n",
       "      <td>0x00de4b13153673bcae2616b67bf822500d325fc3</td>\n",
       "      <td>1.0</td>\n",
       "    </tr>\n",
       "    <tr>\n",
       "      <th>146</th>\n",
       "      <td>3.0</td>\n",
       "      <td>0x00de4b13153673bcae2616b67bf822500d325fc3</td>\n",
       "      <td>1.0</td>\n",
       "    </tr>\n",
       "    <tr>\n",
       "      <th>152</th>\n",
       "      <td>3.0</td>\n",
       "      <td>0x05a1ff0a32bc24265bcb39499d0c5d9a6cb2011c</td>\n",
       "      <td>3.0</td>\n",
       "    </tr>\n",
       "    <tr>\n",
       "      <th>...</th>\n",
       "      <td>...</td>\n",
       "      <td>...</td>\n",
       "      <td>...</td>\n",
       "    </tr>\n",
       "    <tr>\n",
       "      <th>179599</th>\n",
       "      <td>20.0</td>\n",
       "      <td>0x2e99892cbcf20c76bba592aab67e6982886d7104</td>\n",
       "      <td>18.0</td>\n",
       "    </tr>\n",
       "    <tr>\n",
       "      <th>179620</th>\n",
       "      <td>20.0</td>\n",
       "      <td>0x836643f81312e79680c06f32c4f4de48c7e77ea8</td>\n",
       "      <td>20.0</td>\n",
       "    </tr>\n",
       "    <tr>\n",
       "      <th>179886</th>\n",
       "      <td>20.0</td>\n",
       "      <td>0x699baef464defa37b89850b712f8cd30bd659c60</td>\n",
       "      <td>20.0</td>\n",
       "    </tr>\n",
       "    <tr>\n",
       "      <th>179892</th>\n",
       "      <td>20.0</td>\n",
       "      <td>0x29864b53c8d7509de2ccf5fb76488cfd102ddfd0</td>\n",
       "      <td>20.0</td>\n",
       "    </tr>\n",
       "    <tr>\n",
       "      <th>179985</th>\n",
       "      <td>20.0</td>\n",
       "      <td>0x5f08cbecb33cb574240adca8e487f6f8d46dfa89</td>\n",
       "      <td>20.0</td>\n",
       "    </tr>\n",
       "  </tbody>\n",
       "</table>\n",
       "<p>48969 rows × 3 columns</p>\n",
       "</div>"
      ],
      "text/plain": [
       "        round_num                                       voter  cohort\n",
       "0             1.0  0x00de4b13153673bcae2616b67bf822500d325fc3     1.0\n",
       "39            1.0  0xff16d64179a02d6a56a1183a28f1d6293646e2dd     1.0\n",
       "41            2.0  0x00de4b13153673bcae2616b67bf822500d325fc3     1.0\n",
       "146           3.0  0x00de4b13153673bcae2616b67bf822500d325fc3     1.0\n",
       "152           3.0  0x05a1ff0a32bc24265bcb39499d0c5d9a6cb2011c     3.0\n",
       "...           ...                                         ...     ...\n",
       "179599       20.0  0x2e99892cbcf20c76bba592aab67e6982886d7104    18.0\n",
       "179620       20.0  0x836643f81312e79680c06f32c4f4de48c7e77ea8    20.0\n",
       "179886       20.0  0x699baef464defa37b89850b712f8cd30bd659c60    20.0\n",
       "179892       20.0  0x29864b53c8d7509de2ccf5fb76488cfd102ddfd0    20.0\n",
       "179985       20.0  0x5f08cbecb33cb574240adca8e487f6f8d46dfa89    20.0\n",
       "\n",
       "[48969 rows x 3 columns]"
      ]
     },
     "execution_count": 18,
     "metadata": {},
     "output_type": "execute_result"
    }
   ],
   "source": [
    "data"
   ]
  },
  {
   "cell_type": "code",
   "execution_count": 33,
   "metadata": {},
   "outputs": [
    {
     "name": "stderr",
     "output_type": "stream",
     "text": [
      "/var/folders/vc/4gnlrkhx1bqgc_p_rhn78pxh0000gn/T/ipykernel_69252/4215111295.py:2: DtypeWarning:\n",
      "\n",
      "Columns (3) have mixed types. Specify dtype option on import or set low_memory=False.\n",
      "\n"
     ]
    },
    {
     "data": {
      "text/html": [
       "<div>\n",
       "<style scoped>\n",
       "    .dataframe tbody tr th:only-of-type {\n",
       "        vertical-align: middle;\n",
       "    }\n",
       "\n",
       "    .dataframe tbody tr th {\n",
       "        vertical-align: top;\n",
       "    }\n",
       "\n",
       "    .dataframe thead th {\n",
       "        text-align: right;\n",
       "    }\n",
       "</style>\n",
       "<table border=\"1\" class=\"dataframe\">\n",
       "  <thead>\n",
       "    <tr style=\"text-align: right;\">\n",
       "      <th></th>\n",
       "      <th>round_num</th>\n",
       "      <th>voter</th>\n",
       "      <th>cohort</th>\n",
       "      <th>prev_round</th>\n",
       "      <th>voter_type</th>\n",
       "    </tr>\n",
       "  </thead>\n",
       "  <tbody>\n",
       "    <tr>\n",
       "      <th>0</th>\n",
       "      <td>1.0</td>\n",
       "      <td>0x00de4b13153673bcae2616b67bf822500d325fc3</td>\n",
       "      <td>1.0</td>\n",
       "      <td>NaN</td>\n",
       "      <td>new</td>\n",
       "    </tr>\n",
       "    <tr>\n",
       "      <th>39</th>\n",
       "      <td>1.0</td>\n",
       "      <td>0xff16d64179a02d6a56a1183a28f1d6293646e2dd</td>\n",
       "      <td>1.0</td>\n",
       "      <td>NaN</td>\n",
       "      <td>new</td>\n",
       "    </tr>\n",
       "    <tr>\n",
       "      <th>41</th>\n",
       "      <td>2.0</td>\n",
       "      <td>0x00de4b13153673bcae2616b67bf822500d325fc3</td>\n",
       "      <td>1.0</td>\n",
       "      <td>1.0</td>\n",
       "      <td>retained</td>\n",
       "    </tr>\n",
       "    <tr>\n",
       "      <th>146</th>\n",
       "      <td>3.0</td>\n",
       "      <td>0x00de4b13153673bcae2616b67bf822500d325fc3</td>\n",
       "      <td>1.0</td>\n",
       "      <td>2.0</td>\n",
       "      <td>retained</td>\n",
       "    </tr>\n",
       "    <tr>\n",
       "      <th>152</th>\n",
       "      <td>3.0</td>\n",
       "      <td>0x05a1ff0a32bc24265bcb39499d0c5d9a6cb2011c</td>\n",
       "      <td>3.0</td>\n",
       "      <td>NaN</td>\n",
       "      <td>new</td>\n",
       "    </tr>\n",
       "    <tr>\n",
       "      <th>...</th>\n",
       "      <td>...</td>\n",
       "      <td>...</td>\n",
       "      <td>...</td>\n",
       "      <td>...</td>\n",
       "      <td>...</td>\n",
       "    </tr>\n",
       "    <tr>\n",
       "      <th>179599</th>\n",
       "      <td>20.0</td>\n",
       "      <td>0x2e99892cbcf20c76bba592aab67e6982886d7104</td>\n",
       "      <td>18.0</td>\n",
       "      <td>18.0</td>\n",
       "      <td>resurrected</td>\n",
       "    </tr>\n",
       "    <tr>\n",
       "      <th>179620</th>\n",
       "      <td>20.0</td>\n",
       "      <td>0x836643f81312e79680c06f32c4f4de48c7e77ea8</td>\n",
       "      <td>20.0</td>\n",
       "      <td>NaN</td>\n",
       "      <td>new</td>\n",
       "    </tr>\n",
       "    <tr>\n",
       "      <th>179886</th>\n",
       "      <td>20.0</td>\n",
       "      <td>0x699baef464defa37b89850b712f8cd30bd659c60</td>\n",
       "      <td>20.0</td>\n",
       "      <td>NaN</td>\n",
       "      <td>new</td>\n",
       "    </tr>\n",
       "    <tr>\n",
       "      <th>179892</th>\n",
       "      <td>20.0</td>\n",
       "      <td>0x29864b53c8d7509de2ccf5fb76488cfd102ddfd0</td>\n",
       "      <td>20.0</td>\n",
       "      <td>NaN</td>\n",
       "      <td>new</td>\n",
       "    </tr>\n",
       "    <tr>\n",
       "      <th>179985</th>\n",
       "      <td>20.0</td>\n",
       "      <td>0x5f08cbecb33cb574240adca8e487f6f8d46dfa89</td>\n",
       "      <td>20.0</td>\n",
       "      <td>NaN</td>\n",
       "      <td>new</td>\n",
       "    </tr>\n",
       "  </tbody>\n",
       "</table>\n",
       "<p>48969 rows × 5 columns</p>\n",
       "</div>"
      ],
      "text/plain": [
       "        round_num                                       voter  cohort  \\\n",
       "0             1.0  0x00de4b13153673bcae2616b67bf822500d325fc3     1.0   \n",
       "39            1.0  0xff16d64179a02d6a56a1183a28f1d6293646e2dd     1.0   \n",
       "41            2.0  0x00de4b13153673bcae2616b67bf822500d325fc3     1.0   \n",
       "146           3.0  0x00de4b13153673bcae2616b67bf822500d325fc3     1.0   \n",
       "152           3.0  0x05a1ff0a32bc24265bcb39499d0c5d9a6cb2011c     3.0   \n",
       "...           ...                                         ...     ...   \n",
       "179599       20.0  0x2e99892cbcf20c76bba592aab67e6982886d7104    18.0   \n",
       "179620       20.0  0x836643f81312e79680c06f32c4f4de48c7e77ea8    20.0   \n",
       "179886       20.0  0x699baef464defa37b89850b712f8cd30bd659c60    20.0   \n",
       "179892       20.0  0x29864b53c8d7509de2ccf5fb76488cfd102ddfd0    20.0   \n",
       "179985       20.0  0x5f08cbecb33cb574240adca8e487f6f8d46dfa89    20.0   \n",
       "\n",
       "        prev_round   voter_type  \n",
       "0              NaN          new  \n",
       "39             NaN          new  \n",
       "41             1.0     retained  \n",
       "146            2.0     retained  \n",
       "152            NaN          new  \n",
       "...            ...          ...  \n",
       "179599        18.0  resurrected  \n",
       "179620         NaN          new  \n",
       "179886         NaN          new  \n",
       "179892         NaN          new  \n",
       "179985         NaN          new  \n",
       "\n",
       "[48969 rows x 5 columns]"
      ]
     },
     "execution_count": 33,
     "metadata": {},
     "output_type": "execute_result"
    }
   ],
   "source": [
    "## FILTER TO FC\n",
    "fc = pd.read_csv('data/farcaster_may9_oso.csv')\n",
    "data = data[data['voter'].isin(fc['address'])]\n",
    "data"
   ]
  },
  {
   "cell_type": "code",
   "execution_count": 10,
   "metadata": {},
   "outputs": [
    {
     "data": {
      "application/vnd.plotly.v1+json": {
       "config": {
        "plotlyServerURL": "https://plot.ly"
       },
       "data": [
        {
         "line": {
          "color": "darkgreen",
          "width": 2
         },
         "marker": {
          "color": "darkgreen",
          "line": {
           "color": "DarkSlateGrey",
           "width": 1
          },
          "size": 8
         },
         "mode": "lines+markers",
         "name": "Unique Voters",
         "type": "scatter",
         "x": [
          1,
          2,
          3,
          4,
          5,
          6,
          7,
          8,
          9,
          10,
          11,
          12,
          13,
          14,
          15,
          16,
          17,
          18,
          19,
          20
         ],
         "y": [
          41,
          103,
          324,
          660,
          883,
          850,
          1401,
          5350,
          17610,
          21870,
          23224,
          38670,
          25271,
          61838,
          58426,
          29369,
          17869,
          47454,
          44534,
          35109
         ]
        }
       ],
       "layout": {
        "hovermode": "x unified",
        "legend": {
         "bgcolor": "rgba(255, 255, 255, 0.5)",
         "bordercolor": "DarkSlateGrey",
         "borderwidth": 1,
         "x": 0.01,
         "y": 0.99
        },
        "margin": {
         "b": 40,
         "l": 40,
         "r": 40,
         "t": 60
        },
        "plot_bgcolor": "white",
        "template": {
         "data": {
          "bar": [
           {
            "error_x": {
             "color": "#2a3f5f"
            },
            "error_y": {
             "color": "#2a3f5f"
            },
            "marker": {
             "line": {
              "color": "#E5ECF6",
              "width": 0.5
             },
             "pattern": {
              "fillmode": "overlay",
              "size": 10,
              "solidity": 0.2
             }
            },
            "type": "bar"
           }
          ],
          "barpolar": [
           {
            "marker": {
             "line": {
              "color": "#E5ECF6",
              "width": 0.5
             },
             "pattern": {
              "fillmode": "overlay",
              "size": 10,
              "solidity": 0.2
             }
            },
            "type": "barpolar"
           }
          ],
          "carpet": [
           {
            "aaxis": {
             "endlinecolor": "#2a3f5f",
             "gridcolor": "white",
             "linecolor": "white",
             "minorgridcolor": "white",
             "startlinecolor": "#2a3f5f"
            },
            "baxis": {
             "endlinecolor": "#2a3f5f",
             "gridcolor": "white",
             "linecolor": "white",
             "minorgridcolor": "white",
             "startlinecolor": "#2a3f5f"
            },
            "type": "carpet"
           }
          ],
          "choropleth": [
           {
            "colorbar": {
             "outlinewidth": 0,
             "ticks": ""
            },
            "type": "choropleth"
           }
          ],
          "contour": [
           {
            "colorbar": {
             "outlinewidth": 0,
             "ticks": ""
            },
            "colorscale": [
             [
              0,
              "#0d0887"
             ],
             [
              0.1111111111111111,
              "#46039f"
             ],
             [
              0.2222222222222222,
              "#7201a8"
             ],
             [
              0.3333333333333333,
              "#9c179e"
             ],
             [
              0.4444444444444444,
              "#bd3786"
             ],
             [
              0.5555555555555556,
              "#d8576b"
             ],
             [
              0.6666666666666666,
              "#ed7953"
             ],
             [
              0.7777777777777778,
              "#fb9f3a"
             ],
             [
              0.8888888888888888,
              "#fdca26"
             ],
             [
              1,
              "#f0f921"
             ]
            ],
            "type": "contour"
           }
          ],
          "contourcarpet": [
           {
            "colorbar": {
             "outlinewidth": 0,
             "ticks": ""
            },
            "type": "contourcarpet"
           }
          ],
          "heatmap": [
           {
            "colorbar": {
             "outlinewidth": 0,
             "ticks": ""
            },
            "colorscale": [
             [
              0,
              "#0d0887"
             ],
             [
              0.1111111111111111,
              "#46039f"
             ],
             [
              0.2222222222222222,
              "#7201a8"
             ],
             [
              0.3333333333333333,
              "#9c179e"
             ],
             [
              0.4444444444444444,
              "#bd3786"
             ],
             [
              0.5555555555555556,
              "#d8576b"
             ],
             [
              0.6666666666666666,
              "#ed7953"
             ],
             [
              0.7777777777777778,
              "#fb9f3a"
             ],
             [
              0.8888888888888888,
              "#fdca26"
             ],
             [
              1,
              "#f0f921"
             ]
            ],
            "type": "heatmap"
           }
          ],
          "heatmapgl": [
           {
            "colorbar": {
             "outlinewidth": 0,
             "ticks": ""
            },
            "colorscale": [
             [
              0,
              "#0d0887"
             ],
             [
              0.1111111111111111,
              "#46039f"
             ],
             [
              0.2222222222222222,
              "#7201a8"
             ],
             [
              0.3333333333333333,
              "#9c179e"
             ],
             [
              0.4444444444444444,
              "#bd3786"
             ],
             [
              0.5555555555555556,
              "#d8576b"
             ],
             [
              0.6666666666666666,
              "#ed7953"
             ],
             [
              0.7777777777777778,
              "#fb9f3a"
             ],
             [
              0.8888888888888888,
              "#fdca26"
             ],
             [
              1,
              "#f0f921"
             ]
            ],
            "type": "heatmapgl"
           }
          ],
          "histogram": [
           {
            "marker": {
             "pattern": {
              "fillmode": "overlay",
              "size": 10,
              "solidity": 0.2
             }
            },
            "type": "histogram"
           }
          ],
          "histogram2d": [
           {
            "colorbar": {
             "outlinewidth": 0,
             "ticks": ""
            },
            "colorscale": [
             [
              0,
              "#0d0887"
             ],
             [
              0.1111111111111111,
              "#46039f"
             ],
             [
              0.2222222222222222,
              "#7201a8"
             ],
             [
              0.3333333333333333,
              "#9c179e"
             ],
             [
              0.4444444444444444,
              "#bd3786"
             ],
             [
              0.5555555555555556,
              "#d8576b"
             ],
             [
              0.6666666666666666,
              "#ed7953"
             ],
             [
              0.7777777777777778,
              "#fb9f3a"
             ],
             [
              0.8888888888888888,
              "#fdca26"
             ],
             [
              1,
              "#f0f921"
             ]
            ],
            "type": "histogram2d"
           }
          ],
          "histogram2dcontour": [
           {
            "colorbar": {
             "outlinewidth": 0,
             "ticks": ""
            },
            "colorscale": [
             [
              0,
              "#0d0887"
             ],
             [
              0.1111111111111111,
              "#46039f"
             ],
             [
              0.2222222222222222,
              "#7201a8"
             ],
             [
              0.3333333333333333,
              "#9c179e"
             ],
             [
              0.4444444444444444,
              "#bd3786"
             ],
             [
              0.5555555555555556,
              "#d8576b"
             ],
             [
              0.6666666666666666,
              "#ed7953"
             ],
             [
              0.7777777777777778,
              "#fb9f3a"
             ],
             [
              0.8888888888888888,
              "#fdca26"
             ],
             [
              1,
              "#f0f921"
             ]
            ],
            "type": "histogram2dcontour"
           }
          ],
          "mesh3d": [
           {
            "colorbar": {
             "outlinewidth": 0,
             "ticks": ""
            },
            "type": "mesh3d"
           }
          ],
          "parcoords": [
           {
            "line": {
             "colorbar": {
              "outlinewidth": 0,
              "ticks": ""
             }
            },
            "type": "parcoords"
           }
          ],
          "pie": [
           {
            "automargin": true,
            "type": "pie"
           }
          ],
          "scatter": [
           {
            "fillpattern": {
             "fillmode": "overlay",
             "size": 10,
             "solidity": 0.2
            },
            "type": "scatter"
           }
          ],
          "scatter3d": [
           {
            "line": {
             "colorbar": {
              "outlinewidth": 0,
              "ticks": ""
             }
            },
            "marker": {
             "colorbar": {
              "outlinewidth": 0,
              "ticks": ""
             }
            },
            "type": "scatter3d"
           }
          ],
          "scattercarpet": [
           {
            "marker": {
             "colorbar": {
              "outlinewidth": 0,
              "ticks": ""
             }
            },
            "type": "scattercarpet"
           }
          ],
          "scattergeo": [
           {
            "marker": {
             "colorbar": {
              "outlinewidth": 0,
              "ticks": ""
             }
            },
            "type": "scattergeo"
           }
          ],
          "scattergl": [
           {
            "marker": {
             "colorbar": {
              "outlinewidth": 0,
              "ticks": ""
             }
            },
            "type": "scattergl"
           }
          ],
          "scattermapbox": [
           {
            "marker": {
             "colorbar": {
              "outlinewidth": 0,
              "ticks": ""
             }
            },
            "type": "scattermapbox"
           }
          ],
          "scatterpolar": [
           {
            "marker": {
             "colorbar": {
              "outlinewidth": 0,
              "ticks": ""
             }
            },
            "type": "scatterpolar"
           }
          ],
          "scatterpolargl": [
           {
            "marker": {
             "colorbar": {
              "outlinewidth": 0,
              "ticks": ""
             }
            },
            "type": "scatterpolargl"
           }
          ],
          "scatterternary": [
           {
            "marker": {
             "colorbar": {
              "outlinewidth": 0,
              "ticks": ""
             }
            },
            "type": "scatterternary"
           }
          ],
          "surface": [
           {
            "colorbar": {
             "outlinewidth": 0,
             "ticks": ""
            },
            "colorscale": [
             [
              0,
              "#0d0887"
             ],
             [
              0.1111111111111111,
              "#46039f"
             ],
             [
              0.2222222222222222,
              "#7201a8"
             ],
             [
              0.3333333333333333,
              "#9c179e"
             ],
             [
              0.4444444444444444,
              "#bd3786"
             ],
             [
              0.5555555555555556,
              "#d8576b"
             ],
             [
              0.6666666666666666,
              "#ed7953"
             ],
             [
              0.7777777777777778,
              "#fb9f3a"
             ],
             [
              0.8888888888888888,
              "#fdca26"
             ],
             [
              1,
              "#f0f921"
             ]
            ],
            "type": "surface"
           }
          ],
          "table": [
           {
            "cells": {
             "fill": {
              "color": "#EBF0F8"
             },
             "line": {
              "color": "white"
             }
            },
            "header": {
             "fill": {
              "color": "#C8D4E3"
             },
             "line": {
              "color": "white"
             }
            },
            "type": "table"
           }
          ]
         },
         "layout": {
          "annotationdefaults": {
           "arrowcolor": "#2a3f5f",
           "arrowhead": 0,
           "arrowwidth": 1
          },
          "autotypenumbers": "strict",
          "coloraxis": {
           "colorbar": {
            "outlinewidth": 0,
            "ticks": ""
           }
          },
          "colorscale": {
           "diverging": [
            [
             0,
             "#8e0152"
            ],
            [
             0.1,
             "#c51b7d"
            ],
            [
             0.2,
             "#de77ae"
            ],
            [
             0.3,
             "#f1b6da"
            ],
            [
             0.4,
             "#fde0ef"
            ],
            [
             0.5,
             "#f7f7f7"
            ],
            [
             0.6,
             "#e6f5d0"
            ],
            [
             0.7,
             "#b8e186"
            ],
            [
             0.8,
             "#7fbc41"
            ],
            [
             0.9,
             "#4d9221"
            ],
            [
             1,
             "#276419"
            ]
           ],
           "sequential": [
            [
             0,
             "#0d0887"
            ],
            [
             0.1111111111111111,
             "#46039f"
            ],
            [
             0.2222222222222222,
             "#7201a8"
            ],
            [
             0.3333333333333333,
             "#9c179e"
            ],
            [
             0.4444444444444444,
             "#bd3786"
            ],
            [
             0.5555555555555556,
             "#d8576b"
            ],
            [
             0.6666666666666666,
             "#ed7953"
            ],
            [
             0.7777777777777778,
             "#fb9f3a"
            ],
            [
             0.8888888888888888,
             "#fdca26"
            ],
            [
             1,
             "#f0f921"
            ]
           ],
           "sequentialminus": [
            [
             0,
             "#0d0887"
            ],
            [
             0.1111111111111111,
             "#46039f"
            ],
            [
             0.2222222222222222,
             "#7201a8"
            ],
            [
             0.3333333333333333,
             "#9c179e"
            ],
            [
             0.4444444444444444,
             "#bd3786"
            ],
            [
             0.5555555555555556,
             "#d8576b"
            ],
            [
             0.6666666666666666,
             "#ed7953"
            ],
            [
             0.7777777777777778,
             "#fb9f3a"
            ],
            [
             0.8888888888888888,
             "#fdca26"
            ],
            [
             1,
             "#f0f921"
            ]
           ]
          },
          "colorway": [
           "#636efa",
           "#EF553B",
           "#00cc96",
           "#ab63fa",
           "#FFA15A",
           "#19d3f3",
           "#FF6692",
           "#B6E880",
           "#FF97FF",
           "#FECB52"
          ],
          "font": {
           "color": "#2a3f5f"
          },
          "geo": {
           "bgcolor": "white",
           "lakecolor": "white",
           "landcolor": "#E5ECF6",
           "showlakes": true,
           "showland": true,
           "subunitcolor": "white"
          },
          "hoverlabel": {
           "align": "left"
          },
          "hovermode": "closest",
          "mapbox": {
           "style": "light"
          },
          "paper_bgcolor": "white",
          "plot_bgcolor": "#E5ECF6",
          "polar": {
           "angularaxis": {
            "gridcolor": "white",
            "linecolor": "white",
            "ticks": ""
           },
           "bgcolor": "#E5ECF6",
           "radialaxis": {
            "gridcolor": "white",
            "linecolor": "white",
            "ticks": ""
           }
          },
          "scene": {
           "xaxis": {
            "backgroundcolor": "#E5ECF6",
            "gridcolor": "white",
            "gridwidth": 2,
            "linecolor": "white",
            "showbackground": true,
            "ticks": "",
            "zerolinecolor": "white"
           },
           "yaxis": {
            "backgroundcolor": "#E5ECF6",
            "gridcolor": "white",
            "gridwidth": 2,
            "linecolor": "white",
            "showbackground": true,
            "ticks": "",
            "zerolinecolor": "white"
           },
           "zaxis": {
            "backgroundcolor": "#E5ECF6",
            "gridcolor": "white",
            "gridwidth": 2,
            "linecolor": "white",
            "showbackground": true,
            "ticks": "",
            "zerolinecolor": "white"
           }
          },
          "shapedefaults": {
           "line": {
            "color": "#2a3f5f"
           }
          },
          "ternary": {
           "aaxis": {
            "gridcolor": "white",
            "linecolor": "white",
            "ticks": ""
           },
           "baxis": {
            "gridcolor": "white",
            "linecolor": "white",
            "ticks": ""
           },
           "bgcolor": "#E5ECF6",
           "caxis": {
            "gridcolor": "white",
            "linecolor": "white",
            "ticks": ""
           }
          },
          "title": {
           "x": 0.05
          },
          "xaxis": {
           "automargin": true,
           "gridcolor": "white",
           "linecolor": "white",
           "ticks": "",
           "title": {
            "standoff": 15
           },
           "zerolinecolor": "white",
           "zerolinewidth": 2
          },
          "yaxis": {
           "automargin": true,
           "gridcolor": "white",
           "linecolor": "white",
           "ticks": "",
           "title": {
            "standoff": 15
           },
           "zerolinecolor": "white",
           "zerolinewidth": 2
          }
         }
        },
        "title": {
         "font": {
          "color": "DarkSlateGrey",
          "size": 20
         },
         "text": "Number of Unique Voters per Round",
         "x": 0.5,
         "xanchor": "center"
        },
        "xaxis": {
         "linecolor": "DarkSlateGrey",
         "showgrid": false,
         "showline": true,
         "tickfont": {
          "color": "DarkSlateGrey",
          "size": 14
         },
         "title": {
          "font": {
           "color": "DarkSlateGrey",
           "size": 16
          },
          "text": "Round Number"
         }
        },
        "yaxis": {
         "linecolor": "DarkSlateGrey",
         "showgrid": false,
         "showline": true,
         "tickfont": {
          "color": "DarkSlateGrey",
          "size": 14
         },
         "title": {
          "font": {
           "color": "DarkSlateGrey",
           "size": 16
          },
          "text": "Number of Unique Voters"
         }
        }
       }
      }
     },
     "metadata": {},
     "output_type": "display_data"
    }
   ],
   "source": [
    "\n",
    "# data_grouped represents the number of unique voters per round\n",
    "data_grouped = data.groupby('round_num')['voter'].nunique()\n",
    "\n",
    "# Plotting the number of unique voters per round with enhanced aesthetics\n",
    "fig = go.Figure()\n",
    "\n",
    "# Add scatter plot\n",
    "fig.add_trace(go.Scatter(\n",
    "    x=data_grouped.index, \n",
    "    y=data_grouped.values,\n",
    "    mode='lines+markers',\n",
    "    marker=dict(size=8, color='darkgreen', line=dict(width=1, color='DarkSlateGrey')),\n",
    "    line=dict(color='darkgreen', width=2),\n",
    "    name='Unique Voters'\n",
    "))\n",
    "\n",
    "# Update layout for better storytelling\n",
    "fig.update_layout(\n",
    "    title=dict(\n",
    "        text='Number of Unique Voters per Round',\n",
    "        x=0.5,\n",
    "        xanchor='center',\n",
    "        font=dict(size=20, color='DarkSlateGrey')\n",
    "    ),\n",
    "    xaxis=dict(\n",
    "        title='Round Number',\n",
    "        titlefont=dict(size=16, color='DarkSlateGrey'),\n",
    "        tickfont=dict(size=14, color='DarkSlateGrey'),\n",
    "        showgrid=False,\n",
    "        showline=True,\n",
    "        linecolor='DarkSlateGrey'\n",
    "    ),\n",
    "    yaxis=dict(\n",
    "        title='Number of Unique Voters',\n",
    "        titlefont=dict(size=16, color='DarkSlateGrey'),\n",
    "        tickfont=dict(size=14, color='DarkSlateGrey'),\n",
    "        showgrid=False,\n",
    "        showline=True,\n",
    "        linecolor='DarkSlateGrey'\n",
    "    ),\n",
    "    plot_bgcolor='white',\n",
    "    margin=dict(l=40, r=40, t=60, b=40),\n",
    "    hovermode='x unified',\n",
    "    legend=dict(\n",
    "        x=0.01, y=0.99,\n",
    "        bgcolor='rgba(255, 255, 255, 0.5)',\n",
    "        bordercolor='DarkSlateGrey',\n",
    "        borderwidth=1\n",
    "    )\n",
    ")\n",
    "\n",
    "fig.show()\n"
   ]
  },
  {
   "cell_type": "code",
   "execution_count": 11,
   "metadata": {},
   "outputs": [
    {
     "data": {
      "application/vnd.plotly.v1+json": {
       "config": {
        "plotlyServerURL": "https://plot.ly"
       },
       "data": [
        {
         "line": {
          "color": "blue",
          "width": 2
         },
         "marker": {
          "color": "blue",
          "line": {
           "color": "DarkSlateGrey",
           "width": 1
          },
          "size": 8
         },
         "mode": "lines+markers",
         "name": "New Voters",
         "type": "scatter",
         "x": [
          1,
          2,
          3,
          4,
          5,
          6,
          7,
          8,
          9,
          10,
          11,
          12,
          13,
          14,
          15,
          16,
          17,
          18,
          19,
          20
         ],
         "y": [
          41,
          77,
          286,
          505,
          620,
          674,
          1280,
          4838,
          15851,
          15368,
          14831,
          27057,
          13049,
          45853,
          36388,
          15838,
          9322,
          31940,
          26240,
          22553
         ]
        },
        {
         "line": {
          "color": "red",
          "width": 2
         },
         "marker": {
          "color": "red",
          "line": {
           "color": "DarkSlateGrey",
           "width": 1
          },
          "size": 8
         },
         "mode": "lines+markers",
         "name": "Returning Voters",
         "type": "scatter",
         "x": [
          2,
          3,
          4,
          5,
          6,
          7,
          8,
          9,
          10,
          11,
          12,
          13,
          14,
          15,
          16,
          17,
          18,
          19,
          20
         ],
         "y": [
          26,
          38,
          155,
          263,
          176,
          121,
          512,
          1759,
          6502,
          8393,
          11613,
          12222,
          15985,
          22038,
          13531,
          8547,
          15514,
          18294,
          12556
         ]
        }
       ],
       "layout": {
        "hovermode": "x unified",
        "legend": {
         "bgcolor": "rgba(255, 255, 255, 0.5)",
         "bordercolor": "DarkSlateGrey",
         "borderwidth": 1,
         "x": 0.01,
         "y": 0.99
        },
        "margin": {
         "b": 40,
         "l": 40,
         "r": 40,
         "t": 60
        },
        "plot_bgcolor": "white",
        "template": {
         "data": {
          "bar": [
           {
            "error_x": {
             "color": "#2a3f5f"
            },
            "error_y": {
             "color": "#2a3f5f"
            },
            "marker": {
             "line": {
              "color": "#E5ECF6",
              "width": 0.5
             },
             "pattern": {
              "fillmode": "overlay",
              "size": 10,
              "solidity": 0.2
             }
            },
            "type": "bar"
           }
          ],
          "barpolar": [
           {
            "marker": {
             "line": {
              "color": "#E5ECF6",
              "width": 0.5
             },
             "pattern": {
              "fillmode": "overlay",
              "size": 10,
              "solidity": 0.2
             }
            },
            "type": "barpolar"
           }
          ],
          "carpet": [
           {
            "aaxis": {
             "endlinecolor": "#2a3f5f",
             "gridcolor": "white",
             "linecolor": "white",
             "minorgridcolor": "white",
             "startlinecolor": "#2a3f5f"
            },
            "baxis": {
             "endlinecolor": "#2a3f5f",
             "gridcolor": "white",
             "linecolor": "white",
             "minorgridcolor": "white",
             "startlinecolor": "#2a3f5f"
            },
            "type": "carpet"
           }
          ],
          "choropleth": [
           {
            "colorbar": {
             "outlinewidth": 0,
             "ticks": ""
            },
            "type": "choropleth"
           }
          ],
          "contour": [
           {
            "colorbar": {
             "outlinewidth": 0,
             "ticks": ""
            },
            "colorscale": [
             [
              0,
              "#0d0887"
             ],
             [
              0.1111111111111111,
              "#46039f"
             ],
             [
              0.2222222222222222,
              "#7201a8"
             ],
             [
              0.3333333333333333,
              "#9c179e"
             ],
             [
              0.4444444444444444,
              "#bd3786"
             ],
             [
              0.5555555555555556,
              "#d8576b"
             ],
             [
              0.6666666666666666,
              "#ed7953"
             ],
             [
              0.7777777777777778,
              "#fb9f3a"
             ],
             [
              0.8888888888888888,
              "#fdca26"
             ],
             [
              1,
              "#f0f921"
             ]
            ],
            "type": "contour"
           }
          ],
          "contourcarpet": [
           {
            "colorbar": {
             "outlinewidth": 0,
             "ticks": ""
            },
            "type": "contourcarpet"
           }
          ],
          "heatmap": [
           {
            "colorbar": {
             "outlinewidth": 0,
             "ticks": ""
            },
            "colorscale": [
             [
              0,
              "#0d0887"
             ],
             [
              0.1111111111111111,
              "#46039f"
             ],
             [
              0.2222222222222222,
              "#7201a8"
             ],
             [
              0.3333333333333333,
              "#9c179e"
             ],
             [
              0.4444444444444444,
              "#bd3786"
             ],
             [
              0.5555555555555556,
              "#d8576b"
             ],
             [
              0.6666666666666666,
              "#ed7953"
             ],
             [
              0.7777777777777778,
              "#fb9f3a"
             ],
             [
              0.8888888888888888,
              "#fdca26"
             ],
             [
              1,
              "#f0f921"
             ]
            ],
            "type": "heatmap"
           }
          ],
          "heatmapgl": [
           {
            "colorbar": {
             "outlinewidth": 0,
             "ticks": ""
            },
            "colorscale": [
             [
              0,
              "#0d0887"
             ],
             [
              0.1111111111111111,
              "#46039f"
             ],
             [
              0.2222222222222222,
              "#7201a8"
             ],
             [
              0.3333333333333333,
              "#9c179e"
             ],
             [
              0.4444444444444444,
              "#bd3786"
             ],
             [
              0.5555555555555556,
              "#d8576b"
             ],
             [
              0.6666666666666666,
              "#ed7953"
             ],
             [
              0.7777777777777778,
              "#fb9f3a"
             ],
             [
              0.8888888888888888,
              "#fdca26"
             ],
             [
              1,
              "#f0f921"
             ]
            ],
            "type": "heatmapgl"
           }
          ],
          "histogram": [
           {
            "marker": {
             "pattern": {
              "fillmode": "overlay",
              "size": 10,
              "solidity": 0.2
             }
            },
            "type": "histogram"
           }
          ],
          "histogram2d": [
           {
            "colorbar": {
             "outlinewidth": 0,
             "ticks": ""
            },
            "colorscale": [
             [
              0,
              "#0d0887"
             ],
             [
              0.1111111111111111,
              "#46039f"
             ],
             [
              0.2222222222222222,
              "#7201a8"
             ],
             [
              0.3333333333333333,
              "#9c179e"
             ],
             [
              0.4444444444444444,
              "#bd3786"
             ],
             [
              0.5555555555555556,
              "#d8576b"
             ],
             [
              0.6666666666666666,
              "#ed7953"
             ],
             [
              0.7777777777777778,
              "#fb9f3a"
             ],
             [
              0.8888888888888888,
              "#fdca26"
             ],
             [
              1,
              "#f0f921"
             ]
            ],
            "type": "histogram2d"
           }
          ],
          "histogram2dcontour": [
           {
            "colorbar": {
             "outlinewidth": 0,
             "ticks": ""
            },
            "colorscale": [
             [
              0,
              "#0d0887"
             ],
             [
              0.1111111111111111,
              "#46039f"
             ],
             [
              0.2222222222222222,
              "#7201a8"
             ],
             [
              0.3333333333333333,
              "#9c179e"
             ],
             [
              0.4444444444444444,
              "#bd3786"
             ],
             [
              0.5555555555555556,
              "#d8576b"
             ],
             [
              0.6666666666666666,
              "#ed7953"
             ],
             [
              0.7777777777777778,
              "#fb9f3a"
             ],
             [
              0.8888888888888888,
              "#fdca26"
             ],
             [
              1,
              "#f0f921"
             ]
            ],
            "type": "histogram2dcontour"
           }
          ],
          "mesh3d": [
           {
            "colorbar": {
             "outlinewidth": 0,
             "ticks": ""
            },
            "type": "mesh3d"
           }
          ],
          "parcoords": [
           {
            "line": {
             "colorbar": {
              "outlinewidth": 0,
              "ticks": ""
             }
            },
            "type": "parcoords"
           }
          ],
          "pie": [
           {
            "automargin": true,
            "type": "pie"
           }
          ],
          "scatter": [
           {
            "fillpattern": {
             "fillmode": "overlay",
             "size": 10,
             "solidity": 0.2
            },
            "type": "scatter"
           }
          ],
          "scatter3d": [
           {
            "line": {
             "colorbar": {
              "outlinewidth": 0,
              "ticks": ""
             }
            },
            "marker": {
             "colorbar": {
              "outlinewidth": 0,
              "ticks": ""
             }
            },
            "type": "scatter3d"
           }
          ],
          "scattercarpet": [
           {
            "marker": {
             "colorbar": {
              "outlinewidth": 0,
              "ticks": ""
             }
            },
            "type": "scattercarpet"
           }
          ],
          "scattergeo": [
           {
            "marker": {
             "colorbar": {
              "outlinewidth": 0,
              "ticks": ""
             }
            },
            "type": "scattergeo"
           }
          ],
          "scattergl": [
           {
            "marker": {
             "colorbar": {
              "outlinewidth": 0,
              "ticks": ""
             }
            },
            "type": "scattergl"
           }
          ],
          "scattermapbox": [
           {
            "marker": {
             "colorbar": {
              "outlinewidth": 0,
              "ticks": ""
             }
            },
            "type": "scattermapbox"
           }
          ],
          "scatterpolar": [
           {
            "marker": {
             "colorbar": {
              "outlinewidth": 0,
              "ticks": ""
             }
            },
            "type": "scatterpolar"
           }
          ],
          "scatterpolargl": [
           {
            "marker": {
             "colorbar": {
              "outlinewidth": 0,
              "ticks": ""
             }
            },
            "type": "scatterpolargl"
           }
          ],
          "scatterternary": [
           {
            "marker": {
             "colorbar": {
              "outlinewidth": 0,
              "ticks": ""
             }
            },
            "type": "scatterternary"
           }
          ],
          "surface": [
           {
            "colorbar": {
             "outlinewidth": 0,
             "ticks": ""
            },
            "colorscale": [
             [
              0,
              "#0d0887"
             ],
             [
              0.1111111111111111,
              "#46039f"
             ],
             [
              0.2222222222222222,
              "#7201a8"
             ],
             [
              0.3333333333333333,
              "#9c179e"
             ],
             [
              0.4444444444444444,
              "#bd3786"
             ],
             [
              0.5555555555555556,
              "#d8576b"
             ],
             [
              0.6666666666666666,
              "#ed7953"
             ],
             [
              0.7777777777777778,
              "#fb9f3a"
             ],
             [
              0.8888888888888888,
              "#fdca26"
             ],
             [
              1,
              "#f0f921"
             ]
            ],
            "type": "surface"
           }
          ],
          "table": [
           {
            "cells": {
             "fill": {
              "color": "#EBF0F8"
             },
             "line": {
              "color": "white"
             }
            },
            "header": {
             "fill": {
              "color": "#C8D4E3"
             },
             "line": {
              "color": "white"
             }
            },
            "type": "table"
           }
          ]
         },
         "layout": {
          "annotationdefaults": {
           "arrowcolor": "#2a3f5f",
           "arrowhead": 0,
           "arrowwidth": 1
          },
          "autotypenumbers": "strict",
          "coloraxis": {
           "colorbar": {
            "outlinewidth": 0,
            "ticks": ""
           }
          },
          "colorscale": {
           "diverging": [
            [
             0,
             "#8e0152"
            ],
            [
             0.1,
             "#c51b7d"
            ],
            [
             0.2,
             "#de77ae"
            ],
            [
             0.3,
             "#f1b6da"
            ],
            [
             0.4,
             "#fde0ef"
            ],
            [
             0.5,
             "#f7f7f7"
            ],
            [
             0.6,
             "#e6f5d0"
            ],
            [
             0.7,
             "#b8e186"
            ],
            [
             0.8,
             "#7fbc41"
            ],
            [
             0.9,
             "#4d9221"
            ],
            [
             1,
             "#276419"
            ]
           ],
           "sequential": [
            [
             0,
             "#0d0887"
            ],
            [
             0.1111111111111111,
             "#46039f"
            ],
            [
             0.2222222222222222,
             "#7201a8"
            ],
            [
             0.3333333333333333,
             "#9c179e"
            ],
            [
             0.4444444444444444,
             "#bd3786"
            ],
            [
             0.5555555555555556,
             "#d8576b"
            ],
            [
             0.6666666666666666,
             "#ed7953"
            ],
            [
             0.7777777777777778,
             "#fb9f3a"
            ],
            [
             0.8888888888888888,
             "#fdca26"
            ],
            [
             1,
             "#f0f921"
            ]
           ],
           "sequentialminus": [
            [
             0,
             "#0d0887"
            ],
            [
             0.1111111111111111,
             "#46039f"
            ],
            [
             0.2222222222222222,
             "#7201a8"
            ],
            [
             0.3333333333333333,
             "#9c179e"
            ],
            [
             0.4444444444444444,
             "#bd3786"
            ],
            [
             0.5555555555555556,
             "#d8576b"
            ],
            [
             0.6666666666666666,
             "#ed7953"
            ],
            [
             0.7777777777777778,
             "#fb9f3a"
            ],
            [
             0.8888888888888888,
             "#fdca26"
            ],
            [
             1,
             "#f0f921"
            ]
           ]
          },
          "colorway": [
           "#636efa",
           "#EF553B",
           "#00cc96",
           "#ab63fa",
           "#FFA15A",
           "#19d3f3",
           "#FF6692",
           "#B6E880",
           "#FF97FF",
           "#FECB52"
          ],
          "font": {
           "color": "#2a3f5f"
          },
          "geo": {
           "bgcolor": "white",
           "lakecolor": "white",
           "landcolor": "#E5ECF6",
           "showlakes": true,
           "showland": true,
           "subunitcolor": "white"
          },
          "hoverlabel": {
           "align": "left"
          },
          "hovermode": "closest",
          "mapbox": {
           "style": "light"
          },
          "paper_bgcolor": "white",
          "plot_bgcolor": "#E5ECF6",
          "polar": {
           "angularaxis": {
            "gridcolor": "white",
            "linecolor": "white",
            "ticks": ""
           },
           "bgcolor": "#E5ECF6",
           "radialaxis": {
            "gridcolor": "white",
            "linecolor": "white",
            "ticks": ""
           }
          },
          "scene": {
           "xaxis": {
            "backgroundcolor": "#E5ECF6",
            "gridcolor": "white",
            "gridwidth": 2,
            "linecolor": "white",
            "showbackground": true,
            "ticks": "",
            "zerolinecolor": "white"
           },
           "yaxis": {
            "backgroundcolor": "#E5ECF6",
            "gridcolor": "white",
            "gridwidth": 2,
            "linecolor": "white",
            "showbackground": true,
            "ticks": "",
            "zerolinecolor": "white"
           },
           "zaxis": {
            "backgroundcolor": "#E5ECF6",
            "gridcolor": "white",
            "gridwidth": 2,
            "linecolor": "white",
            "showbackground": true,
            "ticks": "",
            "zerolinecolor": "white"
           }
          },
          "shapedefaults": {
           "line": {
            "color": "#2a3f5f"
           }
          },
          "ternary": {
           "aaxis": {
            "gridcolor": "white",
            "linecolor": "white",
            "ticks": ""
           },
           "baxis": {
            "gridcolor": "white",
            "linecolor": "white",
            "ticks": ""
           },
           "bgcolor": "#E5ECF6",
           "caxis": {
            "gridcolor": "white",
            "linecolor": "white",
            "ticks": ""
           }
          },
          "title": {
           "x": 0.05
          },
          "xaxis": {
           "automargin": true,
           "gridcolor": "white",
           "linecolor": "white",
           "ticks": "",
           "title": {
            "standoff": 15
           },
           "zerolinecolor": "white",
           "zerolinewidth": 2
          },
          "yaxis": {
           "automargin": true,
           "gridcolor": "white",
           "linecolor": "white",
           "ticks": "",
           "title": {
            "standoff": 15
           },
           "zerolinecolor": "white",
           "zerolinewidth": 2
          }
         }
        },
        "title": {
         "font": {
          "color": "DarkSlateGrey",
          "size": 20
         },
         "text": "Number of New and Returning Voters per Round",
         "x": 0.5,
         "xanchor": "center"
        },
        "xaxis": {
         "linecolor": "DarkSlateGrey",
         "showgrid": false,
         "showline": true,
         "tickfont": {
          "color": "DarkSlateGrey",
          "size": 14
         },
         "title": {
          "font": {
           "color": "DarkSlateGrey",
           "size": 16
          },
          "text": "Round Number"
         }
        },
        "yaxis": {
         "linecolor": "DarkSlateGrey",
         "showgrid": false,
         "showline": true,
         "tickfont": {
          "color": "DarkSlateGrey",
          "size": 14
         },
         "title": {
          "font": {
           "color": "DarkSlateGrey",
           "size": 16
          },
          "text": "Number of Voters"
         }
        }
       }
      }
     },
     "metadata": {},
     "output_type": "display_data"
    }
   ],
   "source": [
    "\n",
    "# data_grouped represents the number of unique voters per round\n",
    "new_users = data[data.duplicated('voter', keep='first') == False].groupby('round_num')['voter'].nunique()\n",
    "returning_users = data[data.duplicated('voter', keep='first')].groupby('round_num')['voter'].nunique()\n",
    "\n",
    "# Plotting the number of unique voters per round with enhanced aesthetics\n",
    "fig = go.Figure()\n",
    "\n",
    "# Add scatter plot for new users\n",
    "fig.add_trace(go.Scatter(\n",
    "    x=new_users.index, \n",
    "    y=new_users.values,\n",
    "    mode='lines+markers',\n",
    "    marker=dict(size=8, color='blue', line=dict(width=1, color='DarkSlateGrey')),\n",
    "    line=dict(color='blue', width=2),\n",
    "    name='New Voters'\n",
    "))\n",
    "\n",
    "# Add scatter plot for returning users\n",
    "fig.add_trace(go.Scatter(\n",
    "    x=returning_users.index, \n",
    "    y=returning_users.values,\n",
    "    mode='lines+markers',\n",
    "    marker=dict(size=8, color='red', line=dict(width=1, color='DarkSlateGrey')),\n",
    "    line=dict(color='red', width=2),\n",
    "    name='Returning Voters'\n",
    "))\n",
    "\n",
    "# Update layout for better storytelling\n",
    "fig.update_layout(\n",
    "    title=dict(\n",
    "        text='Number of New and Returning Voters per Round',\n",
    "        x=0.5,\n",
    "        xanchor='center',\n",
    "        font=dict(size=20, color='DarkSlateGrey')\n",
    "    ),\n",
    "    xaxis=dict(\n",
    "        title='Round Number',\n",
    "        titlefont=dict(size=16, color='DarkSlateGrey'),\n",
    "        tickfont=dict(size=14, color='DarkSlateGrey'),\n",
    "        showgrid=False,\n",
    "        showline=True,\n",
    "        linecolor='DarkSlateGrey'\n",
    "    ),\n",
    "    yaxis=dict(\n",
    "        title='Number of Voters',\n",
    "        titlefont=dict(size=16, color='DarkSlateGrey'),\n",
    "        tickfont=dict(size=14, color='DarkSlateGrey'),\n",
    "        showgrid=False,\n",
    "        showline=True,\n",
    "        linecolor='DarkSlateGrey'\n",
    "    ),\n",
    "    plot_bgcolor='white',\n",
    "    margin=dict(l=40, r=40, t=60, b=40),\n",
    "    hovermode='x unified',\n",
    "    legend=dict(\n",
    "        x=0.01, y=0.99,\n",
    "        bgcolor='rgba(255, 255, 255, 0.5)',\n",
    "        bordercolor='DarkSlateGrey',\n",
    "        borderwidth=1\n",
    "    )\n",
    ")\n",
    "\n",
    "fig.show()\n"
   ]
  },
  {
   "cell_type": "code",
   "execution_count": 12,
   "metadata": {},
   "outputs": [
    {
     "data": {
      "text/plain": [
       "round_num\n",
       "1.0        41\n",
       "2.0       103\n",
       "3.0       324\n",
       "4.0       660\n",
       "5.0       883\n",
       "6.0       850\n",
       "7.0      1401\n",
       "8.0      5350\n",
       "9.0     17610\n",
       "10.0    21870\n",
       "11.0    23224\n",
       "12.0    38670\n",
       "13.0    25271\n",
       "14.0    61838\n",
       "15.0    58426\n",
       "16.0    29369\n",
       "17.0    17869\n",
       "18.0    47454\n",
       "19.0    44534\n",
       "20.0    35109\n",
       "Name: voter, dtype: int64"
      ]
     },
     "execution_count": 12,
     "metadata": {},
     "output_type": "execute_result"
    }
   ],
   "source": [
    "data_grouped = data.groupby('round_num')['voter'].nunique()\n",
    "data_grouped"
   ]
  },
  {
   "cell_type": "code",
   "execution_count": 13,
   "metadata": {},
   "outputs": [
    {
     "data": {
      "text/plain": [
       "(1.5245549536288396, 1.0)"
      ]
     },
     "execution_count": 13,
     "metadata": {},
     "output_type": "execute_result"
    }
   ],
   "source": [
    "# Calculate the number of rounds each user participates in\n",
    "user_rounds = data.groupby('voter')['round_num'].nunique()\n",
    "\n",
    "# Calculate the average and median number of rounds users participate in\n",
    "average_rounds = user_rounds.mean()\n",
    "median_rounds = user_rounds.median()\n",
    "\n",
    "# Display the results\n",
    "average_rounds, median_rounds\n"
   ]
  },
  {
   "cell_type": "code",
   "execution_count": 16,
   "metadata": {},
   "outputs": [
    {
     "data": {
      "text/html": [
       "<div>\n",
       "<style scoped>\n",
       "    .dataframe tbody tr th:only-of-type {\n",
       "        vertical-align: middle;\n",
       "    }\n",
       "\n",
       "    .dataframe tbody tr th {\n",
       "        vertical-align: top;\n",
       "    }\n",
       "\n",
       "    .dataframe thead th {\n",
       "        text-align: right;\n",
       "    }\n",
       "</style>\n",
       "<table border=\"1\" class=\"dataframe\">\n",
       "  <thead>\n",
       "    <tr style=\"text-align: right;\">\n",
       "      <th></th>\n",
       "      <th>0</th>\n",
       "      <th>1</th>\n",
       "      <th>2</th>\n",
       "      <th>3</th>\n",
       "      <th>4</th>\n",
       "      <th>5</th>\n",
       "      <th>6</th>\n",
       "      <th>7</th>\n",
       "      <th>8</th>\n",
       "      <th>9</th>\n",
       "      <th>10</th>\n",
       "      <th>11</th>\n",
       "      <th>12</th>\n",
       "      <th>13</th>\n",
       "      <th>14</th>\n",
       "      <th>15</th>\n",
       "      <th>16</th>\n",
       "      <th>17</th>\n",
       "      <th>18</th>\n",
       "      <th>19</th>\n",
       "    </tr>\n",
       "    <tr>\n",
       "      <th>cohort</th>\n",
       "      <th></th>\n",
       "      <th></th>\n",
       "      <th></th>\n",
       "      <th></th>\n",
       "      <th></th>\n",
       "      <th></th>\n",
       "      <th></th>\n",
       "      <th></th>\n",
       "      <th></th>\n",
       "      <th></th>\n",
       "      <th></th>\n",
       "      <th></th>\n",
       "      <th></th>\n",
       "      <th></th>\n",
       "      <th></th>\n",
       "      <th></th>\n",
       "      <th></th>\n",
       "      <th></th>\n",
       "      <th></th>\n",
       "      <th></th>\n",
       "    </tr>\n",
       "  </thead>\n",
       "  <tbody>\n",
       "    <tr>\n",
       "      <th>1</th>\n",
       "      <td>41</td>\n",
       "      <td>26</td>\n",
       "      <td>14</td>\n",
       "      <td>11</td>\n",
       "      <td>9</td>\n",
       "      <td>6</td>\n",
       "      <td>4</td>\n",
       "      <td>3</td>\n",
       "      <td>3</td>\n",
       "      <td>2</td>\n",
       "      <td>3</td>\n",
       "      <td>3</td>\n",
       "      <td>3</td>\n",
       "      <td>2</td>\n",
       "      <td>1</td>\n",
       "      <td>1</td>\n",
       "      <td>2</td>\n",
       "      <td>2</td>\n",
       "      <td>1</td>\n",
       "      <td>2</td>\n",
       "    </tr>\n",
       "    <tr>\n",
       "      <th>2</th>\n",
       "      <td>77</td>\n",
       "      <td>24</td>\n",
       "      <td>24</td>\n",
       "      <td>19</td>\n",
       "      <td>15</td>\n",
       "      <td>4</td>\n",
       "      <td>2</td>\n",
       "      <td>4</td>\n",
       "      <td>1</td>\n",
       "      <td>1</td>\n",
       "      <td>0</td>\n",
       "      <td>1</td>\n",
       "      <td>2</td>\n",
       "      <td>2</td>\n",
       "      <td>0</td>\n",
       "      <td>0</td>\n",
       "      <td>1</td>\n",
       "      <td>1</td>\n",
       "      <td>0</td>\n",
       "      <td>0</td>\n",
       "    </tr>\n",
       "    <tr>\n",
       "      <th>3</th>\n",
       "      <td>286</td>\n",
       "      <td>120</td>\n",
       "      <td>94</td>\n",
       "      <td>54</td>\n",
       "      <td>8</td>\n",
       "      <td>7</td>\n",
       "      <td>5</td>\n",
       "      <td>4</td>\n",
       "      <td>2</td>\n",
       "      <td>6</td>\n",
       "      <td>6</td>\n",
       "      <td>2</td>\n",
       "      <td>4</td>\n",
       "      <td>2</td>\n",
       "      <td>1</td>\n",
       "      <td>2</td>\n",
       "      <td>0</td>\n",
       "      <td>2</td>\n",
       "      <td>0</td>\n",
       "      <td>0</td>\n",
       "    </tr>\n",
       "    <tr>\n",
       "      <th>4</th>\n",
       "      <td>505</td>\n",
       "      <td>141</td>\n",
       "      <td>46</td>\n",
       "      <td>37</td>\n",
       "      <td>33</td>\n",
       "      <td>22</td>\n",
       "      <td>17</td>\n",
       "      <td>14</td>\n",
       "      <td>20</td>\n",
       "      <td>15</td>\n",
       "      <td>18</td>\n",
       "      <td>15</td>\n",
       "      <td>9</td>\n",
       "      <td>5</td>\n",
       "      <td>6</td>\n",
       "      <td>6</td>\n",
       "      <td>10</td>\n",
       "      <td>0</td>\n",
       "      <td>0</td>\n",
       "      <td>0</td>\n",
       "    </tr>\n",
       "    <tr>\n",
       "      <th>5</th>\n",
       "      <td>620</td>\n",
       "      <td>55</td>\n",
       "      <td>27</td>\n",
       "      <td>31</td>\n",
       "      <td>29</td>\n",
       "      <td>24</td>\n",
       "      <td>19</td>\n",
       "      <td>16</td>\n",
       "      <td>8</td>\n",
       "      <td>8</td>\n",
       "      <td>10</td>\n",
       "      <td>10</td>\n",
       "      <td>8</td>\n",
       "      <td>7</td>\n",
       "      <td>11</td>\n",
       "      <td>9</td>\n",
       "      <td>0</td>\n",
       "      <td>0</td>\n",
       "      <td>0</td>\n",
       "      <td>0</td>\n",
       "    </tr>\n",
       "    <tr>\n",
       "      <th>6</th>\n",
       "      <td>674</td>\n",
       "      <td>41</td>\n",
       "      <td>49</td>\n",
       "      <td>36</td>\n",
       "      <td>37</td>\n",
       "      <td>17</td>\n",
       "      <td>23</td>\n",
       "      <td>19</td>\n",
       "      <td>16</td>\n",
       "      <td>20</td>\n",
       "      <td>13</td>\n",
       "      <td>11</td>\n",
       "      <td>14</td>\n",
       "      <td>11</td>\n",
       "      <td>12</td>\n",
       "      <td>0</td>\n",
       "      <td>0</td>\n",
       "      <td>0</td>\n",
       "      <td>0</td>\n",
       "      <td>0</td>\n",
       "    </tr>\n",
       "    <tr>\n",
       "      <th>7</th>\n",
       "      <td>1280</td>\n",
       "      <td>387</td>\n",
       "      <td>291</td>\n",
       "      <td>253</td>\n",
       "      <td>186</td>\n",
       "      <td>173</td>\n",
       "      <td>121</td>\n",
       "      <td>148</td>\n",
       "      <td>119</td>\n",
       "      <td>49</td>\n",
       "      <td>49</td>\n",
       "      <td>45</td>\n",
       "      <td>52</td>\n",
       "      <td>47</td>\n",
       "      <td>0</td>\n",
       "      <td>0</td>\n",
       "      <td>0</td>\n",
       "      <td>0</td>\n",
       "      <td>0</td>\n",
       "      <td>0</td>\n",
       "    </tr>\n",
       "    <tr>\n",
       "      <th>8</th>\n",
       "      <td>4838</td>\n",
       "      <td>1369</td>\n",
       "      <td>1039</td>\n",
       "      <td>718</td>\n",
       "      <td>675</td>\n",
       "      <td>332</td>\n",
       "      <td>640</td>\n",
       "      <td>466</td>\n",
       "      <td>262</td>\n",
       "      <td>174</td>\n",
       "      <td>219</td>\n",
       "      <td>191</td>\n",
       "      <td>140</td>\n",
       "      <td>0</td>\n",
       "      <td>0</td>\n",
       "      <td>0</td>\n",
       "      <td>0</td>\n",
       "      <td>0</td>\n",
       "      <td>0</td>\n",
       "      <td>0</td>\n",
       "    </tr>\n",
       "    <tr>\n",
       "      <th>9</th>\n",
       "      <td>15851</td>\n",
       "      <td>5125</td>\n",
       "      <td>3480</td>\n",
       "      <td>3223</td>\n",
       "      <td>1616</td>\n",
       "      <td>2260</td>\n",
       "      <td>1369</td>\n",
       "      <td>803</td>\n",
       "      <td>417</td>\n",
       "      <td>482</td>\n",
       "      <td>394</td>\n",
       "      <td>264</td>\n",
       "      <td>0</td>\n",
       "      <td>0</td>\n",
       "      <td>0</td>\n",
       "      <td>0</td>\n",
       "      <td>0</td>\n",
       "      <td>0</td>\n",
       "      <td>0</td>\n",
       "      <td>0</td>\n",
       "    </tr>\n",
       "    <tr>\n",
       "      <th>10</th>\n",
       "      <td>15368</td>\n",
       "      <td>3953</td>\n",
       "      <td>3287</td>\n",
       "      <td>1979</td>\n",
       "      <td>2329</td>\n",
       "      <td>1506</td>\n",
       "      <td>766</td>\n",
       "      <td>338</td>\n",
       "      <td>564</td>\n",
       "      <td>393</td>\n",
       "      <td>353</td>\n",
       "      <td>0</td>\n",
       "      <td>0</td>\n",
       "      <td>0</td>\n",
       "      <td>0</td>\n",
       "      <td>0</td>\n",
       "      <td>0</td>\n",
       "      <td>0</td>\n",
       "      <td>0</td>\n",
       "      <td>0</td>\n",
       "    </tr>\n",
       "    <tr>\n",
       "      <th>11</th>\n",
       "      <td>14831</td>\n",
       "      <td>4187</td>\n",
       "      <td>2518</td>\n",
       "      <td>2544</td>\n",
       "      <td>1710</td>\n",
       "      <td>819</td>\n",
       "      <td>320</td>\n",
       "      <td>592</td>\n",
       "      <td>441</td>\n",
       "      <td>396</td>\n",
       "      <td>0</td>\n",
       "      <td>0</td>\n",
       "      <td>0</td>\n",
       "      <td>0</td>\n",
       "      <td>0</td>\n",
       "      <td>0</td>\n",
       "      <td>0</td>\n",
       "      <td>0</td>\n",
       "      <td>0</td>\n",
       "      <td>0</td>\n",
       "    </tr>\n",
       "    <tr>\n",
       "      <th>12</th>\n",
       "      <td>27057</td>\n",
       "      <td>5604</td>\n",
       "      <td>5393</td>\n",
       "      <td>3835</td>\n",
       "      <td>1880</td>\n",
       "      <td>688</td>\n",
       "      <td>1592</td>\n",
       "      <td>1062</td>\n",
       "      <td>857</td>\n",
       "      <td>0</td>\n",
       "      <td>0</td>\n",
       "      <td>0</td>\n",
       "      <td>0</td>\n",
       "      <td>0</td>\n",
       "      <td>0</td>\n",
       "      <td>0</td>\n",
       "      <td>0</td>\n",
       "      <td>0</td>\n",
       "      <td>0</td>\n",
       "      <td>0</td>\n",
       "    </tr>\n",
       "    <tr>\n",
       "      <th>13</th>\n",
       "      <td>13049</td>\n",
       "      <td>2623</td>\n",
       "      <td>1978</td>\n",
       "      <td>789</td>\n",
       "      <td>319</td>\n",
       "      <td>751</td>\n",
       "      <td>425</td>\n",
       "      <td>256</td>\n",
       "      <td>0</td>\n",
       "      <td>0</td>\n",
       "      <td>0</td>\n",
       "      <td>0</td>\n",
       "      <td>0</td>\n",
       "      <td>0</td>\n",
       "      <td>0</td>\n",
       "      <td>0</td>\n",
       "      <td>0</td>\n",
       "      <td>0</td>\n",
       "      <td>0</td>\n",
       "      <td>0</td>\n",
       "    </tr>\n",
       "    <tr>\n",
       "      <th>14</th>\n",
       "      <td>45853</td>\n",
       "      <td>11003</td>\n",
       "      <td>4946</td>\n",
       "      <td>2135</td>\n",
       "      <td>3828</td>\n",
       "      <td>2609</td>\n",
       "      <td>1411</td>\n",
       "      <td>0</td>\n",
       "      <td>0</td>\n",
       "      <td>0</td>\n",
       "      <td>0</td>\n",
       "      <td>0</td>\n",
       "      <td>0</td>\n",
       "      <td>0</td>\n",
       "      <td>0</td>\n",
       "      <td>0</td>\n",
       "      <td>0</td>\n",
       "      <td>0</td>\n",
       "      <td>0</td>\n",
       "      <td>0</td>\n",
       "    </tr>\n",
       "    <tr>\n",
       "      <th>15</th>\n",
       "      <td>36388</td>\n",
       "      <td>3182</td>\n",
       "      <td>1367</td>\n",
       "      <td>2366</td>\n",
       "      <td>1642</td>\n",
       "      <td>1022</td>\n",
       "      <td>0</td>\n",
       "      <td>0</td>\n",
       "      <td>0</td>\n",
       "      <td>0</td>\n",
       "      <td>0</td>\n",
       "      <td>0</td>\n",
       "      <td>0</td>\n",
       "      <td>0</td>\n",
       "      <td>0</td>\n",
       "      <td>0</td>\n",
       "      <td>0</td>\n",
       "      <td>0</td>\n",
       "      <td>0</td>\n",
       "      <td>0</td>\n",
       "    </tr>\n",
       "    <tr>\n",
       "      <th>16</th>\n",
       "      <td>15838</td>\n",
       "      <td>2713</td>\n",
       "      <td>2728</td>\n",
       "      <td>1831</td>\n",
       "      <td>1005</td>\n",
       "      <td>0</td>\n",
       "      <td>0</td>\n",
       "      <td>0</td>\n",
       "      <td>0</td>\n",
       "      <td>0</td>\n",
       "      <td>0</td>\n",
       "      <td>0</td>\n",
       "      <td>0</td>\n",
       "      <td>0</td>\n",
       "      <td>0</td>\n",
       "      <td>0</td>\n",
       "      <td>0</td>\n",
       "      <td>0</td>\n",
       "      <td>0</td>\n",
       "      <td>0</td>\n",
       "    </tr>\n",
       "    <tr>\n",
       "      <th>17</th>\n",
       "      <td>9322</td>\n",
       "      <td>2315</td>\n",
       "      <td>1483</td>\n",
       "      <td>1102</td>\n",
       "      <td>0</td>\n",
       "      <td>0</td>\n",
       "      <td>0</td>\n",
       "      <td>0</td>\n",
       "      <td>0</td>\n",
       "      <td>0</td>\n",
       "      <td>0</td>\n",
       "      <td>0</td>\n",
       "      <td>0</td>\n",
       "      <td>0</td>\n",
       "      <td>0</td>\n",
       "      <td>0</td>\n",
       "      <td>0</td>\n",
       "      <td>0</td>\n",
       "      <td>0</td>\n",
       "      <td>0</td>\n",
       "    </tr>\n",
       "    <tr>\n",
       "      <th>18</th>\n",
       "      <td>31940</td>\n",
       "      <td>7741</td>\n",
       "      <td>3371</td>\n",
       "      <td>0</td>\n",
       "      <td>0</td>\n",
       "      <td>0</td>\n",
       "      <td>0</td>\n",
       "      <td>0</td>\n",
       "      <td>0</td>\n",
       "      <td>0</td>\n",
       "      <td>0</td>\n",
       "      <td>0</td>\n",
       "      <td>0</td>\n",
       "      <td>0</td>\n",
       "      <td>0</td>\n",
       "      <td>0</td>\n",
       "      <td>0</td>\n",
       "      <td>0</td>\n",
       "      <td>0</td>\n",
       "      <td>0</td>\n",
       "    </tr>\n",
       "    <tr>\n",
       "      <th>19</th>\n",
       "      <td>26240</td>\n",
       "      <td>2297</td>\n",
       "      <td>0</td>\n",
       "      <td>0</td>\n",
       "      <td>0</td>\n",
       "      <td>0</td>\n",
       "      <td>0</td>\n",
       "      <td>0</td>\n",
       "      <td>0</td>\n",
       "      <td>0</td>\n",
       "      <td>0</td>\n",
       "      <td>0</td>\n",
       "      <td>0</td>\n",
       "      <td>0</td>\n",
       "      <td>0</td>\n",
       "      <td>0</td>\n",
       "      <td>0</td>\n",
       "      <td>0</td>\n",
       "      <td>0</td>\n",
       "      <td>0</td>\n",
       "    </tr>\n",
       "    <tr>\n",
       "      <th>20</th>\n",
       "      <td>22553</td>\n",
       "      <td>0</td>\n",
       "      <td>0</td>\n",
       "      <td>0</td>\n",
       "      <td>0</td>\n",
       "      <td>0</td>\n",
       "      <td>0</td>\n",
       "      <td>0</td>\n",
       "      <td>0</td>\n",
       "      <td>0</td>\n",
       "      <td>0</td>\n",
       "      <td>0</td>\n",
       "      <td>0</td>\n",
       "      <td>0</td>\n",
       "      <td>0</td>\n",
       "      <td>0</td>\n",
       "      <td>0</td>\n",
       "      <td>0</td>\n",
       "      <td>0</td>\n",
       "      <td>0</td>\n",
       "    </tr>\n",
       "  </tbody>\n",
       "</table>\n",
       "</div>"
      ],
      "text/plain": [
       "           0      1     2     3     4     5     6     7    8    9    10   11  \\\n",
       "cohort                                                                         \n",
       "1          41     26    14    11     9     6     4     3    3    2    3    3   \n",
       "2          77     24    24    19    15     4     2     4    1    1    0    1   \n",
       "3         286    120    94    54     8     7     5     4    2    6    6    2   \n",
       "4         505    141    46    37    33    22    17    14   20   15   18   15   \n",
       "5         620     55    27    31    29    24    19    16    8    8   10   10   \n",
       "6         674     41    49    36    37    17    23    19   16   20   13   11   \n",
       "7        1280    387   291   253   186   173   121   148  119   49   49   45   \n",
       "8        4838   1369  1039   718   675   332   640   466  262  174  219  191   \n",
       "9       15851   5125  3480  3223  1616  2260  1369   803  417  482  394  264   \n",
       "10      15368   3953  3287  1979  2329  1506   766   338  564  393  353    0   \n",
       "11      14831   4187  2518  2544  1710   819   320   592  441  396    0    0   \n",
       "12      27057   5604  5393  3835  1880   688  1592  1062  857    0    0    0   \n",
       "13      13049   2623  1978   789   319   751   425   256    0    0    0    0   \n",
       "14      45853  11003  4946  2135  3828  2609  1411     0    0    0    0    0   \n",
       "15      36388   3182  1367  2366  1642  1022     0     0    0    0    0    0   \n",
       "16      15838   2713  2728  1831  1005     0     0     0    0    0    0    0   \n",
       "17       9322   2315  1483  1102     0     0     0     0    0    0    0    0   \n",
       "18      31940   7741  3371     0     0     0     0     0    0    0    0    0   \n",
       "19      26240   2297     0     0     0     0     0     0    0    0    0    0   \n",
       "20      22553      0     0     0     0     0     0     0    0    0    0    0   \n",
       "\n",
       "         12  13  14  15  16  17  18  19  \n",
       "cohort                                   \n",
       "1         3   2   1   1   2   2   1   2  \n",
       "2         2   2   0   0   1   1   0   0  \n",
       "3         4   2   1   2   0   2   0   0  \n",
       "4         9   5   6   6  10   0   0   0  \n",
       "5         8   7  11   9   0   0   0   0  \n",
       "6        14  11  12   0   0   0   0   0  \n",
       "7        52  47   0   0   0   0   0   0  \n",
       "8       140   0   0   0   0   0   0   0  \n",
       "9         0   0   0   0   0   0   0   0  \n",
       "10        0   0   0   0   0   0   0   0  \n",
       "11        0   0   0   0   0   0   0   0  \n",
       "12        0   0   0   0   0   0   0   0  \n",
       "13        0   0   0   0   0   0   0   0  \n",
       "14        0   0   0   0   0   0   0   0  \n",
       "15        0   0   0   0   0   0   0   0  \n",
       "16        0   0   0   0   0   0   0   0  \n",
       "17        0   0   0   0   0   0   0   0  \n",
       "18        0   0   0   0   0   0   0   0  \n",
       "19        0   0   0   0   0   0   0   0  \n",
       "20        0   0   0   0   0   0   0   0  "
      ]
     },
     "execution_count": 16,
     "metadata": {},
     "output_type": "execute_result"
    }
   ],
   "source": [
    "# Determine the range of cohorts and rounds dynamically\n",
    "min_cohort = int(data['cohort'].min())\n",
    "max_cohort = int(data['cohort'].max())\n",
    "min_round = int(data['round_num'].min())\n",
    "max_round = int(data['round_num'].max())\n",
    "\n",
    "# Create a pivot table with cohorts as index and rounds as columns\n",
    "cohort_table = pd.pivot_table(data, values='voter', index='cohort', columns='round_num', aggfunc='count', fill_value=0)\n",
    "\n",
    "# Ensure cohort_table includes all cohorts from min_cohort to max_cohort\n",
    "all_cohorts = pd.Index(range(min_cohort, max_cohort + 1), name='cohort')\n",
    "cohort_table = cohort_table.reindex(all_cohorts, fill_value=0)\n",
    "\n",
    "# Shift each row to the left until the first non-zero value is in the first column\n",
    "for i in range(cohort_table.shape[0]):\n",
    "    # Find the index of the first non-zero value\n",
    "    non_zero_index = next((index for index, value in enumerate(cohort_table.iloc[i, :]) if value != 0), None)\n",
    "    # Shift the row to the left by the index of the first non-zero value\n",
    "    if non_zero_index is not None:\n",
    "        cohort_table.iloc[i, :] = np.roll(cohort_table.iloc[i, :], -non_zero_index)\n",
    "\n",
    "# Reset the column names to represent the relative round number\n",
    "cohort_table.columns = list(range(cohort_table.shape[1]))\n",
    "cohort_table"
   ]
  },
  {
   "cell_type": "code",
   "execution_count": 17,
   "metadata": {},
   "outputs": [
    {
     "data": {
      "text/html": [
       "<div>\n",
       "<style scoped>\n",
       "    .dataframe tbody tr th:only-of-type {\n",
       "        vertical-align: middle;\n",
       "    }\n",
       "\n",
       "    .dataframe tbody tr th {\n",
       "        vertical-align: top;\n",
       "    }\n",
       "\n",
       "    .dataframe thead th {\n",
       "        text-align: right;\n",
       "    }\n",
       "</style>\n",
       "<table border=\"1\" class=\"dataframe\">\n",
       "  <thead>\n",
       "    <tr style=\"text-align: right;\">\n",
       "      <th></th>\n",
       "      <th>0</th>\n",
       "      <th>1</th>\n",
       "      <th>2</th>\n",
       "      <th>3</th>\n",
       "      <th>4</th>\n",
       "      <th>5</th>\n",
       "      <th>6</th>\n",
       "      <th>7</th>\n",
       "      <th>8</th>\n",
       "      <th>9</th>\n",
       "      <th>10</th>\n",
       "      <th>11</th>\n",
       "      <th>12</th>\n",
       "      <th>13</th>\n",
       "      <th>14</th>\n",
       "      <th>15</th>\n",
       "      <th>16</th>\n",
       "      <th>17</th>\n",
       "      <th>18</th>\n",
       "      <th>19</th>\n",
       "    </tr>\n",
       "    <tr>\n",
       "      <th>cohort</th>\n",
       "      <th></th>\n",
       "      <th></th>\n",
       "      <th></th>\n",
       "      <th></th>\n",
       "      <th></th>\n",
       "      <th></th>\n",
       "      <th></th>\n",
       "      <th></th>\n",
       "      <th></th>\n",
       "      <th></th>\n",
       "      <th></th>\n",
       "      <th></th>\n",
       "      <th></th>\n",
       "      <th></th>\n",
       "      <th></th>\n",
       "      <th></th>\n",
       "      <th></th>\n",
       "      <th></th>\n",
       "      <th></th>\n",
       "      <th></th>\n",
       "    </tr>\n",
       "  </thead>\n",
       "  <tbody>\n",
       "    <tr>\n",
       "      <th>1</th>\n",
       "      <td>1.0</td>\n",
       "      <td>0.634146</td>\n",
       "      <td>0.341463</td>\n",
       "      <td>0.268293</td>\n",
       "      <td>0.219512</td>\n",
       "      <td>0.146341</td>\n",
       "      <td>0.097561</td>\n",
       "      <td>0.073171</td>\n",
       "      <td>0.073171</td>\n",
       "      <td>0.048780</td>\n",
       "      <td>0.073171</td>\n",
       "      <td>0.073171</td>\n",
       "      <td>0.073171</td>\n",
       "      <td>0.048780</td>\n",
       "      <td>0.024390</td>\n",
       "      <td>0.024390</td>\n",
       "      <td>0.048780</td>\n",
       "      <td>0.048780</td>\n",
       "      <td>0.02439</td>\n",
       "      <td>0.04878</td>\n",
       "    </tr>\n",
       "    <tr>\n",
       "      <th>2</th>\n",
       "      <td>1.0</td>\n",
       "      <td>0.311688</td>\n",
       "      <td>0.311688</td>\n",
       "      <td>0.246753</td>\n",
       "      <td>0.194805</td>\n",
       "      <td>0.051948</td>\n",
       "      <td>0.025974</td>\n",
       "      <td>0.051948</td>\n",
       "      <td>0.012987</td>\n",
       "      <td>0.012987</td>\n",
       "      <td>0.000000</td>\n",
       "      <td>0.012987</td>\n",
       "      <td>0.025974</td>\n",
       "      <td>0.025974</td>\n",
       "      <td>0.000000</td>\n",
       "      <td>0.000000</td>\n",
       "      <td>0.012987</td>\n",
       "      <td>0.012987</td>\n",
       "      <td>0.00000</td>\n",
       "      <td>0.00000</td>\n",
       "    </tr>\n",
       "    <tr>\n",
       "      <th>3</th>\n",
       "      <td>1.0</td>\n",
       "      <td>0.419580</td>\n",
       "      <td>0.328671</td>\n",
       "      <td>0.188811</td>\n",
       "      <td>0.027972</td>\n",
       "      <td>0.024476</td>\n",
       "      <td>0.017483</td>\n",
       "      <td>0.013986</td>\n",
       "      <td>0.006993</td>\n",
       "      <td>0.020979</td>\n",
       "      <td>0.020979</td>\n",
       "      <td>0.006993</td>\n",
       "      <td>0.013986</td>\n",
       "      <td>0.006993</td>\n",
       "      <td>0.003497</td>\n",
       "      <td>0.006993</td>\n",
       "      <td>0.000000</td>\n",
       "      <td>0.006993</td>\n",
       "      <td>0.00000</td>\n",
       "      <td>0.00000</td>\n",
       "    </tr>\n",
       "    <tr>\n",
       "      <th>4</th>\n",
       "      <td>1.0</td>\n",
       "      <td>0.279208</td>\n",
       "      <td>0.091089</td>\n",
       "      <td>0.073267</td>\n",
       "      <td>0.065347</td>\n",
       "      <td>0.043564</td>\n",
       "      <td>0.033663</td>\n",
       "      <td>0.027723</td>\n",
       "      <td>0.039604</td>\n",
       "      <td>0.029703</td>\n",
       "      <td>0.035644</td>\n",
       "      <td>0.029703</td>\n",
       "      <td>0.017822</td>\n",
       "      <td>0.009901</td>\n",
       "      <td>0.011881</td>\n",
       "      <td>0.011881</td>\n",
       "      <td>0.019802</td>\n",
       "      <td>0.000000</td>\n",
       "      <td>0.00000</td>\n",
       "      <td>0.00000</td>\n",
       "    </tr>\n",
       "    <tr>\n",
       "      <th>5</th>\n",
       "      <td>1.0</td>\n",
       "      <td>0.088710</td>\n",
       "      <td>0.043548</td>\n",
       "      <td>0.050000</td>\n",
       "      <td>0.046774</td>\n",
       "      <td>0.038710</td>\n",
       "      <td>0.030645</td>\n",
       "      <td>0.025806</td>\n",
       "      <td>0.012903</td>\n",
       "      <td>0.012903</td>\n",
       "      <td>0.016129</td>\n",
       "      <td>0.016129</td>\n",
       "      <td>0.012903</td>\n",
       "      <td>0.011290</td>\n",
       "      <td>0.017742</td>\n",
       "      <td>0.014516</td>\n",
       "      <td>0.000000</td>\n",
       "      <td>0.000000</td>\n",
       "      <td>0.00000</td>\n",
       "      <td>0.00000</td>\n",
       "    </tr>\n",
       "    <tr>\n",
       "      <th>6</th>\n",
       "      <td>1.0</td>\n",
       "      <td>0.060831</td>\n",
       "      <td>0.072700</td>\n",
       "      <td>0.053412</td>\n",
       "      <td>0.054896</td>\n",
       "      <td>0.025223</td>\n",
       "      <td>0.034125</td>\n",
       "      <td>0.028190</td>\n",
       "      <td>0.023739</td>\n",
       "      <td>0.029674</td>\n",
       "      <td>0.019288</td>\n",
       "      <td>0.016320</td>\n",
       "      <td>0.020772</td>\n",
       "      <td>0.016320</td>\n",
       "      <td>0.017804</td>\n",
       "      <td>0.000000</td>\n",
       "      <td>0.000000</td>\n",
       "      <td>0.000000</td>\n",
       "      <td>0.00000</td>\n",
       "      <td>0.00000</td>\n",
       "    </tr>\n",
       "    <tr>\n",
       "      <th>7</th>\n",
       "      <td>1.0</td>\n",
       "      <td>0.302344</td>\n",
       "      <td>0.227344</td>\n",
       "      <td>0.197656</td>\n",
       "      <td>0.145313</td>\n",
       "      <td>0.135156</td>\n",
       "      <td>0.094531</td>\n",
       "      <td>0.115625</td>\n",
       "      <td>0.092969</td>\n",
       "      <td>0.038281</td>\n",
       "      <td>0.038281</td>\n",
       "      <td>0.035156</td>\n",
       "      <td>0.040625</td>\n",
       "      <td>0.036719</td>\n",
       "      <td>0.000000</td>\n",
       "      <td>0.000000</td>\n",
       "      <td>0.000000</td>\n",
       "      <td>0.000000</td>\n",
       "      <td>0.00000</td>\n",
       "      <td>0.00000</td>\n",
       "    </tr>\n",
       "    <tr>\n",
       "      <th>8</th>\n",
       "      <td>1.0</td>\n",
       "      <td>0.282968</td>\n",
       "      <td>0.214758</td>\n",
       "      <td>0.148408</td>\n",
       "      <td>0.139520</td>\n",
       "      <td>0.068623</td>\n",
       "      <td>0.132286</td>\n",
       "      <td>0.096321</td>\n",
       "      <td>0.054155</td>\n",
       "      <td>0.035965</td>\n",
       "      <td>0.045267</td>\n",
       "      <td>0.039479</td>\n",
       "      <td>0.028938</td>\n",
       "      <td>0.000000</td>\n",
       "      <td>0.000000</td>\n",
       "      <td>0.000000</td>\n",
       "      <td>0.000000</td>\n",
       "      <td>0.000000</td>\n",
       "      <td>0.00000</td>\n",
       "      <td>0.00000</td>\n",
       "    </tr>\n",
       "    <tr>\n",
       "      <th>9</th>\n",
       "      <td>1.0</td>\n",
       "      <td>0.323323</td>\n",
       "      <td>0.219545</td>\n",
       "      <td>0.203331</td>\n",
       "      <td>0.101949</td>\n",
       "      <td>0.142578</td>\n",
       "      <td>0.086367</td>\n",
       "      <td>0.050659</td>\n",
       "      <td>0.026307</td>\n",
       "      <td>0.030408</td>\n",
       "      <td>0.024856</td>\n",
       "      <td>0.016655</td>\n",
       "      <td>0.000000</td>\n",
       "      <td>0.000000</td>\n",
       "      <td>0.000000</td>\n",
       "      <td>0.000000</td>\n",
       "      <td>0.000000</td>\n",
       "      <td>0.000000</td>\n",
       "      <td>0.00000</td>\n",
       "      <td>0.00000</td>\n",
       "    </tr>\n",
       "    <tr>\n",
       "      <th>10</th>\n",
       "      <td>1.0</td>\n",
       "      <td>0.257223</td>\n",
       "      <td>0.213886</td>\n",
       "      <td>0.128774</td>\n",
       "      <td>0.151549</td>\n",
       "      <td>0.097996</td>\n",
       "      <td>0.049844</td>\n",
       "      <td>0.021994</td>\n",
       "      <td>0.036700</td>\n",
       "      <td>0.025573</td>\n",
       "      <td>0.022970</td>\n",
       "      <td>0.000000</td>\n",
       "      <td>0.000000</td>\n",
       "      <td>0.000000</td>\n",
       "      <td>0.000000</td>\n",
       "      <td>0.000000</td>\n",
       "      <td>0.000000</td>\n",
       "      <td>0.000000</td>\n",
       "      <td>0.00000</td>\n",
       "      <td>0.00000</td>\n",
       "    </tr>\n",
       "    <tr>\n",
       "      <th>11</th>\n",
       "      <td>1.0</td>\n",
       "      <td>0.282314</td>\n",
       "      <td>0.169780</td>\n",
       "      <td>0.171533</td>\n",
       "      <td>0.115299</td>\n",
       "      <td>0.055222</td>\n",
       "      <td>0.021576</td>\n",
       "      <td>0.039916</td>\n",
       "      <td>0.029735</td>\n",
       "      <td>0.026701</td>\n",
       "      <td>0.000000</td>\n",
       "      <td>0.000000</td>\n",
       "      <td>0.000000</td>\n",
       "      <td>0.000000</td>\n",
       "      <td>0.000000</td>\n",
       "      <td>0.000000</td>\n",
       "      <td>0.000000</td>\n",
       "      <td>0.000000</td>\n",
       "      <td>0.00000</td>\n",
       "      <td>0.00000</td>\n",
       "    </tr>\n",
       "    <tr>\n",
       "      <th>12</th>\n",
       "      <td>1.0</td>\n",
       "      <td>0.207118</td>\n",
       "      <td>0.199320</td>\n",
       "      <td>0.141738</td>\n",
       "      <td>0.069483</td>\n",
       "      <td>0.025428</td>\n",
       "      <td>0.058839</td>\n",
       "      <td>0.039250</td>\n",
       "      <td>0.031674</td>\n",
       "      <td>0.000000</td>\n",
       "      <td>0.000000</td>\n",
       "      <td>0.000000</td>\n",
       "      <td>0.000000</td>\n",
       "      <td>0.000000</td>\n",
       "      <td>0.000000</td>\n",
       "      <td>0.000000</td>\n",
       "      <td>0.000000</td>\n",
       "      <td>0.000000</td>\n",
       "      <td>0.00000</td>\n",
       "      <td>0.00000</td>\n",
       "    </tr>\n",
       "    <tr>\n",
       "      <th>13</th>\n",
       "      <td>1.0</td>\n",
       "      <td>0.201012</td>\n",
       "      <td>0.151582</td>\n",
       "      <td>0.060464</td>\n",
       "      <td>0.024446</td>\n",
       "      <td>0.057552</td>\n",
       "      <td>0.032570</td>\n",
       "      <td>0.019618</td>\n",
       "      <td>0.000000</td>\n",
       "      <td>0.000000</td>\n",
       "      <td>0.000000</td>\n",
       "      <td>0.000000</td>\n",
       "      <td>0.000000</td>\n",
       "      <td>0.000000</td>\n",
       "      <td>0.000000</td>\n",
       "      <td>0.000000</td>\n",
       "      <td>0.000000</td>\n",
       "      <td>0.000000</td>\n",
       "      <td>0.00000</td>\n",
       "      <td>0.00000</td>\n",
       "    </tr>\n",
       "    <tr>\n",
       "      <th>14</th>\n",
       "      <td>1.0</td>\n",
       "      <td>0.239962</td>\n",
       "      <td>0.107866</td>\n",
       "      <td>0.046562</td>\n",
       "      <td>0.083484</td>\n",
       "      <td>0.056899</td>\n",
       "      <td>0.030772</td>\n",
       "      <td>0.000000</td>\n",
       "      <td>0.000000</td>\n",
       "      <td>0.000000</td>\n",
       "      <td>0.000000</td>\n",
       "      <td>0.000000</td>\n",
       "      <td>0.000000</td>\n",
       "      <td>0.000000</td>\n",
       "      <td>0.000000</td>\n",
       "      <td>0.000000</td>\n",
       "      <td>0.000000</td>\n",
       "      <td>0.000000</td>\n",
       "      <td>0.00000</td>\n",
       "      <td>0.00000</td>\n",
       "    </tr>\n",
       "    <tr>\n",
       "      <th>15</th>\n",
       "      <td>1.0</td>\n",
       "      <td>0.087446</td>\n",
       "      <td>0.037567</td>\n",
       "      <td>0.065021</td>\n",
       "      <td>0.045125</td>\n",
       "      <td>0.028086</td>\n",
       "      <td>0.000000</td>\n",
       "      <td>0.000000</td>\n",
       "      <td>0.000000</td>\n",
       "      <td>0.000000</td>\n",
       "      <td>0.000000</td>\n",
       "      <td>0.000000</td>\n",
       "      <td>0.000000</td>\n",
       "      <td>0.000000</td>\n",
       "      <td>0.000000</td>\n",
       "      <td>0.000000</td>\n",
       "      <td>0.000000</td>\n",
       "      <td>0.000000</td>\n",
       "      <td>0.00000</td>\n",
       "      <td>0.00000</td>\n",
       "    </tr>\n",
       "    <tr>\n",
       "      <th>16</th>\n",
       "      <td>1.0</td>\n",
       "      <td>0.171297</td>\n",
       "      <td>0.172244</td>\n",
       "      <td>0.115608</td>\n",
       "      <td>0.063455</td>\n",
       "      <td>0.000000</td>\n",
       "      <td>0.000000</td>\n",
       "      <td>0.000000</td>\n",
       "      <td>0.000000</td>\n",
       "      <td>0.000000</td>\n",
       "      <td>0.000000</td>\n",
       "      <td>0.000000</td>\n",
       "      <td>0.000000</td>\n",
       "      <td>0.000000</td>\n",
       "      <td>0.000000</td>\n",
       "      <td>0.000000</td>\n",
       "      <td>0.000000</td>\n",
       "      <td>0.000000</td>\n",
       "      <td>0.00000</td>\n",
       "      <td>0.00000</td>\n",
       "    </tr>\n",
       "    <tr>\n",
       "      <th>17</th>\n",
       "      <td>1.0</td>\n",
       "      <td>0.248337</td>\n",
       "      <td>0.159086</td>\n",
       "      <td>0.118215</td>\n",
       "      <td>0.000000</td>\n",
       "      <td>0.000000</td>\n",
       "      <td>0.000000</td>\n",
       "      <td>0.000000</td>\n",
       "      <td>0.000000</td>\n",
       "      <td>0.000000</td>\n",
       "      <td>0.000000</td>\n",
       "      <td>0.000000</td>\n",
       "      <td>0.000000</td>\n",
       "      <td>0.000000</td>\n",
       "      <td>0.000000</td>\n",
       "      <td>0.000000</td>\n",
       "      <td>0.000000</td>\n",
       "      <td>0.000000</td>\n",
       "      <td>0.00000</td>\n",
       "      <td>0.00000</td>\n",
       "    </tr>\n",
       "    <tr>\n",
       "      <th>18</th>\n",
       "      <td>1.0</td>\n",
       "      <td>0.242361</td>\n",
       "      <td>0.105542</td>\n",
       "      <td>0.000000</td>\n",
       "      <td>0.000000</td>\n",
       "      <td>0.000000</td>\n",
       "      <td>0.000000</td>\n",
       "      <td>0.000000</td>\n",
       "      <td>0.000000</td>\n",
       "      <td>0.000000</td>\n",
       "      <td>0.000000</td>\n",
       "      <td>0.000000</td>\n",
       "      <td>0.000000</td>\n",
       "      <td>0.000000</td>\n",
       "      <td>0.000000</td>\n",
       "      <td>0.000000</td>\n",
       "      <td>0.000000</td>\n",
       "      <td>0.000000</td>\n",
       "      <td>0.00000</td>\n",
       "      <td>0.00000</td>\n",
       "    </tr>\n",
       "    <tr>\n",
       "      <th>19</th>\n",
       "      <td>1.0</td>\n",
       "      <td>0.087538</td>\n",
       "      <td>0.000000</td>\n",
       "      <td>0.000000</td>\n",
       "      <td>0.000000</td>\n",
       "      <td>0.000000</td>\n",
       "      <td>0.000000</td>\n",
       "      <td>0.000000</td>\n",
       "      <td>0.000000</td>\n",
       "      <td>0.000000</td>\n",
       "      <td>0.000000</td>\n",
       "      <td>0.000000</td>\n",
       "      <td>0.000000</td>\n",
       "      <td>0.000000</td>\n",
       "      <td>0.000000</td>\n",
       "      <td>0.000000</td>\n",
       "      <td>0.000000</td>\n",
       "      <td>0.000000</td>\n",
       "      <td>0.00000</td>\n",
       "      <td>0.00000</td>\n",
       "    </tr>\n",
       "    <tr>\n",
       "      <th>20</th>\n",
       "      <td>1.0</td>\n",
       "      <td>0.000000</td>\n",
       "      <td>0.000000</td>\n",
       "      <td>0.000000</td>\n",
       "      <td>0.000000</td>\n",
       "      <td>0.000000</td>\n",
       "      <td>0.000000</td>\n",
       "      <td>0.000000</td>\n",
       "      <td>0.000000</td>\n",
       "      <td>0.000000</td>\n",
       "      <td>0.000000</td>\n",
       "      <td>0.000000</td>\n",
       "      <td>0.000000</td>\n",
       "      <td>0.000000</td>\n",
       "      <td>0.000000</td>\n",
       "      <td>0.000000</td>\n",
       "      <td>0.000000</td>\n",
       "      <td>0.000000</td>\n",
       "      <td>0.00000</td>\n",
       "      <td>0.00000</td>\n",
       "    </tr>\n",
       "  </tbody>\n",
       "</table>\n",
       "</div>"
      ],
      "text/plain": [
       "         0         1         2         3         4         5         6   \\\n",
       "cohort                                                                    \n",
       "1       1.0  0.634146  0.341463  0.268293  0.219512  0.146341  0.097561   \n",
       "2       1.0  0.311688  0.311688  0.246753  0.194805  0.051948  0.025974   \n",
       "3       1.0  0.419580  0.328671  0.188811  0.027972  0.024476  0.017483   \n",
       "4       1.0  0.279208  0.091089  0.073267  0.065347  0.043564  0.033663   \n",
       "5       1.0  0.088710  0.043548  0.050000  0.046774  0.038710  0.030645   \n",
       "6       1.0  0.060831  0.072700  0.053412  0.054896  0.025223  0.034125   \n",
       "7       1.0  0.302344  0.227344  0.197656  0.145313  0.135156  0.094531   \n",
       "8       1.0  0.282968  0.214758  0.148408  0.139520  0.068623  0.132286   \n",
       "9       1.0  0.323323  0.219545  0.203331  0.101949  0.142578  0.086367   \n",
       "10      1.0  0.257223  0.213886  0.128774  0.151549  0.097996  0.049844   \n",
       "11      1.0  0.282314  0.169780  0.171533  0.115299  0.055222  0.021576   \n",
       "12      1.0  0.207118  0.199320  0.141738  0.069483  0.025428  0.058839   \n",
       "13      1.0  0.201012  0.151582  0.060464  0.024446  0.057552  0.032570   \n",
       "14      1.0  0.239962  0.107866  0.046562  0.083484  0.056899  0.030772   \n",
       "15      1.0  0.087446  0.037567  0.065021  0.045125  0.028086  0.000000   \n",
       "16      1.0  0.171297  0.172244  0.115608  0.063455  0.000000  0.000000   \n",
       "17      1.0  0.248337  0.159086  0.118215  0.000000  0.000000  0.000000   \n",
       "18      1.0  0.242361  0.105542  0.000000  0.000000  0.000000  0.000000   \n",
       "19      1.0  0.087538  0.000000  0.000000  0.000000  0.000000  0.000000   \n",
       "20      1.0  0.000000  0.000000  0.000000  0.000000  0.000000  0.000000   \n",
       "\n",
       "              7         8         9         10        11        12        13  \\\n",
       "cohort                                                                         \n",
       "1       0.073171  0.073171  0.048780  0.073171  0.073171  0.073171  0.048780   \n",
       "2       0.051948  0.012987  0.012987  0.000000  0.012987  0.025974  0.025974   \n",
       "3       0.013986  0.006993  0.020979  0.020979  0.006993  0.013986  0.006993   \n",
       "4       0.027723  0.039604  0.029703  0.035644  0.029703  0.017822  0.009901   \n",
       "5       0.025806  0.012903  0.012903  0.016129  0.016129  0.012903  0.011290   \n",
       "6       0.028190  0.023739  0.029674  0.019288  0.016320  0.020772  0.016320   \n",
       "7       0.115625  0.092969  0.038281  0.038281  0.035156  0.040625  0.036719   \n",
       "8       0.096321  0.054155  0.035965  0.045267  0.039479  0.028938  0.000000   \n",
       "9       0.050659  0.026307  0.030408  0.024856  0.016655  0.000000  0.000000   \n",
       "10      0.021994  0.036700  0.025573  0.022970  0.000000  0.000000  0.000000   \n",
       "11      0.039916  0.029735  0.026701  0.000000  0.000000  0.000000  0.000000   \n",
       "12      0.039250  0.031674  0.000000  0.000000  0.000000  0.000000  0.000000   \n",
       "13      0.019618  0.000000  0.000000  0.000000  0.000000  0.000000  0.000000   \n",
       "14      0.000000  0.000000  0.000000  0.000000  0.000000  0.000000  0.000000   \n",
       "15      0.000000  0.000000  0.000000  0.000000  0.000000  0.000000  0.000000   \n",
       "16      0.000000  0.000000  0.000000  0.000000  0.000000  0.000000  0.000000   \n",
       "17      0.000000  0.000000  0.000000  0.000000  0.000000  0.000000  0.000000   \n",
       "18      0.000000  0.000000  0.000000  0.000000  0.000000  0.000000  0.000000   \n",
       "19      0.000000  0.000000  0.000000  0.000000  0.000000  0.000000  0.000000   \n",
       "20      0.000000  0.000000  0.000000  0.000000  0.000000  0.000000  0.000000   \n",
       "\n",
       "              14        15        16        17       18       19  \n",
       "cohort                                                            \n",
       "1       0.024390  0.024390  0.048780  0.048780  0.02439  0.04878  \n",
       "2       0.000000  0.000000  0.012987  0.012987  0.00000  0.00000  \n",
       "3       0.003497  0.006993  0.000000  0.006993  0.00000  0.00000  \n",
       "4       0.011881  0.011881  0.019802  0.000000  0.00000  0.00000  \n",
       "5       0.017742  0.014516  0.000000  0.000000  0.00000  0.00000  \n",
       "6       0.017804  0.000000  0.000000  0.000000  0.00000  0.00000  \n",
       "7       0.000000  0.000000  0.000000  0.000000  0.00000  0.00000  \n",
       "8       0.000000  0.000000  0.000000  0.000000  0.00000  0.00000  \n",
       "9       0.000000  0.000000  0.000000  0.000000  0.00000  0.00000  \n",
       "10      0.000000  0.000000  0.000000  0.000000  0.00000  0.00000  \n",
       "11      0.000000  0.000000  0.000000  0.000000  0.00000  0.00000  \n",
       "12      0.000000  0.000000  0.000000  0.000000  0.00000  0.00000  \n",
       "13      0.000000  0.000000  0.000000  0.000000  0.00000  0.00000  \n",
       "14      0.000000  0.000000  0.000000  0.000000  0.00000  0.00000  \n",
       "15      0.000000  0.000000  0.000000  0.000000  0.00000  0.00000  \n",
       "16      0.000000  0.000000  0.000000  0.000000  0.00000  0.00000  \n",
       "17      0.000000  0.000000  0.000000  0.000000  0.00000  0.00000  \n",
       "18      0.000000  0.000000  0.000000  0.000000  0.00000  0.00000  \n",
       "19      0.000000  0.000000  0.000000  0.000000  0.00000  0.00000  \n",
       "20      0.000000  0.000000  0.000000  0.000000  0.00000  0.00000  "
      ]
     },
     "execution_count": 17,
     "metadata": {},
     "output_type": "execute_result"
    }
   ],
   "source": [
    "initial_cohort_sizes = cohort_table.iloc[:, 0]\n",
    "retention_table = cohort_table.iloc[:, 0:].divide(initial_cohort_sizes.replace(0, 1), axis=0)\n",
    "\n",
    "retention_table"
   ]
  },
  {
   "cell_type": "code",
   "execution_count": 18,
   "metadata": {},
   "outputs": [
    {
     "data": {
      "text/html": [
       "<div>\n",
       "<style scoped>\n",
       "    .dataframe tbody tr th:only-of-type {\n",
       "        vertical-align: middle;\n",
       "    }\n",
       "\n",
       "    .dataframe tbody tr th {\n",
       "        vertical-align: top;\n",
       "    }\n",
       "\n",
       "    .dataframe thead th {\n",
       "        text-align: right;\n",
       "    }\n",
       "</style>\n",
       "<table border=\"1\" class=\"dataframe\">\n",
       "  <thead>\n",
       "    <tr style=\"text-align: right;\">\n",
       "      <th></th>\n",
       "      <th>0</th>\n",
       "      <th>1</th>\n",
       "      <th>2</th>\n",
       "      <th>3</th>\n",
       "      <th>4</th>\n",
       "      <th>5</th>\n",
       "      <th>6</th>\n",
       "      <th>7</th>\n",
       "      <th>8</th>\n",
       "      <th>9</th>\n",
       "      <th>10</th>\n",
       "      <th>11</th>\n",
       "      <th>12</th>\n",
       "      <th>13</th>\n",
       "      <th>14</th>\n",
       "      <th>15</th>\n",
       "      <th>16</th>\n",
       "      <th>17</th>\n",
       "      <th>18</th>\n",
       "      <th>19</th>\n",
       "    </tr>\n",
       "    <tr>\n",
       "      <th>cohort</th>\n",
       "      <th></th>\n",
       "      <th></th>\n",
       "      <th></th>\n",
       "      <th></th>\n",
       "      <th></th>\n",
       "      <th></th>\n",
       "      <th></th>\n",
       "      <th></th>\n",
       "      <th></th>\n",
       "      <th></th>\n",
       "      <th></th>\n",
       "      <th></th>\n",
       "      <th></th>\n",
       "      <th></th>\n",
       "      <th></th>\n",
       "      <th></th>\n",
       "      <th></th>\n",
       "      <th></th>\n",
       "      <th></th>\n",
       "      <th></th>\n",
       "    </tr>\n",
       "  </thead>\n",
       "  <tbody>\n",
       "    <tr>\n",
       "      <th>1</th>\n",
       "      <td>1.0</td>\n",
       "      <td>0.634146</td>\n",
       "      <td>0.341463</td>\n",
       "      <td>0.268293</td>\n",
       "      <td>0.219512</td>\n",
       "      <td>0.146341</td>\n",
       "      <td>0.097561</td>\n",
       "      <td>0.073171</td>\n",
       "      <td>0.073171</td>\n",
       "      <td>0.048780</td>\n",
       "      <td>0.073171</td>\n",
       "      <td>0.073171</td>\n",
       "      <td>0.073171</td>\n",
       "      <td>0.048780</td>\n",
       "      <td>0.024390</td>\n",
       "      <td>0.024390</td>\n",
       "      <td>0.048780</td>\n",
       "      <td>0.048780</td>\n",
       "      <td>0.02439</td>\n",
       "      <td>0.04878</td>\n",
       "    </tr>\n",
       "    <tr>\n",
       "      <th>2</th>\n",
       "      <td>1.0</td>\n",
       "      <td>0.311688</td>\n",
       "      <td>0.311688</td>\n",
       "      <td>0.246753</td>\n",
       "      <td>0.194805</td>\n",
       "      <td>0.051948</td>\n",
       "      <td>0.025974</td>\n",
       "      <td>0.051948</td>\n",
       "      <td>0.012987</td>\n",
       "      <td>0.012987</td>\n",
       "      <td>0.000000</td>\n",
       "      <td>0.012987</td>\n",
       "      <td>0.025974</td>\n",
       "      <td>0.025974</td>\n",
       "      <td>0.000000</td>\n",
       "      <td>0.000000</td>\n",
       "      <td>0.012987</td>\n",
       "      <td>0.012987</td>\n",
       "      <td>0.00000</td>\n",
       "      <td>0.00000</td>\n",
       "    </tr>\n",
       "    <tr>\n",
       "      <th>3</th>\n",
       "      <td>1.0</td>\n",
       "      <td>0.419580</td>\n",
       "      <td>0.328671</td>\n",
       "      <td>0.188811</td>\n",
       "      <td>0.027972</td>\n",
       "      <td>0.024476</td>\n",
       "      <td>0.017483</td>\n",
       "      <td>0.013986</td>\n",
       "      <td>0.006993</td>\n",
       "      <td>0.020979</td>\n",
       "      <td>0.020979</td>\n",
       "      <td>0.006993</td>\n",
       "      <td>0.013986</td>\n",
       "      <td>0.006993</td>\n",
       "      <td>0.003497</td>\n",
       "      <td>0.006993</td>\n",
       "      <td>0.000000</td>\n",
       "      <td>0.006993</td>\n",
       "      <td>0.00000</td>\n",
       "      <td>0.00000</td>\n",
       "    </tr>\n",
       "    <tr>\n",
       "      <th>4</th>\n",
       "      <td>1.0</td>\n",
       "      <td>0.279208</td>\n",
       "      <td>0.091089</td>\n",
       "      <td>0.073267</td>\n",
       "      <td>0.065347</td>\n",
       "      <td>0.043564</td>\n",
       "      <td>0.033663</td>\n",
       "      <td>0.027723</td>\n",
       "      <td>0.039604</td>\n",
       "      <td>0.029703</td>\n",
       "      <td>0.035644</td>\n",
       "      <td>0.029703</td>\n",
       "      <td>0.017822</td>\n",
       "      <td>0.009901</td>\n",
       "      <td>0.011881</td>\n",
       "      <td>0.011881</td>\n",
       "      <td>0.019802</td>\n",
       "      <td>0.000000</td>\n",
       "      <td>0.00000</td>\n",
       "      <td>0.00000</td>\n",
       "    </tr>\n",
       "    <tr>\n",
       "      <th>5</th>\n",
       "      <td>1.0</td>\n",
       "      <td>0.088710</td>\n",
       "      <td>0.043548</td>\n",
       "      <td>0.050000</td>\n",
       "      <td>0.046774</td>\n",
       "      <td>0.038710</td>\n",
       "      <td>0.030645</td>\n",
       "      <td>0.025806</td>\n",
       "      <td>0.012903</td>\n",
       "      <td>0.012903</td>\n",
       "      <td>0.016129</td>\n",
       "      <td>0.016129</td>\n",
       "      <td>0.012903</td>\n",
       "      <td>0.011290</td>\n",
       "      <td>0.017742</td>\n",
       "      <td>0.014516</td>\n",
       "      <td>0.000000</td>\n",
       "      <td>0.000000</td>\n",
       "      <td>0.00000</td>\n",
       "      <td>0.00000</td>\n",
       "    </tr>\n",
       "    <tr>\n",
       "      <th>6</th>\n",
       "      <td>1.0</td>\n",
       "      <td>0.060831</td>\n",
       "      <td>0.072700</td>\n",
       "      <td>0.053412</td>\n",
       "      <td>0.054896</td>\n",
       "      <td>0.025223</td>\n",
       "      <td>0.034125</td>\n",
       "      <td>0.028190</td>\n",
       "      <td>0.023739</td>\n",
       "      <td>0.029674</td>\n",
       "      <td>0.019288</td>\n",
       "      <td>0.016320</td>\n",
       "      <td>0.020772</td>\n",
       "      <td>0.016320</td>\n",
       "      <td>0.017804</td>\n",
       "      <td>0.000000</td>\n",
       "      <td>0.000000</td>\n",
       "      <td>0.000000</td>\n",
       "      <td>0.00000</td>\n",
       "      <td>0.00000</td>\n",
       "    </tr>\n",
       "    <tr>\n",
       "      <th>7</th>\n",
       "      <td>1.0</td>\n",
       "      <td>0.302344</td>\n",
       "      <td>0.227344</td>\n",
       "      <td>0.197656</td>\n",
       "      <td>0.145313</td>\n",
       "      <td>0.135156</td>\n",
       "      <td>0.094531</td>\n",
       "      <td>0.115625</td>\n",
       "      <td>0.092969</td>\n",
       "      <td>0.038281</td>\n",
       "      <td>0.038281</td>\n",
       "      <td>0.035156</td>\n",
       "      <td>0.040625</td>\n",
       "      <td>0.036719</td>\n",
       "      <td>0.000000</td>\n",
       "      <td>0.000000</td>\n",
       "      <td>0.000000</td>\n",
       "      <td>0.000000</td>\n",
       "      <td>0.00000</td>\n",
       "      <td>0.00000</td>\n",
       "    </tr>\n",
       "    <tr>\n",
       "      <th>8</th>\n",
       "      <td>1.0</td>\n",
       "      <td>0.282968</td>\n",
       "      <td>0.214758</td>\n",
       "      <td>0.148408</td>\n",
       "      <td>0.139520</td>\n",
       "      <td>0.068623</td>\n",
       "      <td>0.132286</td>\n",
       "      <td>0.096321</td>\n",
       "      <td>0.054155</td>\n",
       "      <td>0.035965</td>\n",
       "      <td>0.045267</td>\n",
       "      <td>0.039479</td>\n",
       "      <td>0.028938</td>\n",
       "      <td>0.000000</td>\n",
       "      <td>0.000000</td>\n",
       "      <td>0.000000</td>\n",
       "      <td>0.000000</td>\n",
       "      <td>0.000000</td>\n",
       "      <td>0.00000</td>\n",
       "      <td>0.00000</td>\n",
       "    </tr>\n",
       "    <tr>\n",
       "      <th>9</th>\n",
       "      <td>1.0</td>\n",
       "      <td>0.323323</td>\n",
       "      <td>0.219545</td>\n",
       "      <td>0.203331</td>\n",
       "      <td>0.101949</td>\n",
       "      <td>0.142578</td>\n",
       "      <td>0.086367</td>\n",
       "      <td>0.050659</td>\n",
       "      <td>0.026307</td>\n",
       "      <td>0.030408</td>\n",
       "      <td>0.024856</td>\n",
       "      <td>0.016655</td>\n",
       "      <td>0.000000</td>\n",
       "      <td>0.000000</td>\n",
       "      <td>0.000000</td>\n",
       "      <td>0.000000</td>\n",
       "      <td>0.000000</td>\n",
       "      <td>0.000000</td>\n",
       "      <td>0.00000</td>\n",
       "      <td>0.00000</td>\n",
       "    </tr>\n",
       "    <tr>\n",
       "      <th>10</th>\n",
       "      <td>1.0</td>\n",
       "      <td>0.257223</td>\n",
       "      <td>0.213886</td>\n",
       "      <td>0.128774</td>\n",
       "      <td>0.151549</td>\n",
       "      <td>0.097996</td>\n",
       "      <td>0.049844</td>\n",
       "      <td>0.021994</td>\n",
       "      <td>0.036700</td>\n",
       "      <td>0.025573</td>\n",
       "      <td>0.022970</td>\n",
       "      <td>0.000000</td>\n",
       "      <td>0.000000</td>\n",
       "      <td>0.000000</td>\n",
       "      <td>0.000000</td>\n",
       "      <td>0.000000</td>\n",
       "      <td>0.000000</td>\n",
       "      <td>0.000000</td>\n",
       "      <td>0.00000</td>\n",
       "      <td>0.00000</td>\n",
       "    </tr>\n",
       "    <tr>\n",
       "      <th>11</th>\n",
       "      <td>1.0</td>\n",
       "      <td>0.282314</td>\n",
       "      <td>0.169780</td>\n",
       "      <td>0.171533</td>\n",
       "      <td>0.115299</td>\n",
       "      <td>0.055222</td>\n",
       "      <td>0.021576</td>\n",
       "      <td>0.039916</td>\n",
       "      <td>0.029735</td>\n",
       "      <td>0.026701</td>\n",
       "      <td>0.000000</td>\n",
       "      <td>0.000000</td>\n",
       "      <td>0.000000</td>\n",
       "      <td>0.000000</td>\n",
       "      <td>0.000000</td>\n",
       "      <td>0.000000</td>\n",
       "      <td>0.000000</td>\n",
       "      <td>0.000000</td>\n",
       "      <td>0.00000</td>\n",
       "      <td>0.00000</td>\n",
       "    </tr>\n",
       "    <tr>\n",
       "      <th>12</th>\n",
       "      <td>1.0</td>\n",
       "      <td>0.207118</td>\n",
       "      <td>0.199320</td>\n",
       "      <td>0.141738</td>\n",
       "      <td>0.069483</td>\n",
       "      <td>0.025428</td>\n",
       "      <td>0.058839</td>\n",
       "      <td>0.039250</td>\n",
       "      <td>0.031674</td>\n",
       "      <td>0.000000</td>\n",
       "      <td>0.000000</td>\n",
       "      <td>0.000000</td>\n",
       "      <td>0.000000</td>\n",
       "      <td>0.000000</td>\n",
       "      <td>0.000000</td>\n",
       "      <td>0.000000</td>\n",
       "      <td>0.000000</td>\n",
       "      <td>0.000000</td>\n",
       "      <td>0.00000</td>\n",
       "      <td>0.00000</td>\n",
       "    </tr>\n",
       "    <tr>\n",
       "      <th>13</th>\n",
       "      <td>1.0</td>\n",
       "      <td>0.201012</td>\n",
       "      <td>0.151582</td>\n",
       "      <td>0.060464</td>\n",
       "      <td>0.024446</td>\n",
       "      <td>0.057552</td>\n",
       "      <td>0.032570</td>\n",
       "      <td>0.019618</td>\n",
       "      <td>0.000000</td>\n",
       "      <td>0.000000</td>\n",
       "      <td>0.000000</td>\n",
       "      <td>0.000000</td>\n",
       "      <td>0.000000</td>\n",
       "      <td>0.000000</td>\n",
       "      <td>0.000000</td>\n",
       "      <td>0.000000</td>\n",
       "      <td>0.000000</td>\n",
       "      <td>0.000000</td>\n",
       "      <td>0.00000</td>\n",
       "      <td>0.00000</td>\n",
       "    </tr>\n",
       "    <tr>\n",
       "      <th>14</th>\n",
       "      <td>1.0</td>\n",
       "      <td>0.239962</td>\n",
       "      <td>0.107866</td>\n",
       "      <td>0.046562</td>\n",
       "      <td>0.083484</td>\n",
       "      <td>0.056899</td>\n",
       "      <td>0.030772</td>\n",
       "      <td>0.000000</td>\n",
       "      <td>0.000000</td>\n",
       "      <td>0.000000</td>\n",
       "      <td>0.000000</td>\n",
       "      <td>0.000000</td>\n",
       "      <td>0.000000</td>\n",
       "      <td>0.000000</td>\n",
       "      <td>0.000000</td>\n",
       "      <td>0.000000</td>\n",
       "      <td>0.000000</td>\n",
       "      <td>0.000000</td>\n",
       "      <td>0.00000</td>\n",
       "      <td>0.00000</td>\n",
       "    </tr>\n",
       "    <tr>\n",
       "      <th>15</th>\n",
       "      <td>1.0</td>\n",
       "      <td>0.087446</td>\n",
       "      <td>0.037567</td>\n",
       "      <td>0.065021</td>\n",
       "      <td>0.045125</td>\n",
       "      <td>0.028086</td>\n",
       "      <td>0.000000</td>\n",
       "      <td>0.000000</td>\n",
       "      <td>0.000000</td>\n",
       "      <td>0.000000</td>\n",
       "      <td>0.000000</td>\n",
       "      <td>0.000000</td>\n",
       "      <td>0.000000</td>\n",
       "      <td>0.000000</td>\n",
       "      <td>0.000000</td>\n",
       "      <td>0.000000</td>\n",
       "      <td>0.000000</td>\n",
       "      <td>0.000000</td>\n",
       "      <td>0.00000</td>\n",
       "      <td>0.00000</td>\n",
       "    </tr>\n",
       "    <tr>\n",
       "      <th>16</th>\n",
       "      <td>1.0</td>\n",
       "      <td>0.171297</td>\n",
       "      <td>0.172244</td>\n",
       "      <td>0.115608</td>\n",
       "      <td>0.063455</td>\n",
       "      <td>0.000000</td>\n",
       "      <td>0.000000</td>\n",
       "      <td>0.000000</td>\n",
       "      <td>0.000000</td>\n",
       "      <td>0.000000</td>\n",
       "      <td>0.000000</td>\n",
       "      <td>0.000000</td>\n",
       "      <td>0.000000</td>\n",
       "      <td>0.000000</td>\n",
       "      <td>0.000000</td>\n",
       "      <td>0.000000</td>\n",
       "      <td>0.000000</td>\n",
       "      <td>0.000000</td>\n",
       "      <td>0.00000</td>\n",
       "      <td>0.00000</td>\n",
       "    </tr>\n",
       "    <tr>\n",
       "      <th>17</th>\n",
       "      <td>1.0</td>\n",
       "      <td>0.248337</td>\n",
       "      <td>0.159086</td>\n",
       "      <td>0.118215</td>\n",
       "      <td>0.000000</td>\n",
       "      <td>0.000000</td>\n",
       "      <td>0.000000</td>\n",
       "      <td>0.000000</td>\n",
       "      <td>0.000000</td>\n",
       "      <td>0.000000</td>\n",
       "      <td>0.000000</td>\n",
       "      <td>0.000000</td>\n",
       "      <td>0.000000</td>\n",
       "      <td>0.000000</td>\n",
       "      <td>0.000000</td>\n",
       "      <td>0.000000</td>\n",
       "      <td>0.000000</td>\n",
       "      <td>0.000000</td>\n",
       "      <td>0.00000</td>\n",
       "      <td>0.00000</td>\n",
       "    </tr>\n",
       "    <tr>\n",
       "      <th>18</th>\n",
       "      <td>1.0</td>\n",
       "      <td>0.242361</td>\n",
       "      <td>0.105542</td>\n",
       "      <td>0.000000</td>\n",
       "      <td>0.000000</td>\n",
       "      <td>0.000000</td>\n",
       "      <td>0.000000</td>\n",
       "      <td>0.000000</td>\n",
       "      <td>0.000000</td>\n",
       "      <td>0.000000</td>\n",
       "      <td>0.000000</td>\n",
       "      <td>0.000000</td>\n",
       "      <td>0.000000</td>\n",
       "      <td>0.000000</td>\n",
       "      <td>0.000000</td>\n",
       "      <td>0.000000</td>\n",
       "      <td>0.000000</td>\n",
       "      <td>0.000000</td>\n",
       "      <td>0.00000</td>\n",
       "      <td>0.00000</td>\n",
       "    </tr>\n",
       "    <tr>\n",
       "      <th>19</th>\n",
       "      <td>1.0</td>\n",
       "      <td>0.087538</td>\n",
       "      <td>0.000000</td>\n",
       "      <td>0.000000</td>\n",
       "      <td>0.000000</td>\n",
       "      <td>0.000000</td>\n",
       "      <td>0.000000</td>\n",
       "      <td>0.000000</td>\n",
       "      <td>0.000000</td>\n",
       "      <td>0.000000</td>\n",
       "      <td>0.000000</td>\n",
       "      <td>0.000000</td>\n",
       "      <td>0.000000</td>\n",
       "      <td>0.000000</td>\n",
       "      <td>0.000000</td>\n",
       "      <td>0.000000</td>\n",
       "      <td>0.000000</td>\n",
       "      <td>0.000000</td>\n",
       "      <td>0.00000</td>\n",
       "      <td>0.00000</td>\n",
       "    </tr>\n",
       "    <tr>\n",
       "      <th>20</th>\n",
       "      <td>1.0</td>\n",
       "      <td>0.000000</td>\n",
       "      <td>0.000000</td>\n",
       "      <td>0.000000</td>\n",
       "      <td>0.000000</td>\n",
       "      <td>0.000000</td>\n",
       "      <td>0.000000</td>\n",
       "      <td>0.000000</td>\n",
       "      <td>0.000000</td>\n",
       "      <td>0.000000</td>\n",
       "      <td>0.000000</td>\n",
       "      <td>0.000000</td>\n",
       "      <td>0.000000</td>\n",
       "      <td>0.000000</td>\n",
       "      <td>0.000000</td>\n",
       "      <td>0.000000</td>\n",
       "      <td>0.000000</td>\n",
       "      <td>0.000000</td>\n",
       "      <td>0.00000</td>\n",
       "      <td>0.00000</td>\n",
       "    </tr>\n",
       "  </tbody>\n",
       "</table>\n",
       "</div>"
      ],
      "text/plain": [
       "         0         1         2         3         4         5         6   \\\n",
       "cohort                                                                    \n",
       "1       1.0  0.634146  0.341463  0.268293  0.219512  0.146341  0.097561   \n",
       "2       1.0  0.311688  0.311688  0.246753  0.194805  0.051948  0.025974   \n",
       "3       1.0  0.419580  0.328671  0.188811  0.027972  0.024476  0.017483   \n",
       "4       1.0  0.279208  0.091089  0.073267  0.065347  0.043564  0.033663   \n",
       "5       1.0  0.088710  0.043548  0.050000  0.046774  0.038710  0.030645   \n",
       "6       1.0  0.060831  0.072700  0.053412  0.054896  0.025223  0.034125   \n",
       "7       1.0  0.302344  0.227344  0.197656  0.145313  0.135156  0.094531   \n",
       "8       1.0  0.282968  0.214758  0.148408  0.139520  0.068623  0.132286   \n",
       "9       1.0  0.323323  0.219545  0.203331  0.101949  0.142578  0.086367   \n",
       "10      1.0  0.257223  0.213886  0.128774  0.151549  0.097996  0.049844   \n",
       "11      1.0  0.282314  0.169780  0.171533  0.115299  0.055222  0.021576   \n",
       "12      1.0  0.207118  0.199320  0.141738  0.069483  0.025428  0.058839   \n",
       "13      1.0  0.201012  0.151582  0.060464  0.024446  0.057552  0.032570   \n",
       "14      1.0  0.239962  0.107866  0.046562  0.083484  0.056899  0.030772   \n",
       "15      1.0  0.087446  0.037567  0.065021  0.045125  0.028086  0.000000   \n",
       "16      1.0  0.171297  0.172244  0.115608  0.063455  0.000000  0.000000   \n",
       "17      1.0  0.248337  0.159086  0.118215  0.000000  0.000000  0.000000   \n",
       "18      1.0  0.242361  0.105542  0.000000  0.000000  0.000000  0.000000   \n",
       "19      1.0  0.087538  0.000000  0.000000  0.000000  0.000000  0.000000   \n",
       "20      1.0  0.000000  0.000000  0.000000  0.000000  0.000000  0.000000   \n",
       "\n",
       "              7         8         9         10        11        12        13  \\\n",
       "cohort                                                                         \n",
       "1       0.073171  0.073171  0.048780  0.073171  0.073171  0.073171  0.048780   \n",
       "2       0.051948  0.012987  0.012987  0.000000  0.012987  0.025974  0.025974   \n",
       "3       0.013986  0.006993  0.020979  0.020979  0.006993  0.013986  0.006993   \n",
       "4       0.027723  0.039604  0.029703  0.035644  0.029703  0.017822  0.009901   \n",
       "5       0.025806  0.012903  0.012903  0.016129  0.016129  0.012903  0.011290   \n",
       "6       0.028190  0.023739  0.029674  0.019288  0.016320  0.020772  0.016320   \n",
       "7       0.115625  0.092969  0.038281  0.038281  0.035156  0.040625  0.036719   \n",
       "8       0.096321  0.054155  0.035965  0.045267  0.039479  0.028938  0.000000   \n",
       "9       0.050659  0.026307  0.030408  0.024856  0.016655  0.000000  0.000000   \n",
       "10      0.021994  0.036700  0.025573  0.022970  0.000000  0.000000  0.000000   \n",
       "11      0.039916  0.029735  0.026701  0.000000  0.000000  0.000000  0.000000   \n",
       "12      0.039250  0.031674  0.000000  0.000000  0.000000  0.000000  0.000000   \n",
       "13      0.019618  0.000000  0.000000  0.000000  0.000000  0.000000  0.000000   \n",
       "14      0.000000  0.000000  0.000000  0.000000  0.000000  0.000000  0.000000   \n",
       "15      0.000000  0.000000  0.000000  0.000000  0.000000  0.000000  0.000000   \n",
       "16      0.000000  0.000000  0.000000  0.000000  0.000000  0.000000  0.000000   \n",
       "17      0.000000  0.000000  0.000000  0.000000  0.000000  0.000000  0.000000   \n",
       "18      0.000000  0.000000  0.000000  0.000000  0.000000  0.000000  0.000000   \n",
       "19      0.000000  0.000000  0.000000  0.000000  0.000000  0.000000  0.000000   \n",
       "20      0.000000  0.000000  0.000000  0.000000  0.000000  0.000000  0.000000   \n",
       "\n",
       "              14        15        16        17       18       19  \n",
       "cohort                                                            \n",
       "1       0.024390  0.024390  0.048780  0.048780  0.02439  0.04878  \n",
       "2       0.000000  0.000000  0.012987  0.012987  0.00000  0.00000  \n",
       "3       0.003497  0.006993  0.000000  0.006993  0.00000  0.00000  \n",
       "4       0.011881  0.011881  0.019802  0.000000  0.00000  0.00000  \n",
       "5       0.017742  0.014516  0.000000  0.000000  0.00000  0.00000  \n",
       "6       0.017804  0.000000  0.000000  0.000000  0.00000  0.00000  \n",
       "7       0.000000  0.000000  0.000000  0.000000  0.00000  0.00000  \n",
       "8       0.000000  0.000000  0.000000  0.000000  0.00000  0.00000  \n",
       "9       0.000000  0.000000  0.000000  0.000000  0.00000  0.00000  \n",
       "10      0.000000  0.000000  0.000000  0.000000  0.00000  0.00000  \n",
       "11      0.000000  0.000000  0.000000  0.000000  0.00000  0.00000  \n",
       "12      0.000000  0.000000  0.000000  0.000000  0.00000  0.00000  \n",
       "13      0.000000  0.000000  0.000000  0.000000  0.00000  0.00000  \n",
       "14      0.000000  0.000000  0.000000  0.000000  0.00000  0.00000  \n",
       "15      0.000000  0.000000  0.000000  0.000000  0.00000  0.00000  \n",
       "16      0.000000  0.000000  0.000000  0.000000  0.00000  0.00000  \n",
       "17      0.000000  0.000000  0.000000  0.000000  0.00000  0.00000  \n",
       "18      0.000000  0.000000  0.000000  0.000000  0.00000  0.00000  \n",
       "19      0.000000  0.000000  0.000000  0.000000  0.00000  0.00000  \n",
       "20      0.000000  0.000000  0.000000  0.000000  0.00000  0.00000  "
      ]
     },
     "execution_count": 18,
     "metadata": {},
     "output_type": "execute_result"
    }
   ],
   "source": [
    "initial_cohort_sizes = cohort_table.iloc[:, 0].replace(0, 1)  # Replace 0 with 1 to avoid division by zero\n",
    "retention_table = cohort_table.iloc[:, 0:].divide(initial_cohort_sizes, axis=0)\n",
    "retention_table"
   ]
  },
  {
   "cell_type": "code",
   "execution_count": 19,
   "metadata": {},
   "outputs": [
    {
     "data": {
      "application/vnd.plotly.v1+json": {
       "config": {
        "plotlyServerURL": "https://plot.ly"
       },
       "data": [
        {
         "coloraxis": "coloraxis",
         "hovertemplate": "Round Number: %{x}<br>Cohort: %{y}<br>Retention Rate: %{z}<extra></extra>",
         "name": "0",
         "texttemplate": "%{z:.2%}",
         "type": "heatmap",
         "x": [
          0,
          1,
          2,
          3,
          4,
          5,
          6,
          7,
          8,
          9,
          10,
          11,
          12,
          13,
          14,
          15,
          16,
          17,
          18,
          19
         ],
         "xaxis": "x",
         "y": [
          1,
          2,
          3,
          4,
          5,
          6,
          7,
          8,
          9,
          10,
          11,
          12,
          13,
          14,
          15,
          16,
          17,
          18,
          19,
          20
         ],
         "yaxis": "y",
         "z": [
          [
           1,
           0.6341463414634146,
           0.34146341463414637,
           0.2682926829268293,
           0.21951219512195122,
           0.14634146341463414,
           0.0975609756097561,
           0.07317073170731707,
           0.07317073170731707,
           0.04878048780487805,
           0.07317073170731707,
           0.07317073170731707,
           0.07317073170731707,
           0.04878048780487805,
           0.024390243902439025,
           0.024390243902439025,
           0.04878048780487805,
           0.04878048780487805,
           0.024390243902439025,
           0.04878048780487805
          ],
          [
           1,
           0.3116883116883117,
           0.3116883116883117,
           0.24675324675324675,
           0.19480519480519481,
           0.05194805194805195,
           0.025974025974025976,
           0.05194805194805195,
           0.012987012987012988,
           0.012987012987012988,
           0,
           0.012987012987012988,
           0.025974025974025976,
           0.025974025974025976,
           0,
           0,
           0.012987012987012988,
           0.012987012987012988,
           0,
           null
          ],
          [
           1,
           0.4195804195804196,
           0.32867132867132864,
           0.1888111888111888,
           0.027972027972027972,
           0.024475524475524476,
           0.017482517482517484,
           0.013986013986013986,
           0.006993006993006993,
           0.02097902097902098,
           0.02097902097902098,
           0.006993006993006993,
           0.013986013986013986,
           0.006993006993006993,
           0.0034965034965034965,
           0.006993006993006993,
           0,
           0.006993006993006993,
           null,
           null
          ],
          [
           1,
           0.27920792079207923,
           0.09108910891089109,
           0.07326732673267326,
           0.06534653465346535,
           0.04356435643564356,
           0.033663366336633666,
           0.027722772277227723,
           0.039603960396039604,
           0.0297029702970297,
           0.03564356435643564,
           0.0297029702970297,
           0.01782178217821782,
           0.009900990099009901,
           0.011881188118811881,
           0.011881188118811881,
           0.019801980198019802,
           null,
           null,
           null
          ],
          [
           1,
           0.08870967741935484,
           0.043548387096774194,
           0.05,
           0.0467741935483871,
           0.03870967741935484,
           0.03064516129032258,
           0.025806451612903226,
           0.012903225806451613,
           0.012903225806451613,
           0.016129032258064516,
           0.016129032258064516,
           0.012903225806451613,
           0.01129032258064516,
           0.017741935483870968,
           0.014516129032258065,
           null,
           null,
           null,
           null
          ],
          [
           1,
           0.06083086053412463,
           0.07270029673590504,
           0.05341246290801187,
           0.05489614243323442,
           0.025222551928783383,
           0.03412462908011869,
           0.028189910979228485,
           0.02373887240356083,
           0.02967359050445104,
           0.019287833827893175,
           0.016320474777448073,
           0.020771513353115726,
           0.016320474777448073,
           0.017804154302670624,
           null,
           null,
           null,
           null,
           null
          ],
          [
           1,
           0.30234375,
           0.22734375,
           0.19765625,
           0.1453125,
           0.13515625,
           0.09453125,
           0.115625,
           0.09296875,
           0.03828125,
           0.03828125,
           0.03515625,
           0.040625,
           0.03671875,
           null,
           null,
           null,
           null,
           null,
           null
          ],
          [
           1,
           0.2829681686647375,
           0.21475816453079785,
           0.14840843323687475,
           0.13952046300124019,
           0.06862339809838776,
           0.1322860686233981,
           0.09632079371641174,
           0.054154609342703594,
           0.03596527490698636,
           0.04526663910706904,
           0.03947912360479537,
           0.028937577511368336,
           null,
           null,
           null,
           null,
           null,
           null,
           null
          ],
          [
           1,
           0.32332344962462933,
           0.21954450823291907,
           0.20333102012491325,
           0.10194940382310265,
           0.14257775534666584,
           0.08636679073875465,
           0.05065926439972242,
           0.02630748848653082,
           0.030408176140306605,
           0.024856475932117848,
           0.016655100624566273,
           null,
           null,
           null,
           null,
           null,
           null,
           null,
           null
          ],
          [
           1,
           0.2572228006246747,
           0.21388599687662677,
           0.12877407600208224,
           0.1515486725663717,
           0.09799583550234253,
           0.049843831337844875,
           0.021993753253513795,
           0.03669963560645497,
           0.025572618427902136,
           0.022969807391983343,
           null,
           null,
           null,
           null,
           null,
           null,
           null,
           null,
           null
          ],
          [
           1,
           0.28231407187647495,
           0.1697795158789023,
           0.17153260063380757,
           0.1152990358033848,
           0.05522216977951588,
           0.021576427752680198,
           0.03991639134245836,
           0.029735014496662396,
           0.026700829343941742,
           null,
           null,
           null,
           null,
           null,
           null,
           null,
           null,
           null,
           null
          ],
          [
           1,
           0.20711830579886906,
           0.19931995417082454,
           0.1417378127656429,
           0.06948294341575192,
           0.025427800569168792,
           0.05883874782865802,
           0.0392504712274088,
           0.03167387367409543,
           null,
           null,
           null,
           null,
           null,
           null,
           null,
           null,
           null,
           null,
           null
          ],
          [
           1,
           0.20101157176795156,
           0.15158249674304544,
           0.06046440340255958,
           0.024446317725496207,
           0.05755230285845659,
           0.03256954555904667,
           0.01961836156027282,
           null,
           null,
           null,
           null,
           null,
           null,
           null,
           null,
           null,
           null,
           null,
           null
          ],
          [
           1,
           0.23996248882297777,
           0.10786644276274181,
           0.04656183892002704,
           0.08348417769829673,
           0.05689922142498855,
           0.030772250452533095,
           null,
           null,
           null,
           null,
           null,
           null,
           null,
           null,
           null,
           null,
           null,
           null,
           null
          ],
          [
           1,
           0.08744641090469385,
           0.03756732988897439,
           0.06502143563812246,
           0.04512476640650764,
           0.028086182257887216,
           null,
           null,
           null,
           null,
           null,
           null,
           null,
           null,
           null,
           null,
           null,
           null,
           null,
           null
          ],
          [
           1,
           0.171296880919308,
           0.17224397019825735,
           0.1156080313170855,
           0.06345498168960727,
           null,
           null,
           null,
           null,
           null,
           null,
           null,
           null,
           null,
           null,
           null,
           null,
           null,
           null,
           null
          ],
          [
           1,
           0.24833726668096975,
           0.15908603304012015,
           0.118214975327183,
           null,
           null,
           null,
           null,
           null,
           null,
           null,
           null,
           null,
           null,
           null,
           null,
           null,
           null,
           null,
           null
          ],
          [
           1,
           0.2423606762680025,
           0.10554164057608015,
           null,
           null,
           null,
           null,
           null,
           null,
           null,
           null,
           null,
           null,
           null,
           null,
           null,
           null,
           null,
           null,
           null
          ],
          [
           1,
           0.08753810975609756,
           null,
           null,
           null,
           null,
           null,
           null,
           null,
           null,
           null,
           null,
           null,
           null,
           null,
           null,
           null,
           null,
           null,
           null
          ],
          [
           1,
           null,
           null,
           null,
           null,
           null,
           null,
           null,
           null,
           null,
           null,
           null,
           null,
           null,
           null,
           null,
           null,
           null,
           null,
           null
          ]
         ]
        }
       ],
       "layout": {
        "coloraxis": {
         "colorbar": {
          "title": {
           "text": "Retention Rate"
          }
         },
         "colorscale": [
          [
           0,
           "rgb(247,251,255)"
          ],
          [
           0.125,
           "rgb(222,235,247)"
          ],
          [
           0.25,
           "rgb(198,219,239)"
          ],
          [
           0.375,
           "rgb(158,202,225)"
          ],
          [
           0.5,
           "rgb(107,174,214)"
          ],
          [
           0.625,
           "rgb(66,146,198)"
          ],
          [
           0.75,
           "rgb(33,113,181)"
          ],
          [
           0.875,
           "rgb(8,81,156)"
          ],
          [
           1,
           "rgb(8,48,107)"
          ]
         ]
        },
        "font": {
         "size": 11
        },
        "height": 600,
        "margin": {
         "t": 60
        },
        "plot_bgcolor": "white",
        "template": {
         "data": {
          "bar": [
           {
            "error_x": {
             "color": "#2a3f5f"
            },
            "error_y": {
             "color": "#2a3f5f"
            },
            "marker": {
             "line": {
              "color": "#E5ECF6",
              "width": 0.5
             },
             "pattern": {
              "fillmode": "overlay",
              "size": 10,
              "solidity": 0.2
             }
            },
            "type": "bar"
           }
          ],
          "barpolar": [
           {
            "marker": {
             "line": {
              "color": "#E5ECF6",
              "width": 0.5
             },
             "pattern": {
              "fillmode": "overlay",
              "size": 10,
              "solidity": 0.2
             }
            },
            "type": "barpolar"
           }
          ],
          "carpet": [
           {
            "aaxis": {
             "endlinecolor": "#2a3f5f",
             "gridcolor": "white",
             "linecolor": "white",
             "minorgridcolor": "white",
             "startlinecolor": "#2a3f5f"
            },
            "baxis": {
             "endlinecolor": "#2a3f5f",
             "gridcolor": "white",
             "linecolor": "white",
             "minorgridcolor": "white",
             "startlinecolor": "#2a3f5f"
            },
            "type": "carpet"
           }
          ],
          "choropleth": [
           {
            "colorbar": {
             "outlinewidth": 0,
             "ticks": ""
            },
            "type": "choropleth"
           }
          ],
          "contour": [
           {
            "colorbar": {
             "outlinewidth": 0,
             "ticks": ""
            },
            "colorscale": [
             [
              0,
              "#0d0887"
             ],
             [
              0.1111111111111111,
              "#46039f"
             ],
             [
              0.2222222222222222,
              "#7201a8"
             ],
             [
              0.3333333333333333,
              "#9c179e"
             ],
             [
              0.4444444444444444,
              "#bd3786"
             ],
             [
              0.5555555555555556,
              "#d8576b"
             ],
             [
              0.6666666666666666,
              "#ed7953"
             ],
             [
              0.7777777777777778,
              "#fb9f3a"
             ],
             [
              0.8888888888888888,
              "#fdca26"
             ],
             [
              1,
              "#f0f921"
             ]
            ],
            "type": "contour"
           }
          ],
          "contourcarpet": [
           {
            "colorbar": {
             "outlinewidth": 0,
             "ticks": ""
            },
            "type": "contourcarpet"
           }
          ],
          "heatmap": [
           {
            "colorbar": {
             "outlinewidth": 0,
             "ticks": ""
            },
            "colorscale": [
             [
              0,
              "#0d0887"
             ],
             [
              0.1111111111111111,
              "#46039f"
             ],
             [
              0.2222222222222222,
              "#7201a8"
             ],
             [
              0.3333333333333333,
              "#9c179e"
             ],
             [
              0.4444444444444444,
              "#bd3786"
             ],
             [
              0.5555555555555556,
              "#d8576b"
             ],
             [
              0.6666666666666666,
              "#ed7953"
             ],
             [
              0.7777777777777778,
              "#fb9f3a"
             ],
             [
              0.8888888888888888,
              "#fdca26"
             ],
             [
              1,
              "#f0f921"
             ]
            ],
            "type": "heatmap"
           }
          ],
          "heatmapgl": [
           {
            "colorbar": {
             "outlinewidth": 0,
             "ticks": ""
            },
            "colorscale": [
             [
              0,
              "#0d0887"
             ],
             [
              0.1111111111111111,
              "#46039f"
             ],
             [
              0.2222222222222222,
              "#7201a8"
             ],
             [
              0.3333333333333333,
              "#9c179e"
             ],
             [
              0.4444444444444444,
              "#bd3786"
             ],
             [
              0.5555555555555556,
              "#d8576b"
             ],
             [
              0.6666666666666666,
              "#ed7953"
             ],
             [
              0.7777777777777778,
              "#fb9f3a"
             ],
             [
              0.8888888888888888,
              "#fdca26"
             ],
             [
              1,
              "#f0f921"
             ]
            ],
            "type": "heatmapgl"
           }
          ],
          "histogram": [
           {
            "marker": {
             "pattern": {
              "fillmode": "overlay",
              "size": 10,
              "solidity": 0.2
             }
            },
            "type": "histogram"
           }
          ],
          "histogram2d": [
           {
            "colorbar": {
             "outlinewidth": 0,
             "ticks": ""
            },
            "colorscale": [
             [
              0,
              "#0d0887"
             ],
             [
              0.1111111111111111,
              "#46039f"
             ],
             [
              0.2222222222222222,
              "#7201a8"
             ],
             [
              0.3333333333333333,
              "#9c179e"
             ],
             [
              0.4444444444444444,
              "#bd3786"
             ],
             [
              0.5555555555555556,
              "#d8576b"
             ],
             [
              0.6666666666666666,
              "#ed7953"
             ],
             [
              0.7777777777777778,
              "#fb9f3a"
             ],
             [
              0.8888888888888888,
              "#fdca26"
             ],
             [
              1,
              "#f0f921"
             ]
            ],
            "type": "histogram2d"
           }
          ],
          "histogram2dcontour": [
           {
            "colorbar": {
             "outlinewidth": 0,
             "ticks": ""
            },
            "colorscale": [
             [
              0,
              "#0d0887"
             ],
             [
              0.1111111111111111,
              "#46039f"
             ],
             [
              0.2222222222222222,
              "#7201a8"
             ],
             [
              0.3333333333333333,
              "#9c179e"
             ],
             [
              0.4444444444444444,
              "#bd3786"
             ],
             [
              0.5555555555555556,
              "#d8576b"
             ],
             [
              0.6666666666666666,
              "#ed7953"
             ],
             [
              0.7777777777777778,
              "#fb9f3a"
             ],
             [
              0.8888888888888888,
              "#fdca26"
             ],
             [
              1,
              "#f0f921"
             ]
            ],
            "type": "histogram2dcontour"
           }
          ],
          "mesh3d": [
           {
            "colorbar": {
             "outlinewidth": 0,
             "ticks": ""
            },
            "type": "mesh3d"
           }
          ],
          "parcoords": [
           {
            "line": {
             "colorbar": {
              "outlinewidth": 0,
              "ticks": ""
             }
            },
            "type": "parcoords"
           }
          ],
          "pie": [
           {
            "automargin": true,
            "type": "pie"
           }
          ],
          "scatter": [
           {
            "fillpattern": {
             "fillmode": "overlay",
             "size": 10,
             "solidity": 0.2
            },
            "type": "scatter"
           }
          ],
          "scatter3d": [
           {
            "line": {
             "colorbar": {
              "outlinewidth": 0,
              "ticks": ""
             }
            },
            "marker": {
             "colorbar": {
              "outlinewidth": 0,
              "ticks": ""
             }
            },
            "type": "scatter3d"
           }
          ],
          "scattercarpet": [
           {
            "marker": {
             "colorbar": {
              "outlinewidth": 0,
              "ticks": ""
             }
            },
            "type": "scattercarpet"
           }
          ],
          "scattergeo": [
           {
            "marker": {
             "colorbar": {
              "outlinewidth": 0,
              "ticks": ""
             }
            },
            "type": "scattergeo"
           }
          ],
          "scattergl": [
           {
            "marker": {
             "colorbar": {
              "outlinewidth": 0,
              "ticks": ""
             }
            },
            "type": "scattergl"
           }
          ],
          "scattermapbox": [
           {
            "marker": {
             "colorbar": {
              "outlinewidth": 0,
              "ticks": ""
             }
            },
            "type": "scattermapbox"
           }
          ],
          "scatterpolar": [
           {
            "marker": {
             "colorbar": {
              "outlinewidth": 0,
              "ticks": ""
             }
            },
            "type": "scatterpolar"
           }
          ],
          "scatterpolargl": [
           {
            "marker": {
             "colorbar": {
              "outlinewidth": 0,
              "ticks": ""
             }
            },
            "type": "scatterpolargl"
           }
          ],
          "scatterternary": [
           {
            "marker": {
             "colorbar": {
              "outlinewidth": 0,
              "ticks": ""
             }
            },
            "type": "scatterternary"
           }
          ],
          "surface": [
           {
            "colorbar": {
             "outlinewidth": 0,
             "ticks": ""
            },
            "colorscale": [
             [
              0,
              "#0d0887"
             ],
             [
              0.1111111111111111,
              "#46039f"
             ],
             [
              0.2222222222222222,
              "#7201a8"
             ],
             [
              0.3333333333333333,
              "#9c179e"
             ],
             [
              0.4444444444444444,
              "#bd3786"
             ],
             [
              0.5555555555555556,
              "#d8576b"
             ],
             [
              0.6666666666666666,
              "#ed7953"
             ],
             [
              0.7777777777777778,
              "#fb9f3a"
             ],
             [
              0.8888888888888888,
              "#fdca26"
             ],
             [
              1,
              "#f0f921"
             ]
            ],
            "type": "surface"
           }
          ],
          "table": [
           {
            "cells": {
             "fill": {
              "color": "#EBF0F8"
             },
             "line": {
              "color": "white"
             }
            },
            "header": {
             "fill": {
              "color": "#C8D4E3"
             },
             "line": {
              "color": "white"
             }
            },
            "type": "table"
           }
          ]
         },
         "layout": {
          "annotationdefaults": {
           "arrowcolor": "#2a3f5f",
           "arrowhead": 0,
           "arrowwidth": 1
          },
          "autotypenumbers": "strict",
          "coloraxis": {
           "colorbar": {
            "outlinewidth": 0,
            "ticks": ""
           }
          },
          "colorscale": {
           "diverging": [
            [
             0,
             "#8e0152"
            ],
            [
             0.1,
             "#c51b7d"
            ],
            [
             0.2,
             "#de77ae"
            ],
            [
             0.3,
             "#f1b6da"
            ],
            [
             0.4,
             "#fde0ef"
            ],
            [
             0.5,
             "#f7f7f7"
            ],
            [
             0.6,
             "#e6f5d0"
            ],
            [
             0.7,
             "#b8e186"
            ],
            [
             0.8,
             "#7fbc41"
            ],
            [
             0.9,
             "#4d9221"
            ],
            [
             1,
             "#276419"
            ]
           ],
           "sequential": [
            [
             0,
             "#0d0887"
            ],
            [
             0.1111111111111111,
             "#46039f"
            ],
            [
             0.2222222222222222,
             "#7201a8"
            ],
            [
             0.3333333333333333,
             "#9c179e"
            ],
            [
             0.4444444444444444,
             "#bd3786"
            ],
            [
             0.5555555555555556,
             "#d8576b"
            ],
            [
             0.6666666666666666,
             "#ed7953"
            ],
            [
             0.7777777777777778,
             "#fb9f3a"
            ],
            [
             0.8888888888888888,
             "#fdca26"
            ],
            [
             1,
             "#f0f921"
            ]
           ],
           "sequentialminus": [
            [
             0,
             "#0d0887"
            ],
            [
             0.1111111111111111,
             "#46039f"
            ],
            [
             0.2222222222222222,
             "#7201a8"
            ],
            [
             0.3333333333333333,
             "#9c179e"
            ],
            [
             0.4444444444444444,
             "#bd3786"
            ],
            [
             0.5555555555555556,
             "#d8576b"
            ],
            [
             0.6666666666666666,
             "#ed7953"
            ],
            [
             0.7777777777777778,
             "#fb9f3a"
            ],
            [
             0.8888888888888888,
             "#fdca26"
            ],
            [
             1,
             "#f0f921"
            ]
           ]
          },
          "colorway": [
           "#636efa",
           "#EF553B",
           "#00cc96",
           "#ab63fa",
           "#FFA15A",
           "#19d3f3",
           "#FF6692",
           "#B6E880",
           "#FF97FF",
           "#FECB52"
          ],
          "font": {
           "color": "#2a3f5f"
          },
          "geo": {
           "bgcolor": "white",
           "lakecolor": "white",
           "landcolor": "#E5ECF6",
           "showlakes": true,
           "showland": true,
           "subunitcolor": "white"
          },
          "hoverlabel": {
           "align": "left"
          },
          "hovermode": "closest",
          "mapbox": {
           "style": "light"
          },
          "paper_bgcolor": "white",
          "plot_bgcolor": "#E5ECF6",
          "polar": {
           "angularaxis": {
            "gridcolor": "white",
            "linecolor": "white",
            "ticks": ""
           },
           "bgcolor": "#E5ECF6",
           "radialaxis": {
            "gridcolor": "white",
            "linecolor": "white",
            "ticks": ""
           }
          },
          "scene": {
           "xaxis": {
            "backgroundcolor": "#E5ECF6",
            "gridcolor": "white",
            "gridwidth": 2,
            "linecolor": "white",
            "showbackground": true,
            "ticks": "",
            "zerolinecolor": "white"
           },
           "yaxis": {
            "backgroundcolor": "#E5ECF6",
            "gridcolor": "white",
            "gridwidth": 2,
            "linecolor": "white",
            "showbackground": true,
            "ticks": "",
            "zerolinecolor": "white"
           },
           "zaxis": {
            "backgroundcolor": "#E5ECF6",
            "gridcolor": "white",
            "gridwidth": 2,
            "linecolor": "white",
            "showbackground": true,
            "ticks": "",
            "zerolinecolor": "white"
           }
          },
          "shapedefaults": {
           "line": {
            "color": "#2a3f5f"
           }
          },
          "ternary": {
           "aaxis": {
            "gridcolor": "white",
            "linecolor": "white",
            "ticks": ""
           },
           "baxis": {
            "gridcolor": "white",
            "linecolor": "white",
            "ticks": ""
           },
           "bgcolor": "#E5ECF6",
           "caxis": {
            "gridcolor": "white",
            "linecolor": "white",
            "ticks": ""
           }
          },
          "title": {
           "x": 0.05
          },
          "xaxis": {
           "automargin": true,
           "gridcolor": "white",
           "linecolor": "white",
           "ticks": "",
           "title": {
            "standoff": 15
           },
           "zerolinecolor": "white",
           "zerolinewidth": 2
          },
          "yaxis": {
           "automargin": true,
           "gridcolor": "white",
           "linecolor": "white",
           "ticks": "",
           "title": {
            "standoff": 15
           },
           "zerolinecolor": "white",
           "zerolinewidth": 2
          }
         }
        },
        "width": 800,
        "xaxis": {
         "anchor": "y",
         "domain": [
          0,
          1
         ],
         "dtick": 1,
         "side": "top",
         "tickmode": "linear",
         "title": {
          "text": "Rounds Since Cohort Joined"
         }
        },
        "yaxis": {
         "anchor": "x",
         "autorange": "reversed",
         "domain": [
          0,
          1
         ],
         "dtick": 1,
         "tickmode": "linear",
         "title": {
          "text": "Cohort"
         }
        }
       }
      }
     },
     "metadata": {},
     "output_type": "display_data"
    }
   ],
   "source": [
    "import numpy as np\n",
    "\n",
    "# Assuming retention_table is your DataFrame with the cohort data\n",
    "for n in range(len(retention_table)):\n",
    "    if n != 0:\n",
    "        retention_table.iloc[n, -n:] = np.nan\n",
    "\n",
    "# Create the heatmap using Plotly Express\n",
    "fig = px.imshow(retention_table,\n",
    "                labels=dict(x=\"Round Number\", y=\"Cohort\", color=\"Retention Rate\"),\n",
    "                x=retention_table.columns[:],\n",
    "                y=retention_table.index,\n",
    "                color_continuous_scale=px.colors.sequential.Blues,\n",
    "                text_auto='.2%',\n",
    "                aspect=\"auto\")\n",
    "\n",
    "# Customize the heatmap layout\n",
    "fig.update_layout(\n",
    "    xaxis=dict(\n",
    "        title='Rounds Since Cohort Joined',\n",
    "        side='top'\n",
    "    ),\n",
    "    yaxis_title='Cohort',\n",
    "    plot_bgcolor='white',\n",
    "    font=dict(size=11),\n",
    "    width=800,\n",
    "    height=600\n",
    ")\n",
    "\n",
    "# Update x-axis and y-axis to show every number\n",
    "fig.update_xaxes(tickmode='linear', dtick=1)\n",
    "fig.update_yaxes(tickmode='linear', dtick=1)\n",
    "\n",
    "# Show the plot\n",
    "fig.show()"
   ]
  },
  {
   "cell_type": "code",
   "execution_count": 20,
   "metadata": {},
   "outputs": [
    {
     "data": {
      "text/plain": [
       "0     282611\n",
       "1      52906\n",
       "2      32135\n",
       "3      20963\n",
       "4      15321\n",
       "5      10240\n",
       "6       6714\n",
       "7       3725\n",
       "8       2710\n",
       "9       1546\n",
       "10      1065\n",
       "11       542\n",
       "12       232\n",
       "13        76\n",
       "14        31\n",
       "15        18\n",
       "16        13\n",
       "17         5\n",
       "18         1\n",
       "19         2\n",
       "dtype: int64"
      ]
     },
     "execution_count": 20,
     "metadata": {},
     "output_type": "execute_result"
    }
   ],
   "source": [
    "cohort_table.sum()"
   ]
  },
  {
   "cell_type": "code",
   "execution_count": 21,
   "metadata": {},
   "outputs": [
    {
     "data": {
      "application/vnd.plotly.v1+json": {
       "config": {
        "plotlyServerURL": "https://plot.ly"
       },
       "data": [
        {
         "line": {
          "color": "royalblue",
          "width": 2
         },
         "marker": {
          "color": "royalblue",
          "size": 8
         },
         "mode": "lines+markers+text",
         "name": "Mean Retention",
         "text": [
          "1.00",
          "0.25",
          "0.18",
          "0.13",
          "0.10",
          "0.07",
          "0.05",
          "0.05",
          "0.04",
          "0.03",
          "0.03",
          "0.03",
          "0.03",
          "0.02",
          "0.01",
          "0.01",
          "0.02",
          "0.02",
          "0.01",
          "0.05"
         ],
         "textposition": "top center",
         "type": "scatter",
         "x": [
          0,
          1,
          2,
          3,
          4,
          5,
          6,
          7,
          8,
          9,
          10,
          11,
          12,
          13,
          14,
          15,
          16,
          17,
          18,
          19
         ],
         "y": [
          1,
          0.24881092016774167,
          0.17598225836870263,
          0.13399104620589694,
          0.09680809691650125,
          0.06652016943062704,
          0.053302542004735005,
          0.046477536000810026,
          0.03674468182498636,
          0.02835949610890738,
          0.02965843555599016,
          0.02739930036102678,
          0.029273733814563815,
          0.02228257974700202,
          0.012552337550715997,
          0.011556113609303195,
          0.020392370247477712,
          0.022920169261632678,
          0.012195121951219513,
          0.04878048780487805
         ]
        }
       ],
       "layout": {
        "font": {
         "color": "black",
         "size": 12
        },
        "height": 500,
        "margin": {
         "b": 50,
         "l": 50,
         "r": 50,
         "t": 50
        },
        "plot_bgcolor": "white",
        "showlegend": false,
        "template": {
         "data": {
          "bar": [
           {
            "error_x": {
             "color": "#2a3f5f"
            },
            "error_y": {
             "color": "#2a3f5f"
            },
            "marker": {
             "line": {
              "color": "#E5ECF6",
              "width": 0.5
             },
             "pattern": {
              "fillmode": "overlay",
              "size": 10,
              "solidity": 0.2
             }
            },
            "type": "bar"
           }
          ],
          "barpolar": [
           {
            "marker": {
             "line": {
              "color": "#E5ECF6",
              "width": 0.5
             },
             "pattern": {
              "fillmode": "overlay",
              "size": 10,
              "solidity": 0.2
             }
            },
            "type": "barpolar"
           }
          ],
          "carpet": [
           {
            "aaxis": {
             "endlinecolor": "#2a3f5f",
             "gridcolor": "white",
             "linecolor": "white",
             "minorgridcolor": "white",
             "startlinecolor": "#2a3f5f"
            },
            "baxis": {
             "endlinecolor": "#2a3f5f",
             "gridcolor": "white",
             "linecolor": "white",
             "minorgridcolor": "white",
             "startlinecolor": "#2a3f5f"
            },
            "type": "carpet"
           }
          ],
          "choropleth": [
           {
            "colorbar": {
             "outlinewidth": 0,
             "ticks": ""
            },
            "type": "choropleth"
           }
          ],
          "contour": [
           {
            "colorbar": {
             "outlinewidth": 0,
             "ticks": ""
            },
            "colorscale": [
             [
              0,
              "#0d0887"
             ],
             [
              0.1111111111111111,
              "#46039f"
             ],
             [
              0.2222222222222222,
              "#7201a8"
             ],
             [
              0.3333333333333333,
              "#9c179e"
             ],
             [
              0.4444444444444444,
              "#bd3786"
             ],
             [
              0.5555555555555556,
              "#d8576b"
             ],
             [
              0.6666666666666666,
              "#ed7953"
             ],
             [
              0.7777777777777778,
              "#fb9f3a"
             ],
             [
              0.8888888888888888,
              "#fdca26"
             ],
             [
              1,
              "#f0f921"
             ]
            ],
            "type": "contour"
           }
          ],
          "contourcarpet": [
           {
            "colorbar": {
             "outlinewidth": 0,
             "ticks": ""
            },
            "type": "contourcarpet"
           }
          ],
          "heatmap": [
           {
            "colorbar": {
             "outlinewidth": 0,
             "ticks": ""
            },
            "colorscale": [
             [
              0,
              "#0d0887"
             ],
             [
              0.1111111111111111,
              "#46039f"
             ],
             [
              0.2222222222222222,
              "#7201a8"
             ],
             [
              0.3333333333333333,
              "#9c179e"
             ],
             [
              0.4444444444444444,
              "#bd3786"
             ],
             [
              0.5555555555555556,
              "#d8576b"
             ],
             [
              0.6666666666666666,
              "#ed7953"
             ],
             [
              0.7777777777777778,
              "#fb9f3a"
             ],
             [
              0.8888888888888888,
              "#fdca26"
             ],
             [
              1,
              "#f0f921"
             ]
            ],
            "type": "heatmap"
           }
          ],
          "heatmapgl": [
           {
            "colorbar": {
             "outlinewidth": 0,
             "ticks": ""
            },
            "colorscale": [
             [
              0,
              "#0d0887"
             ],
             [
              0.1111111111111111,
              "#46039f"
             ],
             [
              0.2222222222222222,
              "#7201a8"
             ],
             [
              0.3333333333333333,
              "#9c179e"
             ],
             [
              0.4444444444444444,
              "#bd3786"
             ],
             [
              0.5555555555555556,
              "#d8576b"
             ],
             [
              0.6666666666666666,
              "#ed7953"
             ],
             [
              0.7777777777777778,
              "#fb9f3a"
             ],
             [
              0.8888888888888888,
              "#fdca26"
             ],
             [
              1,
              "#f0f921"
             ]
            ],
            "type": "heatmapgl"
           }
          ],
          "histogram": [
           {
            "marker": {
             "pattern": {
              "fillmode": "overlay",
              "size": 10,
              "solidity": 0.2
             }
            },
            "type": "histogram"
           }
          ],
          "histogram2d": [
           {
            "colorbar": {
             "outlinewidth": 0,
             "ticks": ""
            },
            "colorscale": [
             [
              0,
              "#0d0887"
             ],
             [
              0.1111111111111111,
              "#46039f"
             ],
             [
              0.2222222222222222,
              "#7201a8"
             ],
             [
              0.3333333333333333,
              "#9c179e"
             ],
             [
              0.4444444444444444,
              "#bd3786"
             ],
             [
              0.5555555555555556,
              "#d8576b"
             ],
             [
              0.6666666666666666,
              "#ed7953"
             ],
             [
              0.7777777777777778,
              "#fb9f3a"
             ],
             [
              0.8888888888888888,
              "#fdca26"
             ],
             [
              1,
              "#f0f921"
             ]
            ],
            "type": "histogram2d"
           }
          ],
          "histogram2dcontour": [
           {
            "colorbar": {
             "outlinewidth": 0,
             "ticks": ""
            },
            "colorscale": [
             [
              0,
              "#0d0887"
             ],
             [
              0.1111111111111111,
              "#46039f"
             ],
             [
              0.2222222222222222,
              "#7201a8"
             ],
             [
              0.3333333333333333,
              "#9c179e"
             ],
             [
              0.4444444444444444,
              "#bd3786"
             ],
             [
              0.5555555555555556,
              "#d8576b"
             ],
             [
              0.6666666666666666,
              "#ed7953"
             ],
             [
              0.7777777777777778,
              "#fb9f3a"
             ],
             [
              0.8888888888888888,
              "#fdca26"
             ],
             [
              1,
              "#f0f921"
             ]
            ],
            "type": "histogram2dcontour"
           }
          ],
          "mesh3d": [
           {
            "colorbar": {
             "outlinewidth": 0,
             "ticks": ""
            },
            "type": "mesh3d"
           }
          ],
          "parcoords": [
           {
            "line": {
             "colorbar": {
              "outlinewidth": 0,
              "ticks": ""
             }
            },
            "type": "parcoords"
           }
          ],
          "pie": [
           {
            "automargin": true,
            "type": "pie"
           }
          ],
          "scatter": [
           {
            "fillpattern": {
             "fillmode": "overlay",
             "size": 10,
             "solidity": 0.2
            },
            "type": "scatter"
           }
          ],
          "scatter3d": [
           {
            "line": {
             "colorbar": {
              "outlinewidth": 0,
              "ticks": ""
             }
            },
            "marker": {
             "colorbar": {
              "outlinewidth": 0,
              "ticks": ""
             }
            },
            "type": "scatter3d"
           }
          ],
          "scattercarpet": [
           {
            "marker": {
             "colorbar": {
              "outlinewidth": 0,
              "ticks": ""
             }
            },
            "type": "scattercarpet"
           }
          ],
          "scattergeo": [
           {
            "marker": {
             "colorbar": {
              "outlinewidth": 0,
              "ticks": ""
             }
            },
            "type": "scattergeo"
           }
          ],
          "scattergl": [
           {
            "marker": {
             "colorbar": {
              "outlinewidth": 0,
              "ticks": ""
             }
            },
            "type": "scattergl"
           }
          ],
          "scattermapbox": [
           {
            "marker": {
             "colorbar": {
              "outlinewidth": 0,
              "ticks": ""
             }
            },
            "type": "scattermapbox"
           }
          ],
          "scatterpolar": [
           {
            "marker": {
             "colorbar": {
              "outlinewidth": 0,
              "ticks": ""
             }
            },
            "type": "scatterpolar"
           }
          ],
          "scatterpolargl": [
           {
            "marker": {
             "colorbar": {
              "outlinewidth": 0,
              "ticks": ""
             }
            },
            "type": "scatterpolargl"
           }
          ],
          "scatterternary": [
           {
            "marker": {
             "colorbar": {
              "outlinewidth": 0,
              "ticks": ""
             }
            },
            "type": "scatterternary"
           }
          ],
          "surface": [
           {
            "colorbar": {
             "outlinewidth": 0,
             "ticks": ""
            },
            "colorscale": [
             [
              0,
              "#0d0887"
             ],
             [
              0.1111111111111111,
              "#46039f"
             ],
             [
              0.2222222222222222,
              "#7201a8"
             ],
             [
              0.3333333333333333,
              "#9c179e"
             ],
             [
              0.4444444444444444,
              "#bd3786"
             ],
             [
              0.5555555555555556,
              "#d8576b"
             ],
             [
              0.6666666666666666,
              "#ed7953"
             ],
             [
              0.7777777777777778,
              "#fb9f3a"
             ],
             [
              0.8888888888888888,
              "#fdca26"
             ],
             [
              1,
              "#f0f921"
             ]
            ],
            "type": "surface"
           }
          ],
          "table": [
           {
            "cells": {
             "fill": {
              "color": "#EBF0F8"
             },
             "line": {
              "color": "white"
             }
            },
            "header": {
             "fill": {
              "color": "#C8D4E3"
             },
             "line": {
              "color": "white"
             }
            },
            "type": "table"
           }
          ]
         },
         "layout": {
          "annotationdefaults": {
           "arrowcolor": "#2a3f5f",
           "arrowhead": 0,
           "arrowwidth": 1
          },
          "autotypenumbers": "strict",
          "coloraxis": {
           "colorbar": {
            "outlinewidth": 0,
            "ticks": ""
           }
          },
          "colorscale": {
           "diverging": [
            [
             0,
             "#8e0152"
            ],
            [
             0.1,
             "#c51b7d"
            ],
            [
             0.2,
             "#de77ae"
            ],
            [
             0.3,
             "#f1b6da"
            ],
            [
             0.4,
             "#fde0ef"
            ],
            [
             0.5,
             "#f7f7f7"
            ],
            [
             0.6,
             "#e6f5d0"
            ],
            [
             0.7,
             "#b8e186"
            ],
            [
             0.8,
             "#7fbc41"
            ],
            [
             0.9,
             "#4d9221"
            ],
            [
             1,
             "#276419"
            ]
           ],
           "sequential": [
            [
             0,
             "#0d0887"
            ],
            [
             0.1111111111111111,
             "#46039f"
            ],
            [
             0.2222222222222222,
             "#7201a8"
            ],
            [
             0.3333333333333333,
             "#9c179e"
            ],
            [
             0.4444444444444444,
             "#bd3786"
            ],
            [
             0.5555555555555556,
             "#d8576b"
            ],
            [
             0.6666666666666666,
             "#ed7953"
            ],
            [
             0.7777777777777778,
             "#fb9f3a"
            ],
            [
             0.8888888888888888,
             "#fdca26"
            ],
            [
             1,
             "#f0f921"
            ]
           ],
           "sequentialminus": [
            [
             0,
             "#0d0887"
            ],
            [
             0.1111111111111111,
             "#46039f"
            ],
            [
             0.2222222222222222,
             "#7201a8"
            ],
            [
             0.3333333333333333,
             "#9c179e"
            ],
            [
             0.4444444444444444,
             "#bd3786"
            ],
            [
             0.5555555555555556,
             "#d8576b"
            ],
            [
             0.6666666666666666,
             "#ed7953"
            ],
            [
             0.7777777777777778,
             "#fb9f3a"
            ],
            [
             0.8888888888888888,
             "#fdca26"
            ],
            [
             1,
             "#f0f921"
            ]
           ]
          },
          "colorway": [
           "#636efa",
           "#EF553B",
           "#00cc96",
           "#ab63fa",
           "#FFA15A",
           "#19d3f3",
           "#FF6692",
           "#B6E880",
           "#FF97FF",
           "#FECB52"
          ],
          "font": {
           "color": "#2a3f5f"
          },
          "geo": {
           "bgcolor": "white",
           "lakecolor": "white",
           "landcolor": "#E5ECF6",
           "showlakes": true,
           "showland": true,
           "subunitcolor": "white"
          },
          "hoverlabel": {
           "align": "left"
          },
          "hovermode": "closest",
          "mapbox": {
           "style": "light"
          },
          "paper_bgcolor": "white",
          "plot_bgcolor": "#E5ECF6",
          "polar": {
           "angularaxis": {
            "gridcolor": "white",
            "linecolor": "white",
            "ticks": ""
           },
           "bgcolor": "#E5ECF6",
           "radialaxis": {
            "gridcolor": "white",
            "linecolor": "white",
            "ticks": ""
           }
          },
          "scene": {
           "xaxis": {
            "backgroundcolor": "#E5ECF6",
            "gridcolor": "white",
            "gridwidth": 2,
            "linecolor": "white",
            "showbackground": true,
            "ticks": "",
            "zerolinecolor": "white"
           },
           "yaxis": {
            "backgroundcolor": "#E5ECF6",
            "gridcolor": "white",
            "gridwidth": 2,
            "linecolor": "white",
            "showbackground": true,
            "ticks": "",
            "zerolinecolor": "white"
           },
           "zaxis": {
            "backgroundcolor": "#E5ECF6",
            "gridcolor": "white",
            "gridwidth": 2,
            "linecolor": "white",
            "showbackground": true,
            "ticks": "",
            "zerolinecolor": "white"
           }
          },
          "shapedefaults": {
           "line": {
            "color": "#2a3f5f"
           }
          },
          "ternary": {
           "aaxis": {
            "gridcolor": "white",
            "linecolor": "white",
            "ticks": ""
           },
           "baxis": {
            "gridcolor": "white",
            "linecolor": "white",
            "ticks": ""
           },
           "bgcolor": "#E5ECF6",
           "caxis": {
            "gridcolor": "white",
            "linecolor": "white",
            "ticks": ""
           }
          },
          "title": {
           "x": 0.05
          },
          "xaxis": {
           "automargin": true,
           "gridcolor": "white",
           "linecolor": "white",
           "ticks": "",
           "title": {
            "standoff": 15
           },
           "zerolinecolor": "white",
           "zerolinewidth": 2
          },
          "yaxis": {
           "automargin": true,
           "gridcolor": "white",
           "linecolor": "white",
           "ticks": "",
           "title": {
            "standoff": 15
           },
           "zerolinecolor": "white",
           "zerolinewidth": 2
          }
         }
        },
        "title": {
         "font": {
          "color": "black",
          "size": 20
         },
         "text": "Retention Rate by Rounds Retained",
         "x": 0.5,
         "xanchor": "center"
        },
        "width": 800,
        "xaxis": {
         "dtick": 1,
         "linecolor": "black",
         "linewidth": 2,
         "mirror": false,
         "range": [
          0,
          20
         ],
         "showline": true,
         "tickfont": {
          "color": "black",
          "size": 12
         },
         "tickmode": "linear",
         "ticks": "outside",
         "title": {
          "text": "Rounds Retained"
         }
        },
        "yaxis": {
         "dtick": 0.1,
         "linecolor": "black",
         "linewidth": 2,
         "mirror": false,
         "range": [
          0,
          1
         ],
         "showline": true,
         "tickfont": {
          "color": "black",
          "size": 12
         },
         "tickmode": "linear",
         "ticks": "outside",
         "title": {
          "text": "Retention Rate"
         }
        }
       }
      }
     },
     "metadata": {},
     "output_type": "display_data"
    }
   ],
   "source": [
    "\n",
    "# Calculate the mean retention for each round\n",
    "for n in range(len(retention_table)):\n",
    "    if n != 0:\n",
    "        retention_table.iloc[n, -n:] = np.nan\n",
    "mean_retention = retention_table.mean()\n",
    "\n",
    "# Create a line plot for mean retention\n",
    "fig = go.Figure(data=go.Scatter(\n",
    "    x=mean_retention.index, \n",
    "    y=mean_retention.values, \n",
    "    mode='lines+markers+text', \n",
    "    name='Mean Retention', \n",
    "    text=[f'{x:.2f}' for x in mean_retention.values], \n",
    "    textposition='top center',\n",
    "    line=dict(color='royalblue', width=2),\n",
    "    marker=dict(color='royalblue', size=8)\n",
    "))\n",
    "\n",
    "# Customize the layout to remove the graph outline/box and adjust axes\n",
    "fig.update_layout(\n",
    "    title=dict(\n",
    "        text='Retention Rate by Rounds Retained',\n",
    "        x=0.5,\n",
    "        xanchor='center',\n",
    "        font=dict(size=20, color='black')\n",
    "    ),\n",
    "    xaxis=dict(\n",
    "        title='Rounds Retained',\n",
    "        showline=True,\n",
    "        linewidth=2,\n",
    "        linecolor='black',\n",
    "        mirror=False,\n",
    "        ticks='outside',\n",
    "        tickmode='linear',\n",
    "        dtick=1,\n",
    "        tickfont=dict(size=12, color='black'),\n",
    "        range=[0, max(mean_retention.index) + 1]  # Ensure x-axis starts from 0\n",
    "    ),\n",
    "    yaxis=dict(\n",
    "        title='Retention Rate',\n",
    "        showline=True,\n",
    "        linewidth=2,\n",
    "        linecolor='black',\n",
    "        mirror=False,\n",
    "        ticks='outside',\n",
    "        tickmode='linear',\n",
    "        dtick=0.1,\n",
    "        tickfont=dict(size=12, color='black'),\n",
    "        range=[0, 1]  # Ensure y-axis goes from 0 to 1\n",
    "    ),\n",
    "    plot_bgcolor='white',\n",
    "    font=dict(size=12, color='black'),\n",
    "    width=800,\n",
    "    height=500,\n",
    "    margin=dict(l=50, r=50, t=50, b=50),\n",
    "    showlegend=False\n",
    ")\n",
    "\n",
    "# Show the plot\n",
    "fig.show()\n"
   ]
  },
  {
   "cell_type": "code",
   "execution_count": 22,
   "metadata": {},
   "outputs": [
    {
     "data": {
      "application/vnd.plotly.v1+json": {
       "config": {
        "plotlyServerURL": "https://plot.ly"
       },
       "data": [
        {
         "mode": "lines+markers",
         "name": "Cohort 1",
         "type": "scatter",
         "x": [
          1,
          2,
          3,
          4,
          5,
          6,
          7,
          8,
          9,
          10,
          11,
          12,
          13,
          14,
          15,
          16,
          17,
          18,
          19
         ],
         "y": [
          0.6341463414634146,
          0.34146341463414637,
          0.2682926829268293,
          0.21951219512195122,
          0.14634146341463414,
          0.0975609756097561,
          0.07317073170731707,
          0.07317073170731707,
          0.04878048780487805,
          0.07317073170731707,
          0.07317073170731707,
          0.07317073170731707,
          0.04878048780487805,
          0.024390243902439025,
          0.024390243902439025,
          0.04878048780487805,
          0.04878048780487805,
          0.024390243902439025,
          0.04878048780487805
         ]
        },
        {
         "mode": "lines+markers",
         "name": "Cohort 2",
         "type": "scatter",
         "x": [
          1,
          2,
          3,
          4,
          5,
          6,
          7,
          8,
          9,
          10,
          11,
          12,
          13,
          14,
          15,
          16,
          17,
          18,
          19
         ],
         "y": [
          0.3116883116883117,
          0.3116883116883117,
          0.24675324675324675,
          0.19480519480519481,
          0.05194805194805195,
          0.025974025974025976,
          0.05194805194805195,
          0.012987012987012988,
          0.012987012987012988,
          0,
          0.012987012987012988,
          0.025974025974025976,
          0.025974025974025976,
          0,
          0,
          0.012987012987012988,
          0.012987012987012988,
          0,
          null
         ]
        },
        {
         "mode": "lines+markers",
         "name": "Cohort 3",
         "type": "scatter",
         "x": [
          1,
          2,
          3,
          4,
          5,
          6,
          7,
          8,
          9,
          10,
          11,
          12,
          13,
          14,
          15,
          16,
          17,
          18,
          19
         ],
         "y": [
          0.4195804195804196,
          0.32867132867132864,
          0.1888111888111888,
          0.027972027972027972,
          0.024475524475524476,
          0.017482517482517484,
          0.013986013986013986,
          0.006993006993006993,
          0.02097902097902098,
          0.02097902097902098,
          0.006993006993006993,
          0.013986013986013986,
          0.006993006993006993,
          0.0034965034965034965,
          0.006993006993006993,
          0,
          0.006993006993006993,
          null,
          null
         ]
        },
        {
         "mode": "lines+markers",
         "name": "Cohort 4",
         "type": "scatter",
         "x": [
          1,
          2,
          3,
          4,
          5,
          6,
          7,
          8,
          9,
          10,
          11,
          12,
          13,
          14,
          15,
          16,
          17,
          18,
          19
         ],
         "y": [
          0.27920792079207923,
          0.09108910891089109,
          0.07326732673267326,
          0.06534653465346535,
          0.04356435643564356,
          0.033663366336633666,
          0.027722772277227723,
          0.039603960396039604,
          0.0297029702970297,
          0.03564356435643564,
          0.0297029702970297,
          0.01782178217821782,
          0.009900990099009901,
          0.011881188118811881,
          0.011881188118811881,
          0.019801980198019802,
          null,
          null,
          null
         ]
        },
        {
         "mode": "lines+markers",
         "name": "Cohort 5",
         "type": "scatter",
         "x": [
          1,
          2,
          3,
          4,
          5,
          6,
          7,
          8,
          9,
          10,
          11,
          12,
          13,
          14,
          15,
          16,
          17,
          18,
          19
         ],
         "y": [
          0.08870967741935484,
          0.043548387096774194,
          0.05,
          0.0467741935483871,
          0.03870967741935484,
          0.03064516129032258,
          0.025806451612903226,
          0.012903225806451613,
          0.012903225806451613,
          0.016129032258064516,
          0.016129032258064516,
          0.012903225806451613,
          0.01129032258064516,
          0.017741935483870968,
          0.014516129032258065,
          null,
          null,
          null,
          null
         ]
        },
        {
         "mode": "lines+markers",
         "name": "Cohort 6",
         "type": "scatter",
         "x": [
          1,
          2,
          3,
          4,
          5,
          6,
          7,
          8,
          9,
          10,
          11,
          12,
          13,
          14,
          15,
          16,
          17,
          18,
          19
         ],
         "y": [
          0.06083086053412463,
          0.07270029673590504,
          0.05341246290801187,
          0.05489614243323442,
          0.025222551928783383,
          0.03412462908011869,
          0.028189910979228485,
          0.02373887240356083,
          0.02967359050445104,
          0.019287833827893175,
          0.016320474777448073,
          0.020771513353115726,
          0.016320474777448073,
          0.017804154302670624,
          null,
          null,
          null,
          null,
          null
         ]
        },
        {
         "mode": "lines+markers",
         "name": "Cohort 7",
         "type": "scatter",
         "x": [
          1,
          2,
          3,
          4,
          5,
          6,
          7,
          8,
          9,
          10,
          11,
          12,
          13,
          14,
          15,
          16,
          17,
          18,
          19
         ],
         "y": [
          0.30234375,
          0.22734375,
          0.19765625,
          0.1453125,
          0.13515625,
          0.09453125,
          0.115625,
          0.09296875,
          0.03828125,
          0.03828125,
          0.03515625,
          0.040625,
          0.03671875,
          null,
          null,
          null,
          null,
          null,
          null
         ]
        },
        {
         "mode": "lines+markers",
         "name": "Cohort 8",
         "type": "scatter",
         "x": [
          1,
          2,
          3,
          4,
          5,
          6,
          7,
          8,
          9,
          10,
          11,
          12,
          13,
          14,
          15,
          16,
          17,
          18,
          19
         ],
         "y": [
          0.2829681686647375,
          0.21475816453079785,
          0.14840843323687475,
          0.13952046300124019,
          0.06862339809838776,
          0.1322860686233981,
          0.09632079371641174,
          0.054154609342703594,
          0.03596527490698636,
          0.04526663910706904,
          0.03947912360479537,
          0.028937577511368336,
          null,
          null,
          null,
          null,
          null,
          null,
          null
         ]
        },
        {
         "mode": "lines+markers",
         "name": "Cohort 9",
         "type": "scatter",
         "x": [
          1,
          2,
          3,
          4,
          5,
          6,
          7,
          8,
          9,
          10,
          11,
          12,
          13,
          14,
          15,
          16,
          17,
          18,
          19
         ],
         "y": [
          0.32332344962462933,
          0.21954450823291907,
          0.20333102012491325,
          0.10194940382310265,
          0.14257775534666584,
          0.08636679073875465,
          0.05065926439972242,
          0.02630748848653082,
          0.030408176140306605,
          0.024856475932117848,
          0.016655100624566273,
          null,
          null,
          null,
          null,
          null,
          null,
          null,
          null
         ]
        },
        {
         "mode": "lines+markers",
         "name": "Cohort 10",
         "type": "scatter",
         "x": [
          1,
          2,
          3,
          4,
          5,
          6,
          7,
          8,
          9,
          10,
          11,
          12,
          13,
          14,
          15,
          16,
          17,
          18,
          19
         ],
         "y": [
          0.2572228006246747,
          0.21388599687662677,
          0.12877407600208224,
          0.1515486725663717,
          0.09799583550234253,
          0.049843831337844875,
          0.021993753253513795,
          0.03669963560645497,
          0.025572618427902136,
          0.022969807391983343,
          null,
          null,
          null,
          null,
          null,
          null,
          null,
          null,
          null
         ]
        },
        {
         "mode": "lines+markers",
         "name": "Cohort 11",
         "type": "scatter",
         "x": [
          1,
          2,
          3,
          4,
          5,
          6,
          7,
          8,
          9,
          10,
          11,
          12,
          13,
          14,
          15,
          16,
          17,
          18,
          19
         ],
         "y": [
          0.28231407187647495,
          0.1697795158789023,
          0.17153260063380757,
          0.1152990358033848,
          0.05522216977951588,
          0.021576427752680198,
          0.03991639134245836,
          0.029735014496662396,
          0.026700829343941742,
          null,
          null,
          null,
          null,
          null,
          null,
          null,
          null,
          null,
          null
         ]
        },
        {
         "mode": "lines+markers",
         "name": "Cohort 12",
         "type": "scatter",
         "x": [
          1,
          2,
          3,
          4,
          5,
          6,
          7,
          8,
          9,
          10,
          11,
          12,
          13,
          14,
          15,
          16,
          17,
          18,
          19
         ],
         "y": [
          0.20711830579886906,
          0.19931995417082454,
          0.1417378127656429,
          0.06948294341575192,
          0.025427800569168792,
          0.05883874782865802,
          0.0392504712274088,
          0.03167387367409543,
          null,
          null,
          null,
          null,
          null,
          null,
          null,
          null,
          null,
          null,
          null
         ]
        },
        {
         "mode": "lines+markers",
         "name": "Cohort 13",
         "type": "scatter",
         "x": [
          1,
          2,
          3,
          4,
          5,
          6,
          7,
          8,
          9,
          10,
          11,
          12,
          13,
          14,
          15,
          16,
          17,
          18,
          19
         ],
         "y": [
          0.20101157176795156,
          0.15158249674304544,
          0.06046440340255958,
          0.024446317725496207,
          0.05755230285845659,
          0.03256954555904667,
          0.01961836156027282,
          null,
          null,
          null,
          null,
          null,
          null,
          null,
          null,
          null,
          null,
          null,
          null
         ]
        },
        {
         "mode": "lines+markers",
         "name": "Cohort 14",
         "type": "scatter",
         "x": [
          1,
          2,
          3,
          4,
          5,
          6,
          7,
          8,
          9,
          10,
          11,
          12,
          13,
          14,
          15,
          16,
          17,
          18,
          19
         ],
         "y": [
          0.23996248882297777,
          0.10786644276274181,
          0.04656183892002704,
          0.08348417769829673,
          0.05689922142498855,
          0.030772250452533095,
          null,
          null,
          null,
          null,
          null,
          null,
          null,
          null,
          null,
          null,
          null,
          null,
          null
         ]
        },
        {
         "mode": "lines+markers",
         "name": "Cohort 15",
         "type": "scatter",
         "x": [
          1,
          2,
          3,
          4,
          5,
          6,
          7,
          8,
          9,
          10,
          11,
          12,
          13,
          14,
          15,
          16,
          17,
          18,
          19
         ],
         "y": [
          0.08744641090469385,
          0.03756732988897439,
          0.06502143563812246,
          0.04512476640650764,
          0.028086182257887216,
          null,
          null,
          null,
          null,
          null,
          null,
          null,
          null,
          null,
          null,
          null,
          null,
          null,
          null
         ]
        },
        {
         "mode": "lines+markers",
         "name": "Cohort 16",
         "type": "scatter",
         "x": [
          1,
          2,
          3,
          4,
          5,
          6,
          7,
          8,
          9,
          10,
          11,
          12,
          13,
          14,
          15,
          16,
          17,
          18,
          19
         ],
         "y": [
          0.171296880919308,
          0.17224397019825735,
          0.1156080313170855,
          0.06345498168960727,
          null,
          null,
          null,
          null,
          null,
          null,
          null,
          null,
          null,
          null,
          null,
          null,
          null,
          null,
          null
         ]
        },
        {
         "mode": "lines+markers",
         "name": "Cohort 17",
         "type": "scatter",
         "x": [
          1,
          2,
          3,
          4,
          5,
          6,
          7,
          8,
          9,
          10,
          11,
          12,
          13,
          14,
          15,
          16,
          17,
          18,
          19
         ],
         "y": [
          0.24833726668096975,
          0.15908603304012015,
          0.118214975327183,
          null,
          null,
          null,
          null,
          null,
          null,
          null,
          null,
          null,
          null,
          null,
          null,
          null,
          null,
          null,
          null
         ]
        },
        {
         "mode": "lines+markers",
         "name": "Cohort 18",
         "type": "scatter",
         "x": [
          1,
          2,
          3,
          4,
          5,
          6,
          7,
          8,
          9,
          10,
          11,
          12,
          13,
          14,
          15,
          16,
          17,
          18,
          19
         ],
         "y": [
          0.2423606762680025,
          0.10554164057608015,
          null,
          null,
          null,
          null,
          null,
          null,
          null,
          null,
          null,
          null,
          null,
          null,
          null,
          null,
          null,
          null,
          null
         ]
        },
        {
         "mode": "lines+markers",
         "name": "Cohort 19",
         "type": "scatter",
         "x": [
          1,
          2,
          3,
          4,
          5,
          6,
          7,
          8,
          9,
          10,
          11,
          12,
          13,
          14,
          15,
          16,
          17,
          18,
          19
         ],
         "y": [
          0.08753810975609756,
          null,
          null,
          null,
          null,
          null,
          null,
          null,
          null,
          null,
          null,
          null,
          null,
          null,
          null,
          null,
          null,
          null,
          null
         ]
        },
        {
         "mode": "lines+markers",
         "name": "Cohort 20",
         "type": "scatter",
         "x": [
          1,
          2,
          3,
          4,
          5,
          6,
          7,
          8,
          9,
          10,
          11,
          12,
          13,
          14,
          15,
          16,
          17,
          18,
          19
         ],
         "y": [
          null,
          null,
          null,
          null,
          null,
          null,
          null,
          null,
          null,
          null,
          null,
          null,
          null,
          null,
          null,
          null,
          null,
          null,
          null
         ]
        }
       ],
       "layout": {
        "font": {
         "size": 11
        },
        "height": 600,
        "plot_bgcolor": "white",
        "template": {
         "data": {
          "bar": [
           {
            "error_x": {
             "color": "#2a3f5f"
            },
            "error_y": {
             "color": "#2a3f5f"
            },
            "marker": {
             "line": {
              "color": "#E5ECF6",
              "width": 0.5
             },
             "pattern": {
              "fillmode": "overlay",
              "size": 10,
              "solidity": 0.2
             }
            },
            "type": "bar"
           }
          ],
          "barpolar": [
           {
            "marker": {
             "line": {
              "color": "#E5ECF6",
              "width": 0.5
             },
             "pattern": {
              "fillmode": "overlay",
              "size": 10,
              "solidity": 0.2
             }
            },
            "type": "barpolar"
           }
          ],
          "carpet": [
           {
            "aaxis": {
             "endlinecolor": "#2a3f5f",
             "gridcolor": "white",
             "linecolor": "white",
             "minorgridcolor": "white",
             "startlinecolor": "#2a3f5f"
            },
            "baxis": {
             "endlinecolor": "#2a3f5f",
             "gridcolor": "white",
             "linecolor": "white",
             "minorgridcolor": "white",
             "startlinecolor": "#2a3f5f"
            },
            "type": "carpet"
           }
          ],
          "choropleth": [
           {
            "colorbar": {
             "outlinewidth": 0,
             "ticks": ""
            },
            "type": "choropleth"
           }
          ],
          "contour": [
           {
            "colorbar": {
             "outlinewidth": 0,
             "ticks": ""
            },
            "colorscale": [
             [
              0,
              "#0d0887"
             ],
             [
              0.1111111111111111,
              "#46039f"
             ],
             [
              0.2222222222222222,
              "#7201a8"
             ],
             [
              0.3333333333333333,
              "#9c179e"
             ],
             [
              0.4444444444444444,
              "#bd3786"
             ],
             [
              0.5555555555555556,
              "#d8576b"
             ],
             [
              0.6666666666666666,
              "#ed7953"
             ],
             [
              0.7777777777777778,
              "#fb9f3a"
             ],
             [
              0.8888888888888888,
              "#fdca26"
             ],
             [
              1,
              "#f0f921"
             ]
            ],
            "type": "contour"
           }
          ],
          "contourcarpet": [
           {
            "colorbar": {
             "outlinewidth": 0,
             "ticks": ""
            },
            "type": "contourcarpet"
           }
          ],
          "heatmap": [
           {
            "colorbar": {
             "outlinewidth": 0,
             "ticks": ""
            },
            "colorscale": [
             [
              0,
              "#0d0887"
             ],
             [
              0.1111111111111111,
              "#46039f"
             ],
             [
              0.2222222222222222,
              "#7201a8"
             ],
             [
              0.3333333333333333,
              "#9c179e"
             ],
             [
              0.4444444444444444,
              "#bd3786"
             ],
             [
              0.5555555555555556,
              "#d8576b"
             ],
             [
              0.6666666666666666,
              "#ed7953"
             ],
             [
              0.7777777777777778,
              "#fb9f3a"
             ],
             [
              0.8888888888888888,
              "#fdca26"
             ],
             [
              1,
              "#f0f921"
             ]
            ],
            "type": "heatmap"
           }
          ],
          "heatmapgl": [
           {
            "colorbar": {
             "outlinewidth": 0,
             "ticks": ""
            },
            "colorscale": [
             [
              0,
              "#0d0887"
             ],
             [
              0.1111111111111111,
              "#46039f"
             ],
             [
              0.2222222222222222,
              "#7201a8"
             ],
             [
              0.3333333333333333,
              "#9c179e"
             ],
             [
              0.4444444444444444,
              "#bd3786"
             ],
             [
              0.5555555555555556,
              "#d8576b"
             ],
             [
              0.6666666666666666,
              "#ed7953"
             ],
             [
              0.7777777777777778,
              "#fb9f3a"
             ],
             [
              0.8888888888888888,
              "#fdca26"
             ],
             [
              1,
              "#f0f921"
             ]
            ],
            "type": "heatmapgl"
           }
          ],
          "histogram": [
           {
            "marker": {
             "pattern": {
              "fillmode": "overlay",
              "size": 10,
              "solidity": 0.2
             }
            },
            "type": "histogram"
           }
          ],
          "histogram2d": [
           {
            "colorbar": {
             "outlinewidth": 0,
             "ticks": ""
            },
            "colorscale": [
             [
              0,
              "#0d0887"
             ],
             [
              0.1111111111111111,
              "#46039f"
             ],
             [
              0.2222222222222222,
              "#7201a8"
             ],
             [
              0.3333333333333333,
              "#9c179e"
             ],
             [
              0.4444444444444444,
              "#bd3786"
             ],
             [
              0.5555555555555556,
              "#d8576b"
             ],
             [
              0.6666666666666666,
              "#ed7953"
             ],
             [
              0.7777777777777778,
              "#fb9f3a"
             ],
             [
              0.8888888888888888,
              "#fdca26"
             ],
             [
              1,
              "#f0f921"
             ]
            ],
            "type": "histogram2d"
           }
          ],
          "histogram2dcontour": [
           {
            "colorbar": {
             "outlinewidth": 0,
             "ticks": ""
            },
            "colorscale": [
             [
              0,
              "#0d0887"
             ],
             [
              0.1111111111111111,
              "#46039f"
             ],
             [
              0.2222222222222222,
              "#7201a8"
             ],
             [
              0.3333333333333333,
              "#9c179e"
             ],
             [
              0.4444444444444444,
              "#bd3786"
             ],
             [
              0.5555555555555556,
              "#d8576b"
             ],
             [
              0.6666666666666666,
              "#ed7953"
             ],
             [
              0.7777777777777778,
              "#fb9f3a"
             ],
             [
              0.8888888888888888,
              "#fdca26"
             ],
             [
              1,
              "#f0f921"
             ]
            ],
            "type": "histogram2dcontour"
           }
          ],
          "mesh3d": [
           {
            "colorbar": {
             "outlinewidth": 0,
             "ticks": ""
            },
            "type": "mesh3d"
           }
          ],
          "parcoords": [
           {
            "line": {
             "colorbar": {
              "outlinewidth": 0,
              "ticks": ""
             }
            },
            "type": "parcoords"
           }
          ],
          "pie": [
           {
            "automargin": true,
            "type": "pie"
           }
          ],
          "scatter": [
           {
            "fillpattern": {
             "fillmode": "overlay",
             "size": 10,
             "solidity": 0.2
            },
            "type": "scatter"
           }
          ],
          "scatter3d": [
           {
            "line": {
             "colorbar": {
              "outlinewidth": 0,
              "ticks": ""
             }
            },
            "marker": {
             "colorbar": {
              "outlinewidth": 0,
              "ticks": ""
             }
            },
            "type": "scatter3d"
           }
          ],
          "scattercarpet": [
           {
            "marker": {
             "colorbar": {
              "outlinewidth": 0,
              "ticks": ""
             }
            },
            "type": "scattercarpet"
           }
          ],
          "scattergeo": [
           {
            "marker": {
             "colorbar": {
              "outlinewidth": 0,
              "ticks": ""
             }
            },
            "type": "scattergeo"
           }
          ],
          "scattergl": [
           {
            "marker": {
             "colorbar": {
              "outlinewidth": 0,
              "ticks": ""
             }
            },
            "type": "scattergl"
           }
          ],
          "scattermapbox": [
           {
            "marker": {
             "colorbar": {
              "outlinewidth": 0,
              "ticks": ""
             }
            },
            "type": "scattermapbox"
           }
          ],
          "scatterpolar": [
           {
            "marker": {
             "colorbar": {
              "outlinewidth": 0,
              "ticks": ""
             }
            },
            "type": "scatterpolar"
           }
          ],
          "scatterpolargl": [
           {
            "marker": {
             "colorbar": {
              "outlinewidth": 0,
              "ticks": ""
             }
            },
            "type": "scatterpolargl"
           }
          ],
          "scatterternary": [
           {
            "marker": {
             "colorbar": {
              "outlinewidth": 0,
              "ticks": ""
             }
            },
            "type": "scatterternary"
           }
          ],
          "surface": [
           {
            "colorbar": {
             "outlinewidth": 0,
             "ticks": ""
            },
            "colorscale": [
             [
              0,
              "#0d0887"
             ],
             [
              0.1111111111111111,
              "#46039f"
             ],
             [
              0.2222222222222222,
              "#7201a8"
             ],
             [
              0.3333333333333333,
              "#9c179e"
             ],
             [
              0.4444444444444444,
              "#bd3786"
             ],
             [
              0.5555555555555556,
              "#d8576b"
             ],
             [
              0.6666666666666666,
              "#ed7953"
             ],
             [
              0.7777777777777778,
              "#fb9f3a"
             ],
             [
              0.8888888888888888,
              "#fdca26"
             ],
             [
              1,
              "#f0f921"
             ]
            ],
            "type": "surface"
           }
          ],
          "table": [
           {
            "cells": {
             "fill": {
              "color": "#EBF0F8"
             },
             "line": {
              "color": "white"
             }
            },
            "header": {
             "fill": {
              "color": "#C8D4E3"
             },
             "line": {
              "color": "white"
             }
            },
            "type": "table"
           }
          ]
         },
         "layout": {
          "annotationdefaults": {
           "arrowcolor": "#2a3f5f",
           "arrowhead": 0,
           "arrowwidth": 1
          },
          "autotypenumbers": "strict",
          "coloraxis": {
           "colorbar": {
            "outlinewidth": 0,
            "ticks": ""
           }
          },
          "colorscale": {
           "diverging": [
            [
             0,
             "#8e0152"
            ],
            [
             0.1,
             "#c51b7d"
            ],
            [
             0.2,
             "#de77ae"
            ],
            [
             0.3,
             "#f1b6da"
            ],
            [
             0.4,
             "#fde0ef"
            ],
            [
             0.5,
             "#f7f7f7"
            ],
            [
             0.6,
             "#e6f5d0"
            ],
            [
             0.7,
             "#b8e186"
            ],
            [
             0.8,
             "#7fbc41"
            ],
            [
             0.9,
             "#4d9221"
            ],
            [
             1,
             "#276419"
            ]
           ],
           "sequential": [
            [
             0,
             "#0d0887"
            ],
            [
             0.1111111111111111,
             "#46039f"
            ],
            [
             0.2222222222222222,
             "#7201a8"
            ],
            [
             0.3333333333333333,
             "#9c179e"
            ],
            [
             0.4444444444444444,
             "#bd3786"
            ],
            [
             0.5555555555555556,
             "#d8576b"
            ],
            [
             0.6666666666666666,
             "#ed7953"
            ],
            [
             0.7777777777777778,
             "#fb9f3a"
            ],
            [
             0.8888888888888888,
             "#fdca26"
            ],
            [
             1,
             "#f0f921"
            ]
           ],
           "sequentialminus": [
            [
             0,
             "#0d0887"
            ],
            [
             0.1111111111111111,
             "#46039f"
            ],
            [
             0.2222222222222222,
             "#7201a8"
            ],
            [
             0.3333333333333333,
             "#9c179e"
            ],
            [
             0.4444444444444444,
             "#bd3786"
            ],
            [
             0.5555555555555556,
             "#d8576b"
            ],
            [
             0.6666666666666666,
             "#ed7953"
            ],
            [
             0.7777777777777778,
             "#fb9f3a"
            ],
            [
             0.8888888888888888,
             "#fdca26"
            ],
            [
             1,
             "#f0f921"
            ]
           ]
          },
          "colorway": [
           "#636efa",
           "#EF553B",
           "#00cc96",
           "#ab63fa",
           "#FFA15A",
           "#19d3f3",
           "#FF6692",
           "#B6E880",
           "#FF97FF",
           "#FECB52"
          ],
          "font": {
           "color": "#2a3f5f"
          },
          "geo": {
           "bgcolor": "white",
           "lakecolor": "white",
           "landcolor": "#E5ECF6",
           "showlakes": true,
           "showland": true,
           "subunitcolor": "white"
          },
          "hoverlabel": {
           "align": "left"
          },
          "hovermode": "closest",
          "mapbox": {
           "style": "light"
          },
          "paper_bgcolor": "white",
          "plot_bgcolor": "#E5ECF6",
          "polar": {
           "angularaxis": {
            "gridcolor": "white",
            "linecolor": "white",
            "ticks": ""
           },
           "bgcolor": "#E5ECF6",
           "radialaxis": {
            "gridcolor": "white",
            "linecolor": "white",
            "ticks": ""
           }
          },
          "scene": {
           "xaxis": {
            "backgroundcolor": "#E5ECF6",
            "gridcolor": "white",
            "gridwidth": 2,
            "linecolor": "white",
            "showbackground": true,
            "ticks": "",
            "zerolinecolor": "white"
           },
           "yaxis": {
            "backgroundcolor": "#E5ECF6",
            "gridcolor": "white",
            "gridwidth": 2,
            "linecolor": "white",
            "showbackground": true,
            "ticks": "",
            "zerolinecolor": "white"
           },
           "zaxis": {
            "backgroundcolor": "#E5ECF6",
            "gridcolor": "white",
            "gridwidth": 2,
            "linecolor": "white",
            "showbackground": true,
            "ticks": "",
            "zerolinecolor": "white"
           }
          },
          "shapedefaults": {
           "line": {
            "color": "#2a3f5f"
           }
          },
          "ternary": {
           "aaxis": {
            "gridcolor": "white",
            "linecolor": "white",
            "ticks": ""
           },
           "baxis": {
            "gridcolor": "white",
            "linecolor": "white",
            "ticks": ""
           },
           "bgcolor": "#E5ECF6",
           "caxis": {
            "gridcolor": "white",
            "linecolor": "white",
            "ticks": ""
           }
          },
          "title": {
           "x": 0.05
          },
          "xaxis": {
           "automargin": true,
           "gridcolor": "white",
           "linecolor": "white",
           "ticks": "",
           "title": {
            "standoff": 15
           },
           "zerolinecolor": "white",
           "zerolinewidth": 2
          },
          "yaxis": {
           "automargin": true,
           "gridcolor": "white",
           "linecolor": "white",
           "ticks": "",
           "title": {
            "standoff": 15
           },
           "zerolinecolor": "white",
           "zerolinewidth": 2
          }
         }
        },
        "title": {
         "text": "Retention by Cohort"
        },
        "width": 800,
        "xaxis": {
         "title": {
          "text": "Rounds Retained"
         }
        },
        "yaxis": {
         "title": {
          "text": "Retention Rate"
         }
        }
       }
      }
     },
     "metadata": {},
     "output_type": "display_data"
    }
   ],
   "source": [
    "import plotly.graph_objects as go\n",
    "\n",
    "# Create a line plot for retention by cohort\n",
    "fig = go.Figure()\n",
    "\n",
    "# Iterate over each cohort and add a line for each\n",
    "for cohort in retention_table.index:\n",
    "    fig.add_trace(go.Scatter(\n",
    "        x=retention_table.columns[1:],  # Exclude the first column to start x-axis at 1\n",
    "        y=retention_table.loc[cohort][1:],  # Exclude the first value to match x-axis\n",
    "        mode='lines+markers',\n",
    "        name=f'Cohort {cohort}'\n",
    "    ))\n",
    "\n",
    "# Add title and labels\n",
    "fig.update_layout(\n",
    "    title='Retention by Cohort',\n",
    "    xaxis_title='Rounds Retained',\n",
    "    yaxis_title='Retention Rate',\n",
    "    plot_bgcolor='white',\n",
    "    font=dict(size=11),\n",
    "    width=800,\n",
    "    height=600\n",
    ")\n",
    "\n",
    "# Show the plot\n",
    "fig.show()\n"
   ]
  },
  {
   "cell_type": "code",
   "execution_count": 30,
   "metadata": {},
   "outputs": [
    {
     "data": {
      "text/html": [
       "<div>\n",
       "<style scoped>\n",
       "    .dataframe tbody tr th:only-of-type {\n",
       "        vertical-align: middle;\n",
       "    }\n",
       "\n",
       "    .dataframe tbody tr th {\n",
       "        vertical-align: top;\n",
       "    }\n",
       "\n",
       "    .dataframe thead th {\n",
       "        text-align: right;\n",
       "    }\n",
       "</style>\n",
       "<table border=\"1\" class=\"dataframe\">\n",
       "  <thead>\n",
       "    <tr style=\"text-align: right;\">\n",
       "      <th></th>\n",
       "      <th>round_num</th>\n",
       "      <th>voter</th>\n",
       "      <th>cohort</th>\n",
       "      <th>prev_round</th>\n",
       "      <th>voter_type</th>\n",
       "    </tr>\n",
       "  </thead>\n",
       "  <tbody>\n",
       "    <tr>\n",
       "      <th>468</th>\n",
       "      <td>4.0</td>\n",
       "      <td>0x000000000000541e251335090ac5b47176af4f7e</td>\n",
       "      <td>4.0</td>\n",
       "      <td>NaN</td>\n",
       "      <td>new</td>\n",
       "    </tr>\n",
       "    <tr>\n",
       "      <th>2012</th>\n",
       "      <td>6.0</td>\n",
       "      <td>0x000000000000541e251335090ac5b47176af4f7e</td>\n",
       "      <td>4.0</td>\n",
       "      <td>4.0</td>\n",
       "      <td>resurrected</td>\n",
       "    </tr>\n",
       "    <tr>\n",
       "      <th>49101</th>\n",
       "      <td>11.0</td>\n",
       "      <td>0x00000000000360176d958e11c140308cd0863679</td>\n",
       "      <td>11.0</td>\n",
       "      <td>NaN</td>\n",
       "      <td>new</td>\n",
       "    </tr>\n",
       "    <tr>\n",
       "      <th>49102</th>\n",
       "      <td>11.0</td>\n",
       "      <td>0x00000000000cd56832ce5dfbcbff02e7ec639bc9</td>\n",
       "      <td>11.0</td>\n",
       "      <td>NaN</td>\n",
       "      <td>new</td>\n",
       "    </tr>\n",
       "    <tr>\n",
       "      <th>110997</th>\n",
       "      <td>13.0</td>\n",
       "      <td>0x00000000000cd56832ce5dfbcbff02e7ec639bc9</td>\n",
       "      <td>11.0</td>\n",
       "      <td>11.0</td>\n",
       "      <td>resurrected</td>\n",
       "    </tr>\n",
       "    <tr>\n",
       "      <th>136324</th>\n",
       "      <td>14.0</td>\n",
       "      <td>0x00000000000cd56832ce5dfbcbff02e7ec639bc9</td>\n",
       "      <td>11.0</td>\n",
       "      <td>13.0</td>\n",
       "      <td>retained</td>\n",
       "    </tr>\n",
       "    <tr>\n",
       "      <th>198179</th>\n",
       "      <td>15.0</td>\n",
       "      <td>0x00000000000cd56832ce5dfbcbff02e7ec639bc9</td>\n",
       "      <td>11.0</td>\n",
       "      <td>14.0</td>\n",
       "      <td>retained</td>\n",
       "    </tr>\n",
       "    <tr>\n",
       "      <th>9620</th>\n",
       "      <td>9.0</td>\n",
       "      <td>0x00000000005dbcb0d0513fcda746382fe8a53468</td>\n",
       "      <td>9.0</td>\n",
       "      <td>NaN</td>\n",
       "      <td>new</td>\n",
       "    </tr>\n",
       "    <tr>\n",
       "      <th>49103</th>\n",
       "      <td>11.0</td>\n",
       "      <td>0x00000000005ef87f8ca7014309ece7260bbcdaeb</td>\n",
       "      <td>11.0</td>\n",
       "      <td>NaN</td>\n",
       "      <td>new</td>\n",
       "    </tr>\n",
       "    <tr>\n",
       "      <th>136325</th>\n",
       "      <td>14.0</td>\n",
       "      <td>0x0000000002732779240fe05873611dc4203dfb71</td>\n",
       "      <td>14.0</td>\n",
       "      <td>NaN</td>\n",
       "      <td>new</td>\n",
       "    </tr>\n",
       "    <tr>\n",
       "      <th>256607</th>\n",
       "      <td>16.0</td>\n",
       "      <td>0x00000000037a08ce8c4917a5c58f40c85367df0c</td>\n",
       "      <td>16.0</td>\n",
       "      <td>NaN</td>\n",
       "      <td>new</td>\n",
       "    </tr>\n",
       "    <tr>\n",
       "      <th>285976</th>\n",
       "      <td>17.0</td>\n",
       "      <td>0x00000000037a08ce8c4917a5c58f40c85367df0c</td>\n",
       "      <td>16.0</td>\n",
       "      <td>16.0</td>\n",
       "      <td>retained</td>\n",
       "    </tr>\n",
       "    <tr>\n",
       "      <th>136326</th>\n",
       "      <td>14.0</td>\n",
       "      <td>0x00000000051cbce3fd04148cce2c0adc7c651829</td>\n",
       "      <td>14.0</td>\n",
       "      <td>NaN</td>\n",
       "      <td>new</td>\n",
       "    </tr>\n",
       "    <tr>\n",
       "      <th>9621</th>\n",
       "      <td>9.0</td>\n",
       "      <td>0x000000000a38444e0a6e37d3b630d7e855a7cb13</td>\n",
       "      <td>9.0</td>\n",
       "      <td>NaN</td>\n",
       "      <td>new</td>\n",
       "    </tr>\n",
       "    <tr>\n",
       "      <th>110998</th>\n",
       "      <td>13.0</td>\n",
       "      <td>0x000000000a38444e0a6e37d3b630d7e855a7cb13</td>\n",
       "      <td>9.0</td>\n",
       "      <td>9.0</td>\n",
       "      <td>resurrected</td>\n",
       "    </tr>\n",
       "  </tbody>\n",
       "</table>\n",
       "</div>"
      ],
      "text/plain": [
       "        round_num                                       voter  cohort  \\\n",
       "468           4.0  0x000000000000541e251335090ac5b47176af4f7e     4.0   \n",
       "2012          6.0  0x000000000000541e251335090ac5b47176af4f7e     4.0   \n",
       "49101        11.0  0x00000000000360176d958e11c140308cd0863679    11.0   \n",
       "49102        11.0  0x00000000000cd56832ce5dfbcbff02e7ec639bc9    11.0   \n",
       "110997       13.0  0x00000000000cd56832ce5dfbcbff02e7ec639bc9    11.0   \n",
       "136324       14.0  0x00000000000cd56832ce5dfbcbff02e7ec639bc9    11.0   \n",
       "198179       15.0  0x00000000000cd56832ce5dfbcbff02e7ec639bc9    11.0   \n",
       "9620          9.0  0x00000000005dbcb0d0513fcda746382fe8a53468     9.0   \n",
       "49103        11.0  0x00000000005ef87f8ca7014309ece7260bbcdaeb    11.0   \n",
       "136325       14.0  0x0000000002732779240fe05873611dc4203dfb71    14.0   \n",
       "256607       16.0  0x00000000037a08ce8c4917a5c58f40c85367df0c    16.0   \n",
       "285976       17.0  0x00000000037a08ce8c4917a5c58f40c85367df0c    16.0   \n",
       "136326       14.0  0x00000000051cbce3fd04148cce2c0adc7c651829    14.0   \n",
       "9621          9.0  0x000000000a38444e0a6e37d3b630d7e855a7cb13     9.0   \n",
       "110998       13.0  0x000000000a38444e0a6e37d3b630d7e855a7cb13     9.0   \n",
       "\n",
       "        prev_round   voter_type  \n",
       "468            NaN          new  \n",
       "2012           4.0  resurrected  \n",
       "49101          NaN          new  \n",
       "49102          NaN          new  \n",
       "110997        11.0  resurrected  \n",
       "136324        13.0     retained  \n",
       "198179        14.0     retained  \n",
       "9620           NaN          new  \n",
       "49103          NaN          new  \n",
       "136325         NaN          new  \n",
       "256607         NaN          new  \n",
       "285976        16.0     retained  \n",
       "136326         NaN          new  \n",
       "9621           NaN          new  \n",
       "110998         9.0  resurrected  "
      ]
     },
     "execution_count": 30,
     "metadata": {},
     "output_type": "execute_result"
    }
   ],
   "source": [
    "data_sorted = data.sort_values(by=['voter','round_num'])\n",
    "data_sorted.head(15)\n"
   ]
  },
  {
   "cell_type": "code",
   "execution_count": 41,
   "metadata": {},
   "outputs": [
    {
     "data": {
      "text/html": [
       "<div>\n",
       "<style scoped>\n",
       "    .dataframe tbody tr th:only-of-type {\n",
       "        vertical-align: middle;\n",
       "    }\n",
       "\n",
       "    .dataframe tbody tr th {\n",
       "        vertical-align: top;\n",
       "    }\n",
       "\n",
       "    .dataframe thead th {\n",
       "        text-align: right;\n",
       "    }\n",
       "</style>\n",
       "<table border=\"1\" class=\"dataframe\">\n",
       "  <thead>\n",
       "    <tr style=\"text-align: right;\">\n",
       "      <th>voter_type</th>\n",
       "      <th>new</th>\n",
       "      <th>resurrected</th>\n",
       "      <th>retained</th>\n",
       "    </tr>\n",
       "    <tr>\n",
       "      <th>round_num</th>\n",
       "      <th></th>\n",
       "      <th></th>\n",
       "      <th></th>\n",
       "    </tr>\n",
       "  </thead>\n",
       "  <tbody>\n",
       "    <tr>\n",
       "      <th>1.0</th>\n",
       "      <td>41.0</td>\n",
       "      <td>NaN</td>\n",
       "      <td>NaN</td>\n",
       "    </tr>\n",
       "    <tr>\n",
       "      <th>2.0</th>\n",
       "      <td>77.0</td>\n",
       "      <td>NaN</td>\n",
       "      <td>26.0</td>\n",
       "    </tr>\n",
       "    <tr>\n",
       "      <th>3.0</th>\n",
       "      <td>286.0</td>\n",
       "      <td>1.0</td>\n",
       "      <td>37.0</td>\n",
       "    </tr>\n",
       "    <tr>\n",
       "      <th>4.0</th>\n",
       "      <td>505.0</td>\n",
       "      <td>8.0</td>\n",
       "      <td>147.0</td>\n",
       "    </tr>\n",
       "    <tr>\n",
       "      <th>5.0</th>\n",
       "      <td>620.0</td>\n",
       "      <td>25.0</td>\n",
       "      <td>238.0</td>\n",
       "    </tr>\n",
       "    <tr>\n",
       "      <th>6.0</th>\n",
       "      <td>674.0</td>\n",
       "      <td>36.0</td>\n",
       "      <td>140.0</td>\n",
       "    </tr>\n",
       "    <tr>\n",
       "      <th>7.0</th>\n",
       "      <td>1280.0</td>\n",
       "      <td>62.0</td>\n",
       "      <td>59.0</td>\n",
       "    </tr>\n",
       "    <tr>\n",
       "      <th>8.0</th>\n",
       "      <td>4838.0</td>\n",
       "      <td>65.0</td>\n",
       "      <td>447.0</td>\n",
       "    </tr>\n",
       "    <tr>\n",
       "      <th>9.0</th>\n",
       "      <td>15851.0</td>\n",
       "      <td>132.0</td>\n",
       "      <td>1627.0</td>\n",
       "    </tr>\n",
       "    <tr>\n",
       "      <th>10.0</th>\n",
       "      <td>15368.0</td>\n",
       "      <td>433.0</td>\n",
       "      <td>6069.0</td>\n",
       "    </tr>\n",
       "    <tr>\n",
       "      <th>11.0</th>\n",
       "      <td>14831.0</td>\n",
       "      <td>1241.0</td>\n",
       "      <td>7152.0</td>\n",
       "    </tr>\n",
       "    <tr>\n",
       "      <th>12.0</th>\n",
       "      <td>27057.0</td>\n",
       "      <td>2798.0</td>\n",
       "      <td>8815.0</td>\n",
       "    </tr>\n",
       "    <tr>\n",
       "      <th>13.0</th>\n",
       "      <td>13049.0</td>\n",
       "      <td>1591.0</td>\n",
       "      <td>10631.0</td>\n",
       "    </tr>\n",
       "    <tr>\n",
       "      <th>14.0</th>\n",
       "      <td>45853.0</td>\n",
       "      <td>7798.0</td>\n",
       "      <td>8187.0</td>\n",
       "    </tr>\n",
       "    <tr>\n",
       "      <th>15.0</th>\n",
       "      <td>36388.0</td>\n",
       "      <td>3561.0</td>\n",
       "      <td>18477.0</td>\n",
       "    </tr>\n",
       "    <tr>\n",
       "      <th>16.0</th>\n",
       "      <td>15838.0</td>\n",
       "      <td>3704.0</td>\n",
       "      <td>9827.0</td>\n",
       "    </tr>\n",
       "    <tr>\n",
       "      <th>17.0</th>\n",
       "      <td>9322.0</td>\n",
       "      <td>2551.0</td>\n",
       "      <td>5996.0</td>\n",
       "    </tr>\n",
       "    <tr>\n",
       "      <th>18.0</th>\n",
       "      <td>31940.0</td>\n",
       "      <td>9114.0</td>\n",
       "      <td>6400.0</td>\n",
       "    </tr>\n",
       "    <tr>\n",
       "      <th>19.0</th>\n",
       "      <td>26240.0</td>\n",
       "      <td>3512.0</td>\n",
       "      <td>14782.0</td>\n",
       "    </tr>\n",
       "    <tr>\n",
       "      <th>20.0</th>\n",
       "      <td>22553.0</td>\n",
       "      <td>4686.0</td>\n",
       "      <td>7870.0</td>\n",
       "    </tr>\n",
       "  </tbody>\n",
       "</table>\n",
       "</div>"
      ],
      "text/plain": [
       "voter_type      new  resurrected  retained\n",
       "round_num                                 \n",
       "1.0            41.0          NaN       NaN\n",
       "2.0            77.0          NaN      26.0\n",
       "3.0           286.0          1.0      37.0\n",
       "4.0           505.0          8.0     147.0\n",
       "5.0           620.0         25.0     238.0\n",
       "6.0           674.0         36.0     140.0\n",
       "7.0          1280.0         62.0      59.0\n",
       "8.0          4838.0         65.0     447.0\n",
       "9.0         15851.0        132.0    1627.0\n",
       "10.0        15368.0        433.0    6069.0\n",
       "11.0        14831.0       1241.0    7152.0\n",
       "12.0        27057.0       2798.0    8815.0\n",
       "13.0        13049.0       1591.0   10631.0\n",
       "14.0        45853.0       7798.0    8187.0\n",
       "15.0        36388.0       3561.0   18477.0\n",
       "16.0        15838.0       3704.0    9827.0\n",
       "17.0         9322.0       2551.0    5996.0\n",
       "18.0        31940.0       9114.0    6400.0\n",
       "19.0        26240.0       3512.0   14782.0\n",
       "20.0        22553.0       4686.0    7870.0"
      ]
     },
     "execution_count": 41,
     "metadata": {},
     "output_type": "execute_result"
    }
   ],
   "source": [
    "def categorize_voter(row):\n",
    "    if pd.isnull(row['prev_round']) and pd.notnull(row['round_num']):\n",
    "        return 'new'\n",
    "    elif pd.notnull(row['prev_round']) and row['prev_round'] == row['round_num'] - 1:\n",
    "        return 'retained'\n",
    "    elif pd.notnull(row['prev_round']) and row['prev_round'] < row['round_num'] - 1:\n",
    "        return 'resurrected'\n",
    "\n",
    "# Create a new dataframe with previous round information\n",
    "data['prev_round'] = data.groupby('voter')['round_num'].shift()\n",
    "\n",
    "# Apply the function to categorize voters\n",
    "data['voter_type'] = data.apply(categorize_voter, axis=1)\n",
    "\n",
    "# Group by round_num and voter_type and count the unique voters\n",
    "voter_counts = data.groupby(['round_num', 'voter_type'])['voter'].nunique().reset_index()\n",
    "\n",
    "# Pivot the data for better readability\n",
    "voter_counts_pivot = voter_counts.pivot(index='round_num', columns='voter_type', values='voter')\n",
    "\n",
    "# Show the pivot table\n",
    "voter_counts_pivot"
   ]
  },
  {
   "cell_type": "code",
   "execution_count": 42,
   "metadata": {},
   "outputs": [
    {
     "data": {
      "application/vnd.plotly.v1+json": {
       "config": {
        "plotlyServerURL": "https://plot.ly"
       },
       "data": [
        {
         "name": "New",
         "type": "bar",
         "x": [
          1,
          2,
          3,
          4,
          5,
          6,
          7,
          8,
          9,
          10,
          11,
          12,
          13,
          14,
          15,
          16,
          17,
          18,
          19,
          20
         ],
         "y": [
          41,
          77,
          286,
          505,
          620,
          674,
          1280,
          4838,
          15851,
          15368,
          14831,
          27057,
          13049,
          45853,
          36388,
          15838,
          9322,
          31940,
          26240,
          22553
         ]
        },
        {
         "name": "Resurrected",
         "type": "bar",
         "x": [
          1,
          2,
          3,
          4,
          5,
          6,
          7,
          8,
          9,
          10,
          11,
          12,
          13,
          14,
          15,
          16,
          17,
          18,
          19,
          20
         ],
         "y": [
          null,
          null,
          1,
          8,
          25,
          36,
          62,
          65,
          132,
          433,
          1241,
          2798,
          1591,
          7798,
          3561,
          3704,
          2551,
          9114,
          3512,
          4686
         ]
        },
        {
         "name": "Retained",
         "type": "bar",
         "x": [
          1,
          2,
          3,
          4,
          5,
          6,
          7,
          8,
          9,
          10,
          11,
          12,
          13,
          14,
          15,
          16,
          17,
          18,
          19,
          20
         ],
         "y": [
          null,
          26,
          37,
          147,
          238,
          140,
          59,
          447,
          1627,
          6069,
          7152,
          8815,
          10631,
          8187,
          18477,
          9827,
          5996,
          6400,
          14782,
          7870
         ]
        }
       ],
       "layout": {
        "barmode": "stack",
        "plot_bgcolor": "white",
        "template": {
         "data": {
          "bar": [
           {
            "error_x": {
             "color": "#2a3f5f"
            },
            "error_y": {
             "color": "#2a3f5f"
            },
            "marker": {
             "line": {
              "color": "#E5ECF6",
              "width": 0.5
             },
             "pattern": {
              "fillmode": "overlay",
              "size": 10,
              "solidity": 0.2
             }
            },
            "type": "bar"
           }
          ],
          "barpolar": [
           {
            "marker": {
             "line": {
              "color": "#E5ECF6",
              "width": 0.5
             },
             "pattern": {
              "fillmode": "overlay",
              "size": 10,
              "solidity": 0.2
             }
            },
            "type": "barpolar"
           }
          ],
          "carpet": [
           {
            "aaxis": {
             "endlinecolor": "#2a3f5f",
             "gridcolor": "white",
             "linecolor": "white",
             "minorgridcolor": "white",
             "startlinecolor": "#2a3f5f"
            },
            "baxis": {
             "endlinecolor": "#2a3f5f",
             "gridcolor": "white",
             "linecolor": "white",
             "minorgridcolor": "white",
             "startlinecolor": "#2a3f5f"
            },
            "type": "carpet"
           }
          ],
          "choropleth": [
           {
            "colorbar": {
             "outlinewidth": 0,
             "ticks": ""
            },
            "type": "choropleth"
           }
          ],
          "contour": [
           {
            "colorbar": {
             "outlinewidth": 0,
             "ticks": ""
            },
            "colorscale": [
             [
              0,
              "#0d0887"
             ],
             [
              0.1111111111111111,
              "#46039f"
             ],
             [
              0.2222222222222222,
              "#7201a8"
             ],
             [
              0.3333333333333333,
              "#9c179e"
             ],
             [
              0.4444444444444444,
              "#bd3786"
             ],
             [
              0.5555555555555556,
              "#d8576b"
             ],
             [
              0.6666666666666666,
              "#ed7953"
             ],
             [
              0.7777777777777778,
              "#fb9f3a"
             ],
             [
              0.8888888888888888,
              "#fdca26"
             ],
             [
              1,
              "#f0f921"
             ]
            ],
            "type": "contour"
           }
          ],
          "contourcarpet": [
           {
            "colorbar": {
             "outlinewidth": 0,
             "ticks": ""
            },
            "type": "contourcarpet"
           }
          ],
          "heatmap": [
           {
            "colorbar": {
             "outlinewidth": 0,
             "ticks": ""
            },
            "colorscale": [
             [
              0,
              "#0d0887"
             ],
             [
              0.1111111111111111,
              "#46039f"
             ],
             [
              0.2222222222222222,
              "#7201a8"
             ],
             [
              0.3333333333333333,
              "#9c179e"
             ],
             [
              0.4444444444444444,
              "#bd3786"
             ],
             [
              0.5555555555555556,
              "#d8576b"
             ],
             [
              0.6666666666666666,
              "#ed7953"
             ],
             [
              0.7777777777777778,
              "#fb9f3a"
             ],
             [
              0.8888888888888888,
              "#fdca26"
             ],
             [
              1,
              "#f0f921"
             ]
            ],
            "type": "heatmap"
           }
          ],
          "heatmapgl": [
           {
            "colorbar": {
             "outlinewidth": 0,
             "ticks": ""
            },
            "colorscale": [
             [
              0,
              "#0d0887"
             ],
             [
              0.1111111111111111,
              "#46039f"
             ],
             [
              0.2222222222222222,
              "#7201a8"
             ],
             [
              0.3333333333333333,
              "#9c179e"
             ],
             [
              0.4444444444444444,
              "#bd3786"
             ],
             [
              0.5555555555555556,
              "#d8576b"
             ],
             [
              0.6666666666666666,
              "#ed7953"
             ],
             [
              0.7777777777777778,
              "#fb9f3a"
             ],
             [
              0.8888888888888888,
              "#fdca26"
             ],
             [
              1,
              "#f0f921"
             ]
            ],
            "type": "heatmapgl"
           }
          ],
          "histogram": [
           {
            "marker": {
             "pattern": {
              "fillmode": "overlay",
              "size": 10,
              "solidity": 0.2
             }
            },
            "type": "histogram"
           }
          ],
          "histogram2d": [
           {
            "colorbar": {
             "outlinewidth": 0,
             "ticks": ""
            },
            "colorscale": [
             [
              0,
              "#0d0887"
             ],
             [
              0.1111111111111111,
              "#46039f"
             ],
             [
              0.2222222222222222,
              "#7201a8"
             ],
             [
              0.3333333333333333,
              "#9c179e"
             ],
             [
              0.4444444444444444,
              "#bd3786"
             ],
             [
              0.5555555555555556,
              "#d8576b"
             ],
             [
              0.6666666666666666,
              "#ed7953"
             ],
             [
              0.7777777777777778,
              "#fb9f3a"
             ],
             [
              0.8888888888888888,
              "#fdca26"
             ],
             [
              1,
              "#f0f921"
             ]
            ],
            "type": "histogram2d"
           }
          ],
          "histogram2dcontour": [
           {
            "colorbar": {
             "outlinewidth": 0,
             "ticks": ""
            },
            "colorscale": [
             [
              0,
              "#0d0887"
             ],
             [
              0.1111111111111111,
              "#46039f"
             ],
             [
              0.2222222222222222,
              "#7201a8"
             ],
             [
              0.3333333333333333,
              "#9c179e"
             ],
             [
              0.4444444444444444,
              "#bd3786"
             ],
             [
              0.5555555555555556,
              "#d8576b"
             ],
             [
              0.6666666666666666,
              "#ed7953"
             ],
             [
              0.7777777777777778,
              "#fb9f3a"
             ],
             [
              0.8888888888888888,
              "#fdca26"
             ],
             [
              1,
              "#f0f921"
             ]
            ],
            "type": "histogram2dcontour"
           }
          ],
          "mesh3d": [
           {
            "colorbar": {
             "outlinewidth": 0,
             "ticks": ""
            },
            "type": "mesh3d"
           }
          ],
          "parcoords": [
           {
            "line": {
             "colorbar": {
              "outlinewidth": 0,
              "ticks": ""
             }
            },
            "type": "parcoords"
           }
          ],
          "pie": [
           {
            "automargin": true,
            "type": "pie"
           }
          ],
          "scatter": [
           {
            "fillpattern": {
             "fillmode": "overlay",
             "size": 10,
             "solidity": 0.2
            },
            "type": "scatter"
           }
          ],
          "scatter3d": [
           {
            "line": {
             "colorbar": {
              "outlinewidth": 0,
              "ticks": ""
             }
            },
            "marker": {
             "colorbar": {
              "outlinewidth": 0,
              "ticks": ""
             }
            },
            "type": "scatter3d"
           }
          ],
          "scattercarpet": [
           {
            "marker": {
             "colorbar": {
              "outlinewidth": 0,
              "ticks": ""
             }
            },
            "type": "scattercarpet"
           }
          ],
          "scattergeo": [
           {
            "marker": {
             "colorbar": {
              "outlinewidth": 0,
              "ticks": ""
             }
            },
            "type": "scattergeo"
           }
          ],
          "scattergl": [
           {
            "marker": {
             "colorbar": {
              "outlinewidth": 0,
              "ticks": ""
             }
            },
            "type": "scattergl"
           }
          ],
          "scattermapbox": [
           {
            "marker": {
             "colorbar": {
              "outlinewidth": 0,
              "ticks": ""
             }
            },
            "type": "scattermapbox"
           }
          ],
          "scatterpolar": [
           {
            "marker": {
             "colorbar": {
              "outlinewidth": 0,
              "ticks": ""
             }
            },
            "type": "scatterpolar"
           }
          ],
          "scatterpolargl": [
           {
            "marker": {
             "colorbar": {
              "outlinewidth": 0,
              "ticks": ""
             }
            },
            "type": "scatterpolargl"
           }
          ],
          "scatterternary": [
           {
            "marker": {
             "colorbar": {
              "outlinewidth": 0,
              "ticks": ""
             }
            },
            "type": "scatterternary"
           }
          ],
          "surface": [
           {
            "colorbar": {
             "outlinewidth": 0,
             "ticks": ""
            },
            "colorscale": [
             [
              0,
              "#0d0887"
             ],
             [
              0.1111111111111111,
              "#46039f"
             ],
             [
              0.2222222222222222,
              "#7201a8"
             ],
             [
              0.3333333333333333,
              "#9c179e"
             ],
             [
              0.4444444444444444,
              "#bd3786"
             ],
             [
              0.5555555555555556,
              "#d8576b"
             ],
             [
              0.6666666666666666,
              "#ed7953"
             ],
             [
              0.7777777777777778,
              "#fb9f3a"
             ],
             [
              0.8888888888888888,
              "#fdca26"
             ],
             [
              1,
              "#f0f921"
             ]
            ],
            "type": "surface"
           }
          ],
          "table": [
           {
            "cells": {
             "fill": {
              "color": "#EBF0F8"
             },
             "line": {
              "color": "white"
             }
            },
            "header": {
             "fill": {
              "color": "#C8D4E3"
             },
             "line": {
              "color": "white"
             }
            },
            "type": "table"
           }
          ]
         },
         "layout": {
          "annotationdefaults": {
           "arrowcolor": "#2a3f5f",
           "arrowhead": 0,
           "arrowwidth": 1
          },
          "autotypenumbers": "strict",
          "coloraxis": {
           "colorbar": {
            "outlinewidth": 0,
            "ticks": ""
           }
          },
          "colorscale": {
           "diverging": [
            [
             0,
             "#8e0152"
            ],
            [
             0.1,
             "#c51b7d"
            ],
            [
             0.2,
             "#de77ae"
            ],
            [
             0.3,
             "#f1b6da"
            ],
            [
             0.4,
             "#fde0ef"
            ],
            [
             0.5,
             "#f7f7f7"
            ],
            [
             0.6,
             "#e6f5d0"
            ],
            [
             0.7,
             "#b8e186"
            ],
            [
             0.8,
             "#7fbc41"
            ],
            [
             0.9,
             "#4d9221"
            ],
            [
             1,
             "#276419"
            ]
           ],
           "sequential": [
            [
             0,
             "#0d0887"
            ],
            [
             0.1111111111111111,
             "#46039f"
            ],
            [
             0.2222222222222222,
             "#7201a8"
            ],
            [
             0.3333333333333333,
             "#9c179e"
            ],
            [
             0.4444444444444444,
             "#bd3786"
            ],
            [
             0.5555555555555556,
             "#d8576b"
            ],
            [
             0.6666666666666666,
             "#ed7953"
            ],
            [
             0.7777777777777778,
             "#fb9f3a"
            ],
            [
             0.8888888888888888,
             "#fdca26"
            ],
            [
             1,
             "#f0f921"
            ]
           ],
           "sequentialminus": [
            [
             0,
             "#0d0887"
            ],
            [
             0.1111111111111111,
             "#46039f"
            ],
            [
             0.2222222222222222,
             "#7201a8"
            ],
            [
             0.3333333333333333,
             "#9c179e"
            ],
            [
             0.4444444444444444,
             "#bd3786"
            ],
            [
             0.5555555555555556,
             "#d8576b"
            ],
            [
             0.6666666666666666,
             "#ed7953"
            ],
            [
             0.7777777777777778,
             "#fb9f3a"
            ],
            [
             0.8888888888888888,
             "#fdca26"
            ],
            [
             1,
             "#f0f921"
            ]
           ]
          },
          "colorway": [
           "#636efa",
           "#EF553B",
           "#00cc96",
           "#ab63fa",
           "#FFA15A",
           "#19d3f3",
           "#FF6692",
           "#B6E880",
           "#FF97FF",
           "#FECB52"
          ],
          "font": {
           "color": "#2a3f5f"
          },
          "geo": {
           "bgcolor": "white",
           "lakecolor": "white",
           "landcolor": "#E5ECF6",
           "showlakes": true,
           "showland": true,
           "subunitcolor": "white"
          },
          "hoverlabel": {
           "align": "left"
          },
          "hovermode": "closest",
          "mapbox": {
           "style": "light"
          },
          "paper_bgcolor": "white",
          "plot_bgcolor": "#E5ECF6",
          "polar": {
           "angularaxis": {
            "gridcolor": "white",
            "linecolor": "white",
            "ticks": ""
           },
           "bgcolor": "#E5ECF6",
           "radialaxis": {
            "gridcolor": "white",
            "linecolor": "white",
            "ticks": ""
           }
          },
          "scene": {
           "xaxis": {
            "backgroundcolor": "#E5ECF6",
            "gridcolor": "white",
            "gridwidth": 2,
            "linecolor": "white",
            "showbackground": true,
            "ticks": "",
            "zerolinecolor": "white"
           },
           "yaxis": {
            "backgroundcolor": "#E5ECF6",
            "gridcolor": "white",
            "gridwidth": 2,
            "linecolor": "white",
            "showbackground": true,
            "ticks": "",
            "zerolinecolor": "white"
           },
           "zaxis": {
            "backgroundcolor": "#E5ECF6",
            "gridcolor": "white",
            "gridwidth": 2,
            "linecolor": "white",
            "showbackground": true,
            "ticks": "",
            "zerolinecolor": "white"
           }
          },
          "shapedefaults": {
           "line": {
            "color": "#2a3f5f"
           }
          },
          "ternary": {
           "aaxis": {
            "gridcolor": "white",
            "linecolor": "white",
            "ticks": ""
           },
           "baxis": {
            "gridcolor": "white",
            "linecolor": "white",
            "ticks": ""
           },
           "bgcolor": "#E5ECF6",
           "caxis": {
            "gridcolor": "white",
            "linecolor": "white",
            "ticks": ""
           }
          },
          "title": {
           "x": 0.05
          },
          "xaxis": {
           "automargin": true,
           "gridcolor": "white",
           "linecolor": "white",
           "ticks": "",
           "title": {
            "standoff": 15
           },
           "zerolinecolor": "white",
           "zerolinewidth": 2
          },
          "yaxis": {
           "automargin": true,
           "gridcolor": "white",
           "linecolor": "white",
           "ticks": "",
           "title": {
            "standoff": 15
           },
           "zerolinecolor": "white",
           "zerolinewidth": 2
          }
         }
        },
        "title": {
         "text": "Voter Counts by Round and Type"
        },
        "xaxis": {
         "linecolor": "black",
         "showgrid": false,
         "title": {
          "text": "Round Number"
         }
        },
        "yaxis": {
         "linecolor": "black",
         "showgrid": false,
         "title": {
          "text": "Voter Counts"
         }
        }
       }
      }
     },
     "metadata": {},
     "output_type": "display_data"
    }
   ],
   "source": [
    "import plotly.graph_objects as go\n",
    "\n",
    "# Create traces\n",
    "trace1 = go.Bar(x=voter_counts_pivot.index, y=voter_counts_pivot['new'], name='New')\n",
    "trace2 = go.Bar(x=voter_counts_pivot.index, y=voter_counts_pivot['resurrected'], name='Resurrected')\n",
    "trace3 = go.Bar(x=voter_counts_pivot.index, y=voter_counts_pivot['retained'], name='Retained')\n",
    "\n",
    "# Create layout\n",
    "layout = go.Layout(\n",
    "    title='Voter Counts by Round and Type',\n",
    "    xaxis=dict(title='Round Number', showgrid=False, linecolor='black'),\n",
    "    yaxis=dict(title='Voter Counts', showgrid=False, linecolor='black'),\n",
    "    plot_bgcolor='white',\n",
    "    barmode='stack'\n",
    ")\n",
    "\n",
    "# Create figure\n",
    "fig = go.Figure(data=[trace1, trace2, trace3], layout=layout)\n",
    "\n",
    "# Show the plot\n",
    "fig.show()\n",
    "\n"
   ]
  }
 ],
 "metadata": {
  "kernelspec": {
   "display_name": "streamy",
   "language": "python",
   "name": "python3"
  },
  "language_info": {
   "codemirror_mode": {
    "name": "ipython",
    "version": 3
   },
   "file_extension": ".py",
   "mimetype": "text/x-python",
   "name": "python",
   "nbconvert_exporter": "python",
   "pygments_lexer": "ipython3",
   "version": "3.11.8"
  }
 },
 "nbformat": 4,
 "nbformat_minor": 2
}
